{
  "cells": [
    {
      "cell_type": "code",
      "execution_count": 1,
      "metadata": {
        "id": "pUeBFry9q4ES"
      },
      "outputs": [],
      "source": [
        "import numpy as np\n",
        "import pandas as pd\n",
        "import matplotlib.pyplot as plt\n",
        "import re\n",
        "import seaborn as sns\n",
        "from sklearn.preprocessing import MinMaxScaler,StandardScaler,RobustScaler,MaxAbsScaler\n",
        "from sklearn.preprocessing import PowerTransformer, QuantileTransformer, Normalizer\n",
        "from sklearn.compose import ColumnTransformer\n",
        "from sklearn.pipeline import Pipeline\n",
        "from sklearn.preprocessing import OneHotEncoder\n",
        "from sklearn.metrics import r2_score,mean_absolute_error\n",
        "from sklearn.linear_model import LinearRegression,Ridge,Lasso\n",
        "from sklearn.neighbors import KNeighborsRegressor\n",
        "from sklearn.tree import DecisionTreeRegressor\n",
        "from sklearn.ensemble import RandomForestRegressor,GradientBoostingRegressor,AdaBoostRegressor,ExtraTreesRegressor\n",
        "from sklearn.svm import SVR\n",
        "from xgboost import XGBRegressor\n",
        "from sklearn.metrics import mean_squared_error\n",
        "from sklearn.metrics import accuracy_score\n",
        "from sklearn.feature_selection import SelectKBest\n",
        "from sklearn.feature_selection import chi2\n",
        "from sklearn.preprocessing import LabelEncoder\n",
        "from sklearn.feature_selection import RFE\n",
        "from sklearn.model_selection import cross_validate"
      ]
    },
    {
      "attachments": {},
      "cell_type": "markdown",
      "metadata": {
        "id": "8ef5VFqPTy4E"
      },
      "source": [
        "XỬ LÝ DỮ LIỆU"
      ]
    },
    {
      "cell_type": "code",
      "execution_count": 5,
      "metadata": {
        "id": "CV3mS9Y8zoim"
      },
      "outputs": [],
      "source": [
        "# Hàm trích xuất giá trị số từ chuỗi\n",
        "def extract_memory_size(string):\n",
        "    match = re.search(r'(\\d+\\.?\\d*)\\s*(?:TB|GB)', string)\n",
        "    if match:\n",
        "        return match.group()\n",
        "    else:\n",
        "        return None\n",
        "# Hàm trích thay đổi giá trị từ TB sang TB    \n",
        "def convert_to_gb(x):\n",
        "    if isinstance(x, str):\n",
        "        x = x.lower()\n",
        "        if 'tb' in x:\n",
        "            return int(float(x.replace('tb', '')) * 1024)\n",
        "        elif 'gb' in x:\n",
        "            return int(float(x.replace('gb', '')))\n",
        "    return x\n",
        "def convert_to_float(x):\n",
        "    try:\n",
        "        return float(x)\n",
        "    except ValueError:\n",
        "        return np.nan\n",
        "def try_convert_to_int(x):\n",
        "    try:\n",
        "        return int(x)\n",
        "    except ValueError:\n",
        "        return None\n",
        "def fetch_processor(text):\n",
        "    text = str(text)\n",
        "    if 'Core i9' in text or 'Intel Core i9' in text:\n",
        "        return 'Intel Core i9'\n",
        "    elif 'Core i7' in text or 'Intel Core i7' in text:\n",
        "        return 'Intel Core i7'\n",
        "    elif 'Core i5' in text or 'Intel Core i5' in text:\n",
        "        return 'Intel Core i5' \n",
        "    elif 'Core i3' in text or 'Intel Core i3' in text:\n",
        "        return 'Intel Core i3'  \n",
        "    else:\n",
        "        if text.split()[0] == 'Intel':\n",
        "            return 'Other Intel Processor'\n",
        "        elif 'AMD' in text or 'Ryzen' in text:\n",
        "            return 'AMD Processor'\n",
        "        elif 'celeron' in text or 'Celeron' in text:\n",
        "            return 'Celeron Processor'\n",
        "        elif 'Pentium' in text or 'Pentium' in text:\n",
        "            return 'Pentium Processor'\n",
        "        elif 'Athlon' in text or 'athlon' in text:\n",
        "            return 'Athlon Processor'\n",
        "        else :\n",
        "            return None\n",
        "def fetch_gpu(text):\n",
        "    text = str(text)\n",
        "    if 'Intel' in text or 'UHD' in text or  'HD' in text:\n",
        "        return 'Intel '\n",
        "    elif 'AMD' in text or 'Radeon' in text:\n",
        "        return 'AMD'\n",
        "    elif 'NVIDIA' in text or 'GTX' in text or 'RTX' in text:\n",
        "        return 'NVIDIA'   \n",
        "    else:\n",
        "        return None\n",
        "def fetch_opsys(text):\n",
        "    text = str(text)\n",
        "    if 'Chrome' in text:\n",
        "        return 'Chrome OS'\n",
        "    elif 'Windows' in text:\n",
        "        return 'Windows'  \n",
        "    else:\n",
        "        return 'Others/Linux/Mac OS'\n",
        "def fetch_company(text):\n",
        "    text = str(text)\n",
        "    if 'Dell' in text or 'DELL' in text:\n",
        "        return 'Dell'\n",
        "    elif 'MSI' in text:\n",
        "        return 'MSI'\n",
        "    elif 'HP' in text or 'Hp' in text:\n",
        "        return 'HP'   \n",
        "    elif 'Acer' in text or 'ACER' in text:\n",
        "        return 'Acer'   \n",
        "    elif 'Razer' in text or 'RAZER' in text:\n",
        "        return 'Razer'\n",
        "    elif 'Apple' in text:\n",
        "        return 'Apple'\n",
        "    elif 'Lenovo' in text or 'LENOVO' in text:\n",
        "        return 'Lenovo'\n",
        "    elif 'ASUS' in text or 'Asus' in text or 'VivoBook' in text:\n",
        "        return 'Asus'\n",
        "    else:\n",
        "        return 'Other'"
      ]
    },
    {
      "attachments": {},
      "cell_type": "markdown",
      "metadata": {
        "id": "8mDH678cTvEb"
      },
      "source": [
        "LÀM SẠCH DỮ LIỆU"
      ]
    },
    {
      "cell_type": "code",
      "execution_count": 6,
      "metadata": {
        "id": "E3EXKNw5xsNR"
      },
      "outputs": [],
      "source": [
        "def clean_all_data_small(df):\n",
        "  df = df.applymap(lambda x: x.replace('\\u200e', '') if isinstance(x, str) else x)\n",
        "  df['Inches'] = df['Inches'].str.replace('Inches','')\n",
        "  df['Inches'] = df['Inches'].apply(convert_to_float)\n",
        "  df['Screen_Resolution'] = df['Screen_Resolution'].str.replace('Pixels','').str.strip()\n",
        "  df['RAM'] = df['RAM'].str.extract('(\\d+)')\n",
        "  df['RAM'] = df['RAM'].astype(float).fillna(0).astype(int)\n",
        "  df['Weights'] = df['Weights'].str.replace('pounds', '').str.replace('ounces', '').str.strip()\n",
        "  df['Weights'] = df['Weights'].astype(float)\n",
        "  df['Memory'] = df['Memory'].astype(str).replace('\\.0', '', regex=True)\n",
        "  df['Memory'] = df['Memory'].replace([\"HDD\", \"SSD\",\"Emmc\",\"Flash Storage\",\"Solid State Hard Drive\",\"MB\",\"flash_memory_solid_state\",\"Serial ATA-600\",\"Embedded MultiMediaCard\"], '')\n",
        "  df.loc[df['Memory'].str.contains('256GB PCIe M.2 SSD \\+ 1TB \\(\\+8GB SSHD\\) Hybrid Drive'), 'Memory'] = '1256GB'\n",
        "  df['Memory'] = df['Memory'].apply(extract_memory_size)\n",
        "  df['Memory'] = df['Memory'].apply(convert_to_gb)\n",
        "  df['OpSys'] = df['OpSys'].apply(fetch_opsys)\n",
        "  df['Price'] = df['Price'].str.replace(',', '')\n",
        "  df['Price'] = df['Price'].str.replace('$', '').str.replace('From', '').replace(',', '.').str.strip()\n",
        "  df['Price'].replace('Unavailable', np.nan, inplace=True)\n",
        "  df['Price'] = df['Price'].astype(float)\n",
        "  df['Company'] = df['Company'].apply(fetch_company)\n",
        "  return df\n",
        "\n",
        "def clean_all_data_big(df):\n",
        "  df = df.applymap(lambda x: x.replace('\\u200e', '') if isinstance(x, str) else x)\n",
        "  df_big['Inches'] = df_big['Inches'].str.replace('1 Centimeters','1')\n",
        "  df_big['Inches'] = df_big['Inches'].str.replace('15.6 Feet','15.6')\n",
        "  df['Inches'] = df['Inches'].apply(convert_to_float)\n",
        "  df['RAM'] = df['RAM'].astype(float).fillna(0).astype(int)\n",
        "  df['Weights'] = df['Weights'].astype(float)\n",
        "  df['Memory'] = df['Memory'].astype(str).replace('\\.0', '', regex=True)\n",
        "  df['Memory'] = df['Memory'].replace([\"HDD\", \"SSD\",\"Emmc\",\"Flash Storage\",\"Solid State Hard Drive\",\"MB\",\"flash_memory_solid_state\",\"Serial ATA-600\",\"Embedded MultiMediaCard\"], '')\n",
        "  df.loc[df['Memory'].str.contains('256GB PCIe M.2 SSD \\+ 1TB \\(\\+8GB SSHD\\) Hybrid Drive'), 'Memory'] = '1256GB'\n",
        "  df['Memory'] = df['Memory'].apply(extract_memory_size)\n",
        "  df['Memory'] = df['Memory'].apply(convert_to_gb)\n",
        "  df['OpSys'] = df['OpSys'].apply(fetch_opsys)\n",
        "  df['Company'] = df['Company'].apply(fetch_company)\n",
        "  return df"
      ]
    },
    {
      "attachments": {},
      "cell_type": "markdown",
      "metadata": {
        "id": "WinmP0gUTsdD"
      },
      "source": [
        "TẠO ĐẶC TRƯNG MỚI"
      ]
    },
    {
      "cell_type": "code",
      "execution_count": 7,
      "metadata": {
        "id": "dFbdi-yyVaFW"
      },
      "outputs": [],
      "source": [
        "def create_new_feature(df):  \n",
        "  df['X_res'] = df['Screen_Resolution'].str.split('[xX*]').str[0].str.strip()\n",
        "  df['Y_res'] = df['Screen_Resolution'].str.split('[xX*]').str[1].str.strip()\n",
        "  df['X_res'] = df['X_res'].apply(try_convert_to_int)\n",
        "  df['Y_res'] = df['Y_res'].apply(try_convert_to_int)\n",
        "  df.drop(columns=['Screen_Resolution'],inplace=True)\n",
        "  df['Gaming'] = df['Name'].str.contains('Alienware|Gaming|Predator|ROG|MSI', case=False).astype(int)\n",
        "  df['Touchscreen'] = df['Name'].str.contains('Touchscreen', case=False).astype(int)\n",
        "  df.drop(columns=['Name'],inplace=True)\n",
        "  \n",
        "  return df\n",
        "\n",
        "# hàm này có xử lý thêm CPU Brand và Gpu brand để phục vụ cho kỹ thuật Label Encoding\n",
        "def create_new_feature_1(df):  \n",
        "  df['X_res'] = df['Screen_Resolution'].str.split('[xX*]').str[0].str.strip()\n",
        "  df['Y_res'] = df['Screen_Resolution'].str.split('[xX*]').str[1].str.strip()\n",
        "  df['X_res'] = df['X_res'].apply(try_convert_to_int)\n",
        "  df['Y_res'] = df['Y_res'].apply(try_convert_to_int)\n",
        "  df.drop(columns=['Screen_Resolution'],inplace=True)\n",
        "  df['Cpu Brand'] = df['CPU'].apply(fetch_processor)\n",
        "  df.drop(columns=['CPU'],inplace=True)\n",
        "  df['Gpu brand'] = df['GPU'].apply(fetch_gpu)\n",
        "  df.drop(columns=['GPU'],inplace=True)\n",
        "  df['Gaming'] = df['Name'].str.contains('Alienware|Gaming|Predator|ROG|MSI', case=False).astype(int)\n",
        "  df['Touchscreen'] = df['Name'].str.contains('Touchscreen', case=False).astype(int)\n",
        "  df.drop(columns=['Name'],inplace=True)\n",
        "  return df\n",
        "\n",
        "def create_feature_ppi(df): \n",
        "  df['ppi'] = (((df['X_res']**2) + (df['Y_res']**2))**0.5/df['Inches']).astype('float')\n",
        "  return df"
      ]
    },
    {
      "attachments": {},
      "cell_type": "markdown",
      "metadata": {
        "id": "PBiQsVPzSrM6"
      },
      "source": [
        "XỬ LÍ DỮ LIỆU TRỐNG"
      ]
    },
    {
      "cell_type": "code",
      "execution_count": 3,
      "metadata": {
        "id": "mCkUzRAlCEAG"
      },
      "outputs": [],
      "source": [
        "def Impute_missing_value(df,impute_method,df_train = None):\n",
        "    if df_train is None:\n",
        "        if impute_method == 'mean':\n",
        "            df = df.fillna(df.mean())\n",
        "        elif impute_method == 'mode':\n",
        "            df= df.fillna(df.mode()[0])\n",
        "        elif impute_method == 'median':\n",
        "            df = df.fillna(df.median())\n",
        "    else:\n",
        "        if impute_method == 'mean':\n",
        "            df = df.fillna(df_train.mean())\n",
        "        elif impute_method == 'mode':\n",
        "            df = df.fillna(df_train.mode()[0])\n",
        "        elif impute_method == 'median':\n",
        "            df = df.fillna(df_train.median())\n",
        "    return df"
      ]
    },
    {
      "attachments": {},
      "cell_type": "markdown",
      "metadata": {
        "id": "17ykeL3HT9CB"
      },
      "source": [
        "ĐỌC TẬP DỮ LIỆU VÀO VÀ TIẾN HÀNH LÀM SẠCH DỮ LIỆU"
      ]
    },
    {
      "cell_type": "code",
      "execution_count": 7,
      "metadata": {
        "colab": {
          "base_uri": "https://localhost:8080/"
        },
        "id": "cbhX1oFgq4Ei",
        "outputId": "f77a9108-57f1-4424-96d6-eb7672b48a5e"
      },
      "outputs": [],
      "source": [
        "df_small = pd.read_csv('./raw data/1000_sampled_data.csv')\n",
        "df_small = clean_all_data_small(df_small)\n",
        "df_small['Price'] = Impute_missing_value(df_small['Price'],'mean')"
      ]
    },
    {
      "cell_type": "code",
      "execution_count": 132,
      "metadata": {},
      "outputs": [],
      "source": [
        "df_big = pd.read_csv('./raw data/10000_data.csv')\n",
        "df_big = clean_all_data_big(df_big)\n"
      ]
    },
    {
      "cell_type": "code",
      "execution_count": 161,
      "metadata": {},
      "outputs": [
        {
          "data": {
            "text/html": [
              "<div>\n",
              "<style scoped>\n",
              "    .dataframe tbody tr th:only-of-type {\n",
              "        vertical-align: middle;\n",
              "    }\n",
              "\n",
              "    .dataframe tbody tr th {\n",
              "        vertical-align: top;\n",
              "    }\n",
              "\n",
              "    .dataframe thead th {\n",
              "        text-align: right;\n",
              "    }\n",
              "</style>\n",
              "<table border=\"1\" class=\"dataframe\">\n",
              "  <thead>\n",
              "    <tr style=\"text-align: right;\">\n",
              "      <th></th>\n",
              "      <th>Company</th>\n",
              "      <th>Name</th>\n",
              "      <th>Inches</th>\n",
              "      <th>Screen_Resolution</th>\n",
              "      <th>CPU</th>\n",
              "      <th>RAM</th>\n",
              "      <th>Memory</th>\n",
              "      <th>GPU</th>\n",
              "      <th>OpSys</th>\n",
              "      <th>Weights</th>\n",
              "      <th>Price</th>\n",
              "    </tr>\n",
              "  </thead>\n",
              "  <tbody>\n",
              "    <tr>\n",
              "      <th>4004</th>\n",
              "      <td>Lenovo</td>\n",
              "      <td>Lenovo ThinkPad P15v Gen 3, i7-12700H vPro, 15...</td>\n",
              "      <td>15.6</td>\n",
              "      <td>1920 x 1080</td>\n",
              "      <td>Core i7</td>\n",
              "      <td>16</td>\n",
              "      <td>512.0</td>\n",
              "      <td>NVIDIA T600 4GB</td>\n",
              "      <td>Windows</td>\n",
              "      <td>5.00</td>\n",
              "      <td>1599.99</td>\n",
              "    </tr>\n",
              "    <tr>\n",
              "      <th>10093</th>\n",
              "      <td>Dell</td>\n",
              "      <td>DELL Grade A Laptop Latitude Intel Core i5 7th...</td>\n",
              "      <td>15.6</td>\n",
              "      <td>1920 x 1080</td>\n",
              "      <td>Intel Core i5 7th Gen</td>\n",
              "      <td>8</td>\n",
              "      <td>512.0</td>\n",
              "      <td>Intel HD Graphics 620</td>\n",
              "      <td>Windows</td>\n",
              "      <td>4.40</td>\n",
              "      <td>519.99</td>\n",
              "    </tr>\n",
              "    <tr>\n",
              "      <th>6035</th>\n",
              "      <td>HP</td>\n",
              "      <td>2022 HP Pavilion X360 2-in-1 Laptop 14\" FHD IP...</td>\n",
              "      <td>14.0</td>\n",
              "      <td>1920 x 1080</td>\n",
              "      <td>Core i5 Family</td>\n",
              "      <td>8</td>\n",
              "      <td>256.0</td>\n",
              "      <td>Intel Iris Xe Graphics</td>\n",
              "      <td>Windows</td>\n",
              "      <td>7.00</td>\n",
              "      <td>679.00</td>\n",
              "    </tr>\n",
              "    <tr>\n",
              "      <th>4146</th>\n",
              "      <td>Other</td>\n",
              "      <td>2022 Ideapad 3i Touch-Screen Laptops for Colle...</td>\n",
              "      <td>15.6</td>\n",
              "      <td>1366 x 768</td>\n",
              "      <td>Intel Core i3</td>\n",
              "      <td>12</td>\n",
              "      <td>512.0</td>\n",
              "      <td>Intel</td>\n",
              "      <td>Windows</td>\n",
              "      <td>3.74</td>\n",
              "      <td>499.99</td>\n",
              "    </tr>\n",
              "    <tr>\n",
              "      <th>9879</th>\n",
              "      <td>Dell</td>\n",
              "      <td>DELL Grade B Laptop Latitude Intel Core i7 8th...</td>\n",
              "      <td>15.6</td>\n",
              "      <td>1920 x 1080</td>\n",
              "      <td>Intel Core i7 8th Gen</td>\n",
              "      <td>16</td>\n",
              "      <td>512.0</td>\n",
              "      <td>Intel UHD Graphics 620</td>\n",
              "      <td>Windows</td>\n",
              "      <td>NaN</td>\n",
              "      <td>609.99</td>\n",
              "    </tr>\n",
              "    <tr>\n",
              "      <th>...</th>\n",
              "      <td>...</td>\n",
              "      <td>...</td>\n",
              "      <td>...</td>\n",
              "      <td>...</td>\n",
              "      <td>...</td>\n",
              "      <td>...</td>\n",
              "      <td>...</td>\n",
              "      <td>...</td>\n",
              "      <td>...</td>\n",
              "      <td>...</td>\n",
              "      <td>...</td>\n",
              "    </tr>\n",
              "    <tr>\n",
              "      <th>3678</th>\n",
              "      <td>Lenovo</td>\n",
              "      <td>Lenovo ThinkPad X1 Carbon Gen 10 21CB009NUS 14...</td>\n",
              "      <td>14.0</td>\n",
              "      <td>1920 x 1200</td>\n",
              "      <td>Core i5</td>\n",
              "      <td>16</td>\n",
              "      <td>512.0</td>\n",
              "      <td>Intel Iris Xe Graphics</td>\n",
              "      <td>Windows</td>\n",
              "      <td>4.35</td>\n",
              "      <td>1623.46</td>\n",
              "    </tr>\n",
              "    <tr>\n",
              "      <th>1255</th>\n",
              "      <td>Lenovo</td>\n",
              "      <td>Lenovo Legion 5 15.6\" FHD Gaming Laptop Comput...</td>\n",
              "      <td>15.6</td>\n",
              "      <td>1920x1080</td>\n",
              "      <td>AMD Ryzen 7 5800H</td>\n",
              "      <td>32</td>\n",
              "      <td>2048.0</td>\n",
              "      <td>NVIDIA GeForce</td>\n",
              "      <td>Windows</td>\n",
              "      <td>4.19</td>\n",
              "      <td>1899.00</td>\n",
              "    </tr>\n",
              "    <tr>\n",
              "      <th>8189</th>\n",
              "      <td>Dell</td>\n",
              "      <td>Newest Dell Inspiron 15.6 inch Laptop, 10th Ge...</td>\n",
              "      <td>15.0</td>\n",
              "      <td>1366 x 768</td>\n",
              "      <td>Core i5</td>\n",
              "      <td>8</td>\n",
              "      <td>256.0</td>\n",
              "      <td>Intel UHD Graphics</td>\n",
              "      <td>Windows</td>\n",
              "      <td>NaN</td>\n",
              "      <td>568.76</td>\n",
              "    </tr>\n",
              "    <tr>\n",
              "      <th>6914</th>\n",
              "      <td>MSI</td>\n",
              "      <td>MSI Creator 15 A10SEV-001 15.6\" UHD 4K Ultra T...</td>\n",
              "      <td>15.6</td>\n",
              "      <td>3840 x 2160</td>\n",
              "      <td>Intel Core i7</td>\n",
              "      <td>32</td>\n",
              "      <td>1024.0</td>\n",
              "      <td>NVIDIA GeForce RTX 2060</td>\n",
              "      <td>Windows</td>\n",
              "      <td>4.63</td>\n",
              "      <td>3499.00</td>\n",
              "    </tr>\n",
              "    <tr>\n",
              "      <th>2414</th>\n",
              "      <td>Dell</td>\n",
              "      <td>Dell Latitude 3000 3520 15.6\" Notebook - Full ...</td>\n",
              "      <td>15.6</td>\n",
              "      <td>1920 x 1080</td>\n",
              "      <td>Core i7</td>\n",
              "      <td>8</td>\n",
              "      <td>256.0</td>\n",
              "      <td>Intel Iris Xe Graphics</td>\n",
              "      <td>Windows</td>\n",
              "      <td>4.47</td>\n",
              "      <td>957.59</td>\n",
              "    </tr>\n",
              "  </tbody>\n",
              "</table>\n",
              "<p>100 rows × 11 columns</p>\n",
              "</div>"
            ],
            "text/plain": [
              "      Company                                               Name  Inches   \n",
              "4004   Lenovo  Lenovo ThinkPad P15v Gen 3, i7-12700H vPro, 15...    15.6  \\\n",
              "10093    Dell  DELL Grade A Laptop Latitude Intel Core i5 7th...    15.6   \n",
              "6035       HP  2022 HP Pavilion X360 2-in-1 Laptop 14\" FHD IP...    14.0   \n",
              "4146    Other  2022 Ideapad 3i Touch-Screen Laptops for Colle...    15.6   \n",
              "9879     Dell  DELL Grade B Laptop Latitude Intel Core i7 8th...    15.6   \n",
              "...       ...                                                ...     ...   \n",
              "3678   Lenovo  Lenovo ThinkPad X1 Carbon Gen 10 21CB009NUS 14...    14.0   \n",
              "1255   Lenovo  Lenovo Legion 5 15.6\" FHD Gaming Laptop Comput...    15.6   \n",
              "8189     Dell  Newest Dell Inspiron 15.6 inch Laptop, 10th Ge...    15.0   \n",
              "6914      MSI  MSI Creator 15 A10SEV-001 15.6\" UHD 4K Ultra T...    15.6   \n",
              "2414     Dell  Dell Latitude 3000 3520 15.6\" Notebook - Full ...    15.6   \n",
              "\n",
              "      Screen_Resolution                    CPU  RAM  Memory   \n",
              "4004        1920 x 1080                Core i7   16   512.0  \\\n",
              "10093       1920 x 1080  Intel Core i5 7th Gen    8   512.0   \n",
              "6035        1920 x 1080         Core i5 Family    8   256.0   \n",
              "4146         1366 x 768          Intel Core i3   12   512.0   \n",
              "9879        1920 x 1080  Intel Core i7 8th Gen   16   512.0   \n",
              "...                 ...                    ...  ...     ...   \n",
              "3678        1920 x 1200                Core i5   16   512.0   \n",
              "1255          1920x1080      AMD Ryzen 7 5800H   32  2048.0   \n",
              "8189         1366 x 768                Core i5    8   256.0   \n",
              "6914        3840 x 2160          Intel Core i7   32  1024.0   \n",
              "2414        1920 x 1080                Core i7    8   256.0   \n",
              "\n",
              "                           GPU    OpSys  Weights    Price  \n",
              "4004           NVIDIA T600 4GB  Windows     5.00  1599.99  \n",
              "10093    Intel HD Graphics 620  Windows     4.40   519.99  \n",
              "6035    Intel Iris Xe Graphics  Windows     7.00   679.00  \n",
              "4146                     Intel  Windows     3.74   499.99  \n",
              "9879    Intel UHD Graphics 620  Windows      NaN   609.99  \n",
              "...                        ...      ...      ...      ...  \n",
              "3678    Intel Iris Xe Graphics  Windows     4.35  1623.46  \n",
              "1255            NVIDIA GeForce  Windows     4.19  1899.00  \n",
              "8189        Intel UHD Graphics  Windows      NaN   568.76  \n",
              "6914   NVIDIA GeForce RTX 2060  Windows     4.63  3499.00  \n",
              "2414    Intel Iris Xe Graphics  Windows     4.47   957.59  \n",
              "\n",
              "[100 rows x 11 columns]"
            ]
          },
          "execution_count": 161,
          "metadata": {},
          "output_type": "execute_result"
        }
      ],
      "source": [
        "df_big.sample(100)"
      ]
    },
    {
      "cell_type": "code",
      "execution_count": 12,
      "metadata": {
        "colab": {
          "base_uri": "https://localhost:8080/",
          "height": 206
        },
        "id": "tLwK_IaP6eit",
        "outputId": "a92314c9-9668-4f44-8b67-29b010604c16"
      },
      "outputs": [
        {
          "data": {
            "text/html": [
              "<div>\n",
              "<style scoped>\n",
              "    .dataframe tbody tr th:only-of-type {\n",
              "        vertical-align: middle;\n",
              "    }\n",
              "\n",
              "    .dataframe tbody tr th {\n",
              "        vertical-align: top;\n",
              "    }\n",
              "\n",
              "    .dataframe thead th {\n",
              "        text-align: right;\n",
              "    }\n",
              "</style>\n",
              "<table border=\"1\" class=\"dataframe\">\n",
              "  <thead>\n",
              "    <tr style=\"text-align: right;\">\n",
              "      <th></th>\n",
              "      <th>Company</th>\n",
              "      <th>Name</th>\n",
              "      <th>Inches</th>\n",
              "      <th>Screen_Resolution</th>\n",
              "      <th>CPU</th>\n",
              "      <th>RAM</th>\n",
              "      <th>Memory</th>\n",
              "      <th>GPU</th>\n",
              "      <th>OpSys</th>\n",
              "      <th>Weights</th>\n",
              "      <th>Price</th>\n",
              "    </tr>\n",
              "  </thead>\n",
              "  <tbody>\n",
              "    <tr>\n",
              "      <th>0</th>\n",
              "      <td>HP</td>\n",
              "      <td>HP High Performance Laptop 2023, 17.3\" FHD IPS...</td>\n",
              "      <td>17.3</td>\n",
              "      <td>1920 x 1080</td>\n",
              "      <td>Core i7 Family</td>\n",
              "      <td>16</td>\n",
              "      <td>1024.0</td>\n",
              "      <td>Intel Iris Xe Graphics</td>\n",
              "      <td>Windows</td>\n",
              "      <td>7.90</td>\n",
              "      <td>1089.181153</td>\n",
              "    </tr>\n",
              "    <tr>\n",
              "      <th>1</th>\n",
              "      <td>Dell</td>\n",
              "      <td>Dell Latitude 5400 Chrome CEL_2-4305U 4GB 64GB...</td>\n",
              "      <td>14.0</td>\n",
              "      <td>1366 x 768</td>\n",
              "      <td>Celeron</td>\n",
              "      <td>4</td>\n",
              "      <td>64.0</td>\n",
              "      <td>Intel HD Graphics 4400</td>\n",
              "      <td>Chrome OS</td>\n",
              "      <td>4.99</td>\n",
              "      <td>546.120000</td>\n",
              "    </tr>\n",
              "    <tr>\n",
              "      <th>2</th>\n",
              "      <td>Dell</td>\n",
              "      <td>Dell 2023 Inspiron I5402 14 inch FHD Non-Touch...</td>\n",
              "      <td>14.0</td>\n",
              "      <td>1920 x 1080</td>\n",
              "      <td>Core i5 Family</td>\n",
              "      <td>12</td>\n",
              "      <td>512.0</td>\n",
              "      <td>Intel Iris Xe Graphics</td>\n",
              "      <td>Windows</td>\n",
              "      <td>7.00</td>\n",
              "      <td>1089.181153</td>\n",
              "    </tr>\n",
              "    <tr>\n",
              "      <th>3</th>\n",
              "      <td>Dell</td>\n",
              "      <td>Dell Latitude 5410 14\" Notebook - Full HD - 19...</td>\n",
              "      <td>14.0</td>\n",
              "      <td>1920 x 1080</td>\n",
              "      <td>Intel Core i5</td>\n",
              "      <td>8</td>\n",
              "      <td>256.0</td>\n",
              "      <td>Intel UHD Graphics 620</td>\n",
              "      <td>Windows</td>\n",
              "      <td>5.30</td>\n",
              "      <td>499.000000</td>\n",
              "    </tr>\n",
              "    <tr>\n",
              "      <th>4</th>\n",
              "      <td>Dell</td>\n",
              "      <td>Dell Latitude 5310 13.3\" Touchscreen 2 in 1 No...</td>\n",
              "      <td>13.3</td>\n",
              "      <td>1920 x 1080</td>\n",
              "      <td>Intel Core i7</td>\n",
              "      <td>16</td>\n",
              "      <td>256.0</td>\n",
              "      <td>Intel HD Graphics 620</td>\n",
              "      <td>Windows</td>\n",
              "      <td>2.91</td>\n",
              "      <td>899.000000</td>\n",
              "    </tr>\n",
              "  </tbody>\n",
              "</table>\n",
              "</div>"
            ],
            "text/plain": [
              "  Company                                               Name  Inches   \n",
              "0      HP  HP High Performance Laptop 2023, 17.3\" FHD IPS...    17.3  \\\n",
              "1    Dell  Dell Latitude 5400 Chrome CEL_2-4305U 4GB 64GB...    14.0   \n",
              "2    Dell  Dell 2023 Inspiron I5402 14 inch FHD Non-Touch...    14.0   \n",
              "3    Dell  Dell Latitude 5410 14\" Notebook - Full HD - 19...    14.0   \n",
              "4    Dell  Dell Latitude 5310 13.3\" Touchscreen 2 in 1 No...    13.3   \n",
              "\n",
              "  Screen_Resolution             CPU  RAM  Memory                     GPU   \n",
              "0       1920 x 1080  Core i7 Family   16  1024.0  Intel Iris Xe Graphics  \\\n",
              "1        1366 x 768         Celeron    4    64.0  Intel HD Graphics 4400   \n",
              "2       1920 x 1080  Core i5 Family   12   512.0  Intel Iris Xe Graphics   \n",
              "3       1920 x 1080   Intel Core i5    8   256.0  Intel UHD Graphics 620   \n",
              "4       1920 x 1080   Intel Core i7   16   256.0   Intel HD Graphics 620   \n",
              "\n",
              "       OpSys  Weights        Price  \n",
              "0    Windows     7.90  1089.181153  \n",
              "1  Chrome OS     4.99   546.120000  \n",
              "2    Windows     7.00  1089.181153  \n",
              "3    Windows     5.30   499.000000  \n",
              "4    Windows     2.91   899.000000  "
            ]
          },
          "execution_count": 12,
          "metadata": {},
          "output_type": "execute_result"
        }
      ],
      "source": [
        "df_small.head()"
      ]
    },
    {
      "cell_type": "code",
      "execution_count": null,
      "metadata": {
        "colab": {
          "base_uri": "https://localhost:8080/"
        },
        "id": "gT0KpWFcq4Ei",
        "outputId": "a0a55b83-c80b-474b-ca28-c8cc822fdd1d"
      },
      "outputs": [
        {
          "name": "stdout",
          "output_type": "stream",
          "text": [
            "<class 'pandas.core.frame.DataFrame'>\n",
            "RangeIndex: 1000 entries, 0 to 999\n",
            "Data columns (total 11 columns):\n",
            " #   Column             Non-Null Count  Dtype  \n",
            "---  ------             --------------  -----  \n",
            " 0   Company            1000 non-null   object \n",
            " 1   Name               1000 non-null   object \n",
            " 2   Inches             976 non-null    float64\n",
            " 3   Screen_Resolution  868 non-null    object \n",
            " 4   CPU                953 non-null    object \n",
            " 5   RAM                1000 non-null   int64  \n",
            " 6   Memory             891 non-null    float64\n",
            " 7   GPU                843 non-null    object \n",
            " 8   OpSys              1000 non-null   object \n",
            " 9   Weights            948 non-null    float64\n",
            " 10  Price              1000 non-null   float64\n",
            "dtypes: float64(4), int64(1), object(6)\n",
            "memory usage: 86.1+ KB\n"
          ]
        }
      ],
      "source": [
        "df_small.info()"
      ]
    },
    {
      "attachments": {},
      "cell_type": "markdown",
      "metadata": {
        "id": "hPgi4_4UWlQa"
      },
      "source": [
        "CHỌN KỸ THUẬT XỬ LÝ DỬ LIỆU TRỐNG TỐT NHẤT CHO MEMORY,INCHES,RAM,WEIGHTS"
      ]
    },
    {
      "cell_type": "code",
      "execution_count": null,
      "metadata": {
        "id": "sXLM6-fRBJT2"
      },
      "outputs": [],
      "source": [
        "from sklearn.model_selection import train_test_split\n",
        "X_small = df_small[['Memory', 'Inches', 'RAM', 'Weights']]\n",
        "y_small = np.log(df_small['Price'])\n",
        "X_train_s,X_test_s,y_train_s,y_test_s = train_test_split(X_small,y_small,test_size=0.3)\n",
        "X_test_s, X_val_s, y_test_s, y_val_s = train_test_split(X_test_s, y_test_s, test_size=0.5, random_state=2)"
      ]
    },
    {
      "attachments": {},
      "cell_type": "markdown",
      "metadata": {
        "id": "LRtRQPYuWpFP"
      },
      "source": [
        "LẶP QUA TỪNG KỸ THUẬT VÀ IN AVERAGE R2 SCORE CỦA MỖI KỸ THUẬT\n"
      ]
    },
    {
      "cell_type": "code",
      "execution_count": null,
      "metadata": {
        "colab": {
          "base_uri": "https://localhost:8080/"
        },
        "id": "Qq1Ljzt2RfA6",
        "outputId": "75919cb4-c2ab-451a-9da7-d0d4e738eee5"
      },
      "outputs": [
        {
          "name": "stderr",
          "output_type": "stream",
          "text": [
            "<ipython-input-31-77ac7b5dc836>:35: FutureWarning: The frame.append method is deprecated and will be removed from pandas in a future version. Use pandas.concat instead.\n",
            "  result1 = result1.append(row, ignore_index=True)\n",
            "<ipython-input-31-77ac7b5dc836>:35: FutureWarning: The frame.append method is deprecated and will be removed from pandas in a future version. Use pandas.concat instead.\n",
            "  result1 = result1.append(row, ignore_index=True)\n"
          ]
        },
        {
          "name": "stdout",
          "output_type": "stream",
          "text": [
            "Memory Inches    RAM Weights  Average r2 score\n",
            "  mean   mean   mean    mean          0.472787\n",
            "median median median  median          0.467723\n",
            "  mode   mode   mode    mode          0.465214\n"
          ]
        },
        {
          "name": "stderr",
          "output_type": "stream",
          "text": [
            "<ipython-input-31-77ac7b5dc836>:35: FutureWarning: The frame.append method is deprecated and will be removed from pandas in a future version. Use pandas.concat instead.\n",
            "  result1 = result1.append(row, ignore_index=True)\n"
          ]
        }
      ],
      "source": [
        "import pandas as pd\n",
        "import numpy as np\n",
        "from sklearn.ensemble import RandomForestRegressor\n",
        "from sklearn.model_selection import cross_validate\n",
        "\n",
        "impute_methods = ['mean', 'median', 'mode']\n",
        "result1 = pd.DataFrame(columns=['Memory', 'Inches', 'RAM', 'Weights', 'Average r2 score'])\n",
        "\n",
        "for tech in impute_methods:\n",
        "    X_new = X_small.copy()\n",
        "    y_new = y_small.copy()\n",
        "    X_new['Memory'] = Impute_missing_value(X_new['Memory'], tech)\n",
        "    X_new['Inches'] = Impute_missing_value(X_new['Inches'], tech)\n",
        "    X_new['RAM'] = Impute_missing_value(X_new['RAM'], tech)\n",
        "    X_new['Weights'] = Impute_missing_value(X_new['Weights'], tech)\n",
        "\n",
        "    model = RandomForestRegressor(\n",
        "        random_state=3\n",
        "    )\n",
        "\n",
        "    results = cross_validate(model, X_new, y_new, cv=5, scoring='r2')\n",
        "    average_r2 = np.mean(results['test_score'])\n",
        "\n",
        "    row = {\n",
        "        'Memory': tech,\n",
        "        'Inches': tech,\n",
        "        'RAM': tech,\n",
        "        'Weights': tech,\n",
        "        'Average r2 score': average_r2\n",
        "    }\n",
        "    result1 = result1.append(row, ignore_index=True)\n",
        "print(result1.to_string(index=False))"
      ]
    },
    {
      "attachments": {},
      "cell_type": "markdown",
      "metadata": {
        "id": "pwXt6iUWXi5A"
      },
      "source": [
        "KỸ THUẬT MEAN CÓ AVERAGE R2 SCORE CAO NHẤT NÊN TA SỬ DỤNG NÓ"
      ]
    },
    {
      "cell_type": "code",
      "execution_count": null,
      "metadata": {
        "id": "RfBLdms9tKiD"
      },
      "outputs": [],
      "source": [
        "df_small['Memory'] = Impute_missing_value(df_small['Memory'], 'mean')\n",
        "df_small['Inches'] = Impute_missing_value(df_small['Inches'], 'mean')\n",
        "df_small['RAM'] = Impute_missing_value(df_small['RAM'], 'mean')\n",
        "df_small['Weights'] = Impute_missing_value(df_small['Weights'], 'mean')"
      ]
    },
    {
      "cell_type": "code",
      "execution_count": null,
      "metadata": {
        "colab": {
          "base_uri": "https://localhost:8080/"
        },
        "id": "HdUeN_WEdITt",
        "outputId": "fd160a69-4b07-478b-f4a4-2996249ba3b1"
      },
      "outputs": [
        {
          "name": "stdout",
          "output_type": "stream",
          "text": [
            "<class 'pandas.core.frame.DataFrame'>\n",
            "RangeIndex: 1000 entries, 0 to 999\n",
            "Data columns (total 11 columns):\n",
            " #   Column             Non-Null Count  Dtype  \n",
            "---  ------             --------------  -----  \n",
            " 0   Company            1000 non-null   object \n",
            " 1   Name               1000 non-null   object \n",
            " 2   Inches             1000 non-null   float64\n",
            " 3   Screen_Resolution  868 non-null    object \n",
            " 4   CPU                953 non-null    object \n",
            " 5   RAM                1000 non-null   int64  \n",
            " 6   Memory             1000 non-null   float64\n",
            " 7   GPU                843 non-null    object \n",
            " 8   OpSys              1000 non-null   object \n",
            " 9   Weights            1000 non-null   float64\n",
            " 10  Price              1000 non-null   float64\n",
            "dtypes: float64(4), int64(1), object(6)\n",
            "memory usage: 86.1+ KB\n"
          ]
        }
      ],
      "source": [
        "df_small.info()"
      ]
    },
    {
      "attachments": {},
      "cell_type": "markdown",
      "metadata": {
        "id": "xkdA2SkDikVR"
      },
      "source": [
        "TẠO ĐẶC TRƯNG MỚI CHO CỘT NAME, SCREEN_RESOLUTION RỒI XỬ LÝ DỮ LIỆU TRỐNG CHO ĐẶC TRƯNG ĐÓ"
      ]
    },
    {
      "cell_type": "code",
      "execution_count": null,
      "metadata": {
        "id": "g7hVUsO5wazp"
      },
      "outputs": [],
      "source": [
        "from sklearn.model_selection import train_test_split\n",
        "X_small = df_small[['Memory', 'RAM', 'Weights','Name', 'Inches', 'Screen_Resolution']]\n",
        "y_small = np.log(df_small['Price'])\n",
        "X_train_s,X_test_s,y_train_s,y_test_s = train_test_split(X_small,y_small,test_size=0.3)\n",
        "X_test_s, X_val_s, y_test_s, y_val_s = train_test_split(X_test_s, y_test_s, test_size=0.5, random_state=3)"
      ]
    },
    {
      "cell_type": "code",
      "execution_count": null,
      "metadata": {
        "colab": {
          "base_uri": "https://localhost:8080/"
        },
        "id": "WbHTDBObcyOx",
        "outputId": "4088f92d-7ae7-4569-9266-c9d859bddafc"
      },
      "outputs": [
        {
          "name": "stderr",
          "output_type": "stream",
          "text": [
            "<ipython-input-36-430e6e4ae825>:39: FutureWarning: The frame.append method is deprecated and will be removed from pandas in a future version. Use pandas.concat instead.\n",
            "  result1 = result1.append(row, ignore_index=True)\n",
            "<ipython-input-36-430e6e4ae825>:39: FutureWarning: The frame.append method is deprecated and will be removed from pandas in a future version. Use pandas.concat instead.\n",
            "  result1 = result1.append(row, ignore_index=True)\n"
          ]
        },
        {
          "name": "stdout",
          "output_type": "stream",
          "text": [
            "Memory Inches RAM Weights Name Screen_Resolution  Average r2 score  X_res  Y_res Gaming Touchscreen    ppi\n",
            "   NaN    NaN NaN     NaN  NaN               NaN          0.510701   mean   mean   mean        mean   mean\n",
            "   NaN    NaN NaN     NaN  NaN               NaN          0.504566 median median median      median median\n",
            "   NaN    NaN NaN     NaN  NaN               NaN          0.504566   mode   mode   mode        mode   mode\n"
          ]
        },
        {
          "name": "stderr",
          "output_type": "stream",
          "text": [
            "<ipython-input-36-430e6e4ae825>:39: FutureWarning: The frame.append method is deprecated and will be removed from pandas in a future version. Use pandas.concat instead.\n",
            "  result1 = result1.append(row, ignore_index=True)\n"
          ]
        }
      ],
      "source": [
        "import pandas as pd\n",
        "import numpy as np\n",
        "from sklearn.ensemble import RandomForestRegressor\n",
        "from sklearn.model_selection import cross_validate\n",
        "\n",
        "impute_methods = ['mean', 'median', 'mode']\n",
        "result1 = pd.DataFrame(columns=['Memory', 'Inches', 'RAM', 'Weights', 'Name','Screen_Resolution','Average r2 score'])\n",
        "\n",
        "for tech in impute_methods:\n",
        "    X_new = X_small.copy()\n",
        "    y_new = y_small.copy()\n",
        "    # Tạo đặc trưng mới\n",
        "    X_new = create_new_feature(X_new)\n",
        "    # Xử lý dữ liệu trống cho các đặc trưng đó\n",
        "    X_new['X_res'] = Impute_missing_value(X_new['X_res'], tech)\n",
        "    X_new['Y_res'] = Impute_missing_value(X_new['Y_res'], tech)\n",
        "    X_new['Gaming'] = Impute_missing_value(X_new['Gaming'], tech)\n",
        "    X_new['Touchscreen'] = Impute_missing_value(X_new['Touchscreen'], tech)\n",
        "    X_new['ppi'] = Impute_missing_value(X_new['ppi'], tech)\n",
        "\n",
        "    model = RandomForestRegressor(\n",
        "        random_state=3\n",
        "    )\n",
        "    results = cross_validate(model, X_new, y_new, cv=5, scoring='r2')\n",
        "    average_r2 = np.mean(results['test_score'])\n",
        "\n",
        "    row = {\n",
        "        'X_res': tech,\n",
        "        'Y_res': tech,\n",
        "        'Gaming': tech,\n",
        "        'Touchscreen': tech,\n",
        "        'ppi': tech,\n",
        "        'Average r2 score': average_r2\n",
        "    }\n",
        "    result1 = result1.append(row, ignore_index=True)\n",
        "print(result1.to_string(index=False))"
      ]
    },
    {
      "attachments": {},
      "cell_type": "markdown",
      "metadata": {
        "id": "rS3ndRowrVeZ"
      },
      "source": [
        "KỸ THUẬT MEAN CÓ AVERAGE R2 SCORE CAO NHẤT NÊN TA SỬ DỤNG NÓ"
      ]
    },
    {
      "cell_type": "code",
      "execution_count": null,
      "metadata": {
        "id": "zz9mCg6RktFv"
      },
      "outputs": [],
      "source": [
        "from sklearn.model_selection import train_test_split\n",
        "X_small = df_small.drop(columns=['Price'])\n",
        "y_small = np.log(df_small['Price'])\n",
        "X_train_s,X_test_s,y_train_s,y_test_s = train_test_split(X_small,y_small,test_size=0.3, random_state = 2)\n",
        "X_test_s, X_val_s, y_test_s, y_val_s = train_test_split(X_test_s, y_test_s, test_size=0.5, random_state=2)"
      ]
    },
    {
      "attachments": {},
      "cell_type": "markdown",
      "metadata": {
        "id": "HUCpa0q9qcOV"
      },
      "source": [
        "KỸ THUẬT LABEL ENCODING \n"
      ]
    },
    {
      "cell_type": "code",
      "execution_count": null,
      "metadata": {
        "colab": {
          "base_uri": "https://localhost:8080/"
        },
        "id": "M1u3tO5FkIuw",
        "outputId": "f2e9ad94-775b-4dd3-9802-7f8ab4852b05"
      },
      "outputs": [
        {
          "name": "stdout",
          "output_type": "stream",
          "text": [
            "<class 'pandas.core.frame.DataFrame'>\n",
            "RangeIndex: 1000 entries, 0 to 999\n",
            "Data columns (total 13 columns):\n",
            " #   Column       Non-Null Count  Dtype  \n",
            "---  ------       --------------  -----  \n",
            " 0   Company      1000 non-null   int64  \n",
            " 1   Inches       1000 non-null   float64\n",
            " 2   RAM          1000 non-null   int64  \n",
            " 3   Memory       1000 non-null   float64\n",
            " 4   OpSys        1000 non-null   int64  \n",
            " 5   Weights      1000 non-null   float64\n",
            " 6   X_res        1000 non-null   float64\n",
            " 7   Y_res        1000 non-null   float64\n",
            " 8   Cpu Brand    1000 non-null   int64  \n",
            " 9   Gpu brand    1000 non-null   int64  \n",
            " 10  Gaming       1000 non-null   int64  \n",
            " 11  Touchscreen  1000 non-null   int64  \n",
            " 12  ppi          1000 non-null   float64\n",
            "dtypes: float64(6), int64(7)\n",
            "memory usage: 101.7 KB\n"
          ]
        }
      ],
      "source": [
        "import pandas as pd\n",
        "import numpy as np\n",
        "from sklearn.ensemble import RandomForestRegressor\n",
        "from sklearn.model_selection import cross_validate\n",
        "\n",
        "result1 = pd.DataFrame(columns=['Company','Memory', 'CPU', 'GPU', 'Inches', 'RAM', 'Weights', 'Name','Screen_Resolution','OpSys', 'Average r2 score'])\n",
        "X_new = X_small.copy()\n",
        "y_new = y_small.copy()\n",
        "# Tạo đặc trưng mới\n",
        "X_new = create_new_feature_1(X_new)\n",
        "# Xử lý dữ liệu trống cho các đặc trưng đó\n",
        "X_new['X_res'] = Impute_missing_value(X_new['X_res'], 'mean')\n",
        "X_new['Y_res'] = Impute_missing_value(X_new['Y_res'], 'mean')\n",
        "X_new['Gaming'] = Impute_missing_value(X_new['Gaming'], 'mean')\n",
        "X_new['Touchscreen'] = Impute_missing_value(X_new['Touchscreen'], 'mean')\n",
        "X_new['ppi'] = Impute_missing_value(X_new['ppi'], 'mean')\n",
        "\n",
        "# Áp dụng kỹ thuật Label Encoding\n",
        "le = LabelEncoder()\n",
        "X_new['Company'] = le.fit_transform(X_new['Company'])\n",
        "X_new['OpSys'] = le.fit_transform(X_new['OpSys'])\n",
        "X_new['Cpu Brand'] = le.fit_transform(X_new['Cpu Brand'])\n",
        "X_new['Gpu brand'] = le.fit_transform(X_new['Gpu brand'])\n",
        "\n",
        "X_new.info()"
      ]
    },
    {
      "cell_type": "code",
      "execution_count": null,
      "metadata": {
        "colab": {
          "base_uri": "https://localhost:8080/"
        },
        "id": "uiWv1Embq4Ej",
        "outputId": "0a956151-ce8c-47ea-ba7a-80d038ecc1a5"
      },
      "outputs": [
        {
          "name": "stderr",
          "output_type": "stream",
          "text": [
            "<ipython-input-39-03045924ce77>:3: FutureWarning: The default value of regex will change from True to False in a future version.\n",
            "  df_big['Inches'] = df_big['Inches'].str.replace('15.6 Feet','15.6')\n"
          ]
        }
      ],
      "source": [
        "df_big = pd.read_csv('10000_data.csv') \n",
        "df_big['Inches'] = df_big['Inches'].str.replace('1 Centimeters','1')\n",
        "df_big['Inches'] = df_big['Inches'].str.replace('15.6 Feet','15.6')\n",
        "df_big['Memory'] = df_big['Inches'].str.replace('GB','').str.replace('TB','').str.strip()\n",
        "df_big['Inches'] = df_big['Inches'].astype(float)\n",
        "df_big['Memory'] = df_big['Memory'].astype(float)"
      ]
    },
    {
      "cell_type": "code",
      "execution_count": null,
      "metadata": {
        "colab": {
          "base_uri": "https://localhost:8080/",
          "height": 206
        },
        "id": "7L0qAMvc671R",
        "outputId": "f27f9c30-f8a8-4ae0-86d2-6ffcafc0744d"
      },
      "outputs": [
        {
          "data": {
            "text/html": [
              "\n",
              "  <div id=\"df-259c3c46-7828-41c2-8a0d-6944063e8fc3\">\n",
              "    <div class=\"colab-df-container\">\n",
              "      <div>\n",
              "<style scoped>\n",
              "    .dataframe tbody tr th:only-of-type {\n",
              "        vertical-align: middle;\n",
              "    }\n",
              "\n",
              "    .dataframe tbody tr th {\n",
              "        vertical-align: top;\n",
              "    }\n",
              "\n",
              "    .dataframe thead th {\n",
              "        text-align: right;\n",
              "    }\n",
              "</style>\n",
              "<table border=\"1\" class=\"dataframe\">\n",
              "  <thead>\n",
              "    <tr style=\"text-align: right;\">\n",
              "      <th></th>\n",
              "      <th>Company</th>\n",
              "      <th>Name</th>\n",
              "      <th>Inches</th>\n",
              "      <th>Screen_Resolution</th>\n",
              "      <th>CPU</th>\n",
              "      <th>RAM</th>\n",
              "      <th>Memory</th>\n",
              "      <th>GPU</th>\n",
              "      <th>OpSys</th>\n",
              "      <th>Weights</th>\n",
              "      <th>Price</th>\n",
              "    </tr>\n",
              "  </thead>\n",
              "  <tbody>\n",
              "    <tr>\n",
              "      <th>0</th>\n",
              "      <td>ASUS</td>\n",
              "      <td>ASUS Chromebook C424, 14.0\" 180 Degree FHD Nan...</td>\n",
              "      <td>14.0</td>\n",
              "      <td>1920x1080</td>\n",
              "      <td>Celeron N4020</td>\n",
              "      <td>4.0</td>\n",
              "      <td>14.0</td>\n",
              "      <td>Intel UHD Graphics 600</td>\n",
              "      <td>Chrome OS</td>\n",
              "      <td>5.16</td>\n",
              "      <td>249.990000</td>\n",
              "    </tr>\n",
              "    <tr>\n",
              "      <th>1</th>\n",
              "      <td>Acer</td>\n",
              "      <td>Acer Chromebook Spin 314 Convertible Laptop | ...</td>\n",
              "      <td>14.0</td>\n",
              "      <td>1366x768</td>\n",
              "      <td>Pentium</td>\n",
              "      <td>8.0</td>\n",
              "      <td>14.0</td>\n",
              "      <td>Intel UHD Graphics</td>\n",
              "      <td>Chrome OS</td>\n",
              "      <td>3.42</td>\n",
              "      <td>399.990000</td>\n",
              "    </tr>\n",
              "    <tr>\n",
              "      <th>2</th>\n",
              "      <td>HP</td>\n",
              "      <td>HP 2022 14\" IPS FHD Chromebook, Ryzen 3 Proces...</td>\n",
              "      <td>14.0</td>\n",
              "      <td>1920 x 1080</td>\n",
              "      <td>Ryzen 3</td>\n",
              "      <td>4.0</td>\n",
              "      <td>14.0</td>\n",
              "      <td>NaN</td>\n",
              "      <td>Chrome OS</td>\n",
              "      <td>4.75</td>\n",
              "      <td>169.990000</td>\n",
              "    </tr>\n",
              "    <tr>\n",
              "      <th>3</th>\n",
              "      <td>Dell</td>\n",
              "      <td>Dell Vostro 7510 Business Laptop, 15.6\" FHD Di...</td>\n",
              "      <td>15.6</td>\n",
              "      <td>1920 x 1080</td>\n",
              "      <td>Core i7 Family</td>\n",
              "      <td>16.0</td>\n",
              "      <td>15.6</td>\n",
              "      <td>NVIDIA GeForce RTX 3050</td>\n",
              "      <td>Windows 11 Pro</td>\n",
              "      <td>6.00</td>\n",
              "      <td>963.926015</td>\n",
              "    </tr>\n",
              "    <tr>\n",
              "      <th>4</th>\n",
              "      <td>SAMSUNG</td>\n",
              "      <td>SAMSUNG 15.6” Galaxy Book2 Pro with Intel ARC ...</td>\n",
              "      <td>15.6</td>\n",
              "      <td>1920 x 1080</td>\n",
              "      <td>Core i7</td>\n",
              "      <td>1.0</td>\n",
              "      <td>15.6</td>\n",
              "      <td>Intel ARC A350M</td>\n",
              "      <td>Windows</td>\n",
              "      <td>2.45</td>\n",
              "      <td>1899.990000</td>\n",
              "    </tr>\n",
              "  </tbody>\n",
              "</table>\n",
              "</div>\n",
              "      <button class=\"colab-df-convert\" onclick=\"convertToInteractive('df-259c3c46-7828-41c2-8a0d-6944063e8fc3')\"\n",
              "              title=\"Convert this dataframe to an interactive table.\"\n",
              "              style=\"display:none;\">\n",
              "        \n",
              "  <svg xmlns=\"http://www.w3.org/2000/svg\" height=\"24px\"viewBox=\"0 0 24 24\"\n",
              "       width=\"24px\">\n",
              "    <path d=\"M0 0h24v24H0V0z\" fill=\"none\"/>\n",
              "    <path d=\"M18.56 5.44l.94 2.06.94-2.06 2.06-.94-2.06-.94-.94-2.06-.94 2.06-2.06.94zm-11 1L8.5 8.5l.94-2.06 2.06-.94-2.06-.94L8.5 2.5l-.94 2.06-2.06.94zm10 10l.94 2.06.94-2.06 2.06-.94-2.06-.94-.94-2.06-.94 2.06-2.06.94z\"/><path d=\"M17.41 7.96l-1.37-1.37c-.4-.4-.92-.59-1.43-.59-.52 0-1.04.2-1.43.59L10.3 9.45l-7.72 7.72c-.78.78-.78 2.05 0 2.83L4 21.41c.39.39.9.59 1.41.59.51 0 1.02-.2 1.41-.59l7.78-7.78 2.81-2.81c.8-.78.8-2.07 0-2.86zM5.41 20L4 18.59l7.72-7.72 1.47 1.35L5.41 20z\"/>\n",
              "  </svg>\n",
              "      </button>\n",
              "      \n",
              "  <style>\n",
              "    .colab-df-container {\n",
              "      display:flex;\n",
              "      flex-wrap:wrap;\n",
              "      gap: 12px;\n",
              "    }\n",
              "\n",
              "    .colab-df-convert {\n",
              "      background-color: #E8F0FE;\n",
              "      border: none;\n",
              "      border-radius: 50%;\n",
              "      cursor: pointer;\n",
              "      display: none;\n",
              "      fill: #1967D2;\n",
              "      height: 32px;\n",
              "      padding: 0 0 0 0;\n",
              "      width: 32px;\n",
              "    }\n",
              "\n",
              "    .colab-df-convert:hover {\n",
              "      background-color: #E2EBFA;\n",
              "      box-shadow: 0px 1px 2px rgba(60, 64, 67, 0.3), 0px 1px 3px 1px rgba(60, 64, 67, 0.15);\n",
              "      fill: #174EA6;\n",
              "    }\n",
              "\n",
              "    [theme=dark] .colab-df-convert {\n",
              "      background-color: #3B4455;\n",
              "      fill: #D2E3FC;\n",
              "    }\n",
              "\n",
              "    [theme=dark] .colab-df-convert:hover {\n",
              "      background-color: #434B5C;\n",
              "      box-shadow: 0px 1px 3px 1px rgba(0, 0, 0, 0.15);\n",
              "      filter: drop-shadow(0px 1px 2px rgba(0, 0, 0, 0.3));\n",
              "      fill: #FFFFFF;\n",
              "    }\n",
              "  </style>\n",
              "\n",
              "      <script>\n",
              "        const buttonEl =\n",
              "          document.querySelector('#df-259c3c46-7828-41c2-8a0d-6944063e8fc3 button.colab-df-convert');\n",
              "        buttonEl.style.display =\n",
              "          google.colab.kernel.accessAllowed ? 'block' : 'none';\n",
              "\n",
              "        async function convertToInteractive(key) {\n",
              "          const element = document.querySelector('#df-259c3c46-7828-41c2-8a0d-6944063e8fc3');\n",
              "          const dataTable =\n",
              "            await google.colab.kernel.invokeFunction('convertToInteractive',\n",
              "                                                     [key], {});\n",
              "          if (!dataTable) return;\n",
              "\n",
              "          const docLinkHtml = 'Like what you see? Visit the ' +\n",
              "            '<a target=\"_blank\" href=https://colab.research.google.com/notebooks/data_table.ipynb>data table notebook</a>'\n",
              "            + ' to learn more about interactive tables.';\n",
              "          element.innerHTML = '';\n",
              "          dataTable['output_type'] = 'display_data';\n",
              "          await google.colab.output.renderOutput(dataTable, element);\n",
              "          const docLink = document.createElement('div');\n",
              "          docLink.innerHTML = docLinkHtml;\n",
              "          element.appendChild(docLink);\n",
              "        }\n",
              "      </script>\n",
              "    </div>\n",
              "  </div>\n",
              "  "
            ],
            "text/plain": [
              "   Company                                               Name  Inches  \\\n",
              "0     ASUS  ASUS Chromebook C424, 14.0\" 180 Degree FHD Nan...    14.0   \n",
              "1     Acer  Acer Chromebook Spin 314 Convertible Laptop | ...    14.0   \n",
              "2       HP  HP 2022 14\" IPS FHD Chromebook, Ryzen 3 Proces...    14.0   \n",
              "3     Dell  Dell Vostro 7510 Business Laptop, 15.6\" FHD Di...    15.6   \n",
              "4  SAMSUNG  SAMSUNG 15.6” Galaxy Book2 Pro with Intel ARC ...    15.6   \n",
              "\n",
              "  Screen_Resolution             CPU   RAM  Memory                      GPU  \\\n",
              "0         1920x1080   Celeron N4020   4.0    14.0   Intel UHD Graphics 600   \n",
              "1          1366x768         Pentium   8.0    14.0       Intel UHD Graphics   \n",
              "2       1920 x 1080         Ryzen 3   4.0    14.0                      NaN   \n",
              "3       1920 x 1080  Core i7 Family  16.0    15.6  NVIDIA GeForce RTX 3050   \n",
              "4       1920 x 1080         Core i7   1.0    15.6          Intel ARC A350M   \n",
              "\n",
              "            OpSys  Weights        Price  \n",
              "0       Chrome OS     5.16   249.990000  \n",
              "1       Chrome OS     3.42   399.990000  \n",
              "2       Chrome OS     4.75   169.990000  \n",
              "3  Windows 11 Pro     6.00   963.926015  \n",
              "4         Windows     2.45  1899.990000  "
            ]
          },
          "execution_count": 40,
          "metadata": {},
          "output_type": "execute_result"
        }
      ],
      "source": [
        "df_big.head()"
      ]
    },
    {
      "cell_type": "code",
      "execution_count": null,
      "metadata": {
        "colab": {
          "base_uri": "https://localhost:8080/"
        },
        "id": "uuf9JV_Iq4Ej",
        "outputId": "7616c306-befb-468f-a604-33cca5242645"
      },
      "outputs": [
        {
          "name": "stdout",
          "output_type": "stream",
          "text": [
            "<class 'pandas.core.frame.DataFrame'>\n",
            "RangeIndex: 10305 entries, 0 to 10304\n",
            "Data columns (total 11 columns):\n",
            " #   Column             Non-Null Count  Dtype  \n",
            "---  ------             --------------  -----  \n",
            " 0   Company            10305 non-null  object \n",
            " 1   Name               10305 non-null  object \n",
            " 2   Inches             10190 non-null  float64\n",
            " 3   Screen_Resolution  9281 non-null   object \n",
            " 4   CPU                9992 non-null   object \n",
            " 5   RAM                10241 non-null  float64\n",
            " 6   Memory             10190 non-null  float64\n",
            " 7   GPU                8675 non-null   object \n",
            " 8   OpSys              10083 non-null  object \n",
            " 9   Weights            9068 non-null   float64\n",
            " 10  Price              10305 non-null  float64\n",
            "dtypes: float64(5), object(6)\n",
            "memory usage: 885.7+ KB\n"
          ]
        }
      ],
      "source": [
        "df_big.info()"
      ]
    },
    {
      "cell_type": "code",
      "execution_count": null,
      "metadata": {
        "id": "JXmO_0gOr1GA"
      },
      "outputs": [],
      "source": [
        "from sklearn.model_selection import train_test_split\n",
        "X_big = df_big[['Memory', 'Inches', 'RAM', 'Weights']]\n",
        "y_big = np.log(df_big['Price'])\n",
        "X_train_b,X_test_b,y_train_b,y_test_b = train_test_split(X_big,y_big,test_size=0.3,random_state=2)\n",
        "X_test_b, X_val_b, y_test_b, y_val_b = train_test_split(X_test_b, y_test_b, test_size=0.5, random_state=2)"
      ]
    },
    {
      "cell_type": "code",
      "execution_count": null,
      "metadata": {
        "colab": {
          "base_uri": "https://localhost:8080/"
        },
        "id": "PnN-zH1T0Kf-",
        "outputId": "f210c00c-9f29-4037-9ece-443f54fc0efb"
      },
      "outputs": [
        {
          "name": "stderr",
          "output_type": "stream",
          "text": [
            "<ipython-input-43-90927f21a6ea>:35: FutureWarning: The frame.append method is deprecated and will be removed from pandas in a future version. Use pandas.concat instead.\n",
            "  result1 = result1.append(row, ignore_index=True)\n",
            "<ipython-input-43-90927f21a6ea>:35: FutureWarning: The frame.append method is deprecated and will be removed from pandas in a future version. Use pandas.concat instead.\n",
            "  result1 = result1.append(row, ignore_index=True)\n"
          ]
        },
        {
          "name": "stdout",
          "output_type": "stream",
          "text": [
            "Memory Inches    RAM Weights  Average r2 score\n",
            "  mean   mean   mean    mean          0.460420\n",
            "median median median  median          0.447937\n",
            "  mode   mode   mode    mode          0.464948\n"
          ]
        },
        {
          "name": "stderr",
          "output_type": "stream",
          "text": [
            "<ipython-input-43-90927f21a6ea>:35: FutureWarning: The frame.append method is deprecated and will be removed from pandas in a future version. Use pandas.concat instead.\n",
            "  result1 = result1.append(row, ignore_index=True)\n"
          ]
        }
      ],
      "source": [
        "import pandas as pd\n",
        "import numpy as np\n",
        "from sklearn.ensemble import RandomForestRegressor\n",
        "from sklearn.model_selection import cross_validate\n",
        "\n",
        "impute_methods = ['mean', 'median', 'mode']\n",
        "result1 = pd.DataFrame(columns=['Memory', 'Inches', 'RAM', 'Weights', 'Average r2 score'])\n",
        "\n",
        "for tech in impute_methods:\n",
        "    X_new = X_big.copy()\n",
        "    y_new = y_big.copy()\n",
        "    X_new['Memory'] = Impute_missing_value(X_new['Memory'], tech)\n",
        "    X_new['Inches'] = Impute_missing_value(X_new['Inches'], tech)\n",
        "    X_new['RAM'] = Impute_missing_value(X_new['RAM'], tech)\n",
        "    X_new['Weights'] = Impute_missing_value(X_new['Weights'], tech)\n",
        "\n",
        "    model = RandomForestRegressor(\n",
        "        random_state=3\n",
        "    )\n",
        "\n",
        "    results = cross_validate(model, X_new, y_new, cv=5, scoring='r2')\n",
        "    average_r2 = np.mean(results['test_score'])\n",
        "\n",
        "    row = {\n",
        "        'Memory': tech,\n",
        "        'Inches': tech,\n",
        "        'RAM': tech,\n",
        "        'Weights': tech,\n",
        "        'Average r2 score': average_r2\n",
        "    }\n",
        "    result1 = result1.append(row, ignore_index=True)\n",
        "print(result1.to_string(index=False))"
      ]
    },
    {
      "cell_type": "code",
      "execution_count": null,
      "metadata": {
        "id": "tL5oUU1k7Llq"
      },
      "outputs": [],
      "source": [
        "df_big['Memory'] = Impute_missing_value(df_big['Memory'], 'mode')\n",
        "df_big['Inches'] = Impute_missing_value(df_big['Inches'], 'mode')\n",
        "df_big['RAM'] = Impute_missing_value(df_big['RAM'], 'mode')\n",
        "df_big['Weights'] = Impute_missing_value(df_big['Weights'], 'mode')"
      ]
    },
    {
      "cell_type": "code",
      "execution_count": null,
      "metadata": {
        "colab": {
          "base_uri": "https://localhost:8080/"
        },
        "id": "KF1S_7-N7_g3",
        "outputId": "8fc90908-fb2a-41f0-eafe-10d3ac5a5ada"
      },
      "outputs": [
        {
          "name": "stdout",
          "output_type": "stream",
          "text": [
            "<class 'pandas.core.frame.DataFrame'>\n",
            "RangeIndex: 10305 entries, 0 to 10304\n",
            "Data columns (total 11 columns):\n",
            " #   Column             Non-Null Count  Dtype  \n",
            "---  ------             --------------  -----  \n",
            " 0   Company            10305 non-null  object \n",
            " 1   Name               10305 non-null  object \n",
            " 2   Inches             10305 non-null  float64\n",
            " 3   Screen_Resolution  9281 non-null   object \n",
            " 4   CPU                9992 non-null   object \n",
            " 5   RAM                10305 non-null  float64\n",
            " 6   Memory             10305 non-null  float64\n",
            " 7   GPU                8675 non-null   object \n",
            " 8   OpSys              10083 non-null  object \n",
            " 9   Weights            10305 non-null  float64\n",
            " 10  Price              10305 non-null  float64\n",
            "dtypes: float64(5), object(6)\n",
            "memory usage: 885.7+ KB\n"
          ]
        }
      ],
      "source": [
        "df_big.info()"
      ]
    },
    {
      "cell_type": "code",
      "execution_count": null,
      "metadata": {
        "id": "2IcoEBaP7lxY"
      },
      "outputs": [],
      "source": [
        "from sklearn.model_selection import train_test_split\n",
        "X_big = df_big[['Memory', 'RAM', 'Weights','Name', 'Inches', 'Screen_Resolution']]\n",
        "y_big = np.log(df_big['Price'])\n",
        "X_train_b,X_test_b,y_train_b,y_test_b = train_test_split(X_big,y_big,test_size=0.3,random_state=2)\n",
        "X_test_b, X_val_b, y_test_b, y_val_b = train_test_split(X_test_b, y_test_b, test_size=0.5, random_state=2)"
      ]
    },
    {
      "cell_type": "code",
      "execution_count": null,
      "metadata": {
        "colab": {
          "base_uri": "https://localhost:8080/"
        },
        "id": "N5Sq2_8d8Hv0",
        "outputId": "27039fee-5912-4a6e-d4b6-a33c21d04e6e"
      },
      "outputs": [
        {
          "name": "stderr",
          "output_type": "stream",
          "text": [
            "<ipython-input-47-33690e8349a1>:37: FutureWarning: The frame.append method is deprecated and will be removed from pandas in a future version. Use pandas.concat instead.\n",
            "  result1 = result1.append(row, ignore_index=True)\n",
            "<ipython-input-47-33690e8349a1>:37: FutureWarning: The frame.append method is deprecated and will be removed from pandas in a future version. Use pandas.concat instead.\n",
            "  result1 = result1.append(row, ignore_index=True)\n"
          ]
        },
        {
          "name": "stdout",
          "output_type": "stream",
          "text": [
            "Memory Inches RAM Weights Name Screen_Resolution  Average r2 score  X_res  Y_res Gaming Touchscreen    ppi\n",
            "   NaN    NaN NaN     NaN  NaN               NaN          0.544123   mean   mean   mean        mean   mean\n",
            "   NaN    NaN NaN     NaN  NaN               NaN          0.533085 median median median      median median\n",
            "   NaN    NaN NaN     NaN  NaN               NaN          0.533085   mode   mode   mode        mode   mode\n"
          ]
        },
        {
          "name": "stderr",
          "output_type": "stream",
          "text": [
            "<ipython-input-47-33690e8349a1>:37: FutureWarning: The frame.append method is deprecated and will be removed from pandas in a future version. Use pandas.concat instead.\n",
            "  result1 = result1.append(row, ignore_index=True)\n"
          ]
        }
      ],
      "source": [
        "import pandas as pd\n",
        "import numpy as np\n",
        "from sklearn.ensemble import RandomForestRegressor\n",
        "from sklearn.model_selection import cross_validate\n",
        "\n",
        "impute_methods = ['mean', 'median', 'mode']\n",
        "result1 = pd.DataFrame(columns=['Memory', 'Inches', 'RAM', 'Weights', 'Name','Screen_Resolution','Average r2 score'])\n",
        "\n",
        "for tech in impute_methods:\n",
        "    X_new = X_big.copy()\n",
        "    y_new = y_big.copy()\n",
        "    X_new = create_new_feature(X_new)\n",
        "    X_new['X_res'] = Impute_missing_value(X_new['X_res'], tech)\n",
        "    X_new['Y_res'] = Impute_missing_value(X_new['Y_res'], tech)\n",
        "    X_new['Gaming'] = Impute_missing_value(X_new['Gaming'], tech)\n",
        "    X_new['Touchscreen'] = Impute_missing_value(X_new['Touchscreen'], tech)\n",
        "    X_new['ppi'] = Impute_missing_value(X_new['ppi'], tech)\n",
        "\n",
        "    model = RandomForestRegressor(\n",
        "        random_state=3\n",
        "    )\n",
        "    results = cross_validate(model, X_new, y_new, cv=5, scoring='r2')\n",
        "    average_r2 = np.mean(results['test_score'])\n",
        "\n",
        "    row = {\n",
        "        'X_res': tech,\n",
        "        'Y_res': tech,\n",
        "        'Gaming': tech,\n",
        "        'Touchscreen': tech,\n",
        "        'ppi': tech,\n",
        "        'Average r2 score': average_r2\n",
        "    }\n",
        "    result1 = result1.append(row, ignore_index=True)\n",
        "print(result1.to_string(index=False))"
      ]
    },
    {
      "cell_type": "code",
      "execution_count": null,
      "metadata": {
        "id": "2vh6Vo7Z-o_t"
      },
      "outputs": [],
      "source": [
        "from sklearn.model_selection import train_test_split\n",
        "X_big = df_big.drop(columns=['Price'])\n",
        "y_big = np.log(df_big['Price'])\n",
        "X_train_b,X_test_b,y_train_b,y_test_b = train_test_split(X_big,y_big,test_size=0.3,random_state=2)\n",
        "X_test_b, X_val_b, y_test_b, y_val_b = train_test_split(X_test_b, y_test_b, test_size=0.5, random_state=2)"
      ]
    },
    {
      "cell_type": "code",
      "execution_count": null,
      "metadata": {
        "colab": {
          "base_uri": "https://localhost:8080/"
        },
        "id": "EpSVBWkH-6zF",
        "outputId": "41ea4e48-2d0f-4a06-9967-41b05b5d329a"
      },
      "outputs": [
        {
          "name": "stdout",
          "output_type": "stream",
          "text": [
            "<class 'pandas.core.frame.DataFrame'>\n",
            "RangeIndex: 10305 entries, 0 to 10304\n",
            "Data columns (total 13 columns):\n",
            " #   Column       Non-Null Count  Dtype  \n",
            "---  ------       --------------  -----  \n",
            " 0   Company      10305 non-null  int64  \n",
            " 1   Inches       10305 non-null  float64\n",
            " 2   RAM          10305 non-null  float64\n",
            " 3   Memory       10305 non-null  float64\n",
            " 4   OpSys        10305 non-null  int64  \n",
            " 5   Weights      10305 non-null  float64\n",
            " 6   X_res        10305 non-null  float64\n",
            " 7   Y_res        10305 non-null  float64\n",
            " 8   Cpu Brand    10305 non-null  int64  \n",
            " 9   Gpu brand    10305 non-null  int64  \n",
            " 10  Gaming       10305 non-null  int64  \n",
            " 11  Touchscreen  10305 non-null  int64  \n",
            " 12  ppi          10305 non-null  float64\n",
            "dtypes: float64(7), int64(6)\n",
            "memory usage: 1.0 MB\n"
          ]
        }
      ],
      "source": [
        "import pandas as pd\n",
        "import numpy as np\n",
        "from sklearn.ensemble import RandomForestRegressor\n",
        "from sklearn.model_selection import cross_validate\n",
        "\n",
        "result1 = pd.DataFrame(columns=['Company','Memory', 'CPU', 'GPU', 'Inches', 'RAM', 'Weights', 'Name','Screen_Resolution','OpSys', 'Average r2 score'])\n",
        "X_new = X_big.copy()\n",
        "y_new = y_big.copy()\n",
        "X_new = create_new_feature_1(X_new)\n",
        "X_new['X_res'] = Impute_missing_value(X_new['X_res'], 'mean')\n",
        "X_new['Y_res'] = Impute_missing_value(X_new['Y_res'], 'mean')\n",
        "X_new['Gaming'] = Impute_missing_value(X_new['Gaming'], 'mean')\n",
        "X_new['Touchscreen'] = Impute_missing_value(X_new['Touchscreen'], 'mean')\n",
        "X_new['ppi'] = Impute_missing_value(X_new['ppi'], 'mean')\n",
        "\n",
        "le = LabelEncoder()\n",
        "X_new['Company'] = le.fit_transform(X_new['Company'])\n",
        "X_new['OpSys'] = le.fit_transform(X_new['OpSys'])\n",
        "X_new['Cpu Brand'] = le.fit_transform(X_new['Cpu Brand'])\n",
        "X_new['Gpu brand'] = le.fit_transform(X_new['Gpu brand'])\n",
        "\n",
        "X_new.info()"
      ]
    },
    {
      "cell_type": "code",
      "execution_count": null,
      "metadata": {
        "id": "j7KQMkMSq4Em",
        "outputId": "717b97c6-2a2f-4f70-cf9e-45567bc41325"
      },
      "outputs": [
        {
          "name": "stderr",
          "output_type": "stream",
          "text": [
            "C:\\Users\\VIET TAY\\AppData\\Local\\Temp\\ipykernel_22892\\2956110137.py:1: UserWarning: \n",
            "\n",
            "`distplot` is a deprecated function and will be removed in seaborn v0.14.0.\n",
            "\n",
            "Please adapt your code to use either `displot` (a figure-level function with\n",
            "similar flexibility) or `histplot` (an axes-level function for histograms).\n",
            "\n",
            "For a guide to updating your code to use the new functions, please see\n",
            "https://gist.github.com/mwaskom/de44147ed2974457ad6372750bbe5751\n",
            "\n",
            "  sns.distplot(df_small['Price'])\n"
          ]
        },
        {
          "data": {
            "text/plain": [
              "<Axes: xlabel='Price', ylabel='Density'>"
            ]
          },
          "execution_count": 34,
          "metadata": {},
          "output_type": "execute_result"
        },
        {
          "data": {
            "image/png": "[encoded data removed]",
            "text/plain": [
              "<Figure size 640x480 with 1 Axes>"
            ]
          },
          "metadata": {},
          "output_type": "display_data"
        }
      ],
      "source": [
        "sns.distplot(df_small['Price'])"
      ]
    },
    {
      "cell_type": "code",
      "execution_count": null,
      "metadata": {
        "id": "lAUheIgFq4Em",
        "outputId": "7d8c2810-b7d7-4ffe-8685-281fc1eeace9"
      },
      "outputs": [
        {
          "data": {
            "image/png": "[encoded data removed]",
            "text/plain": [
              "<Figure size 1200x700 with 1 Axes>"
            ]
          },
          "metadata": {},
          "output_type": "display_data"
        }
      ],
      "source": [
        "plt.figure(figsize=[12,7])\n",
        "rs = df_small['Company'].value_counts(ascending=True)\n",
        "rs.plot(kind='barh')\n",
        "plt.show()"
      ]
    },
    {
      "cell_type": "code",
      "execution_count": null,
      "metadata": {
        "id": "Z5j3Ou2Yq4Em",
        "outputId": "6220dbbb-744b-43af-a63e-31f36f364983"
      },
      "outputs": [
        {
          "data": {
            "image/png": "[encoded data removed]",
            "text/plain": [
              "<Figure size 640x480 with 1 Axes>"
            ]
          },
          "metadata": {},
          "output_type": "display_data"
        }
      ],
      "source": [
        "sns.barplot(x=df_small['Company'],y=df_small['Price'])\n",
        "plt.xticks(rotation='vertical')\n",
        "plt.show()"
      ]
    },
    {
      "cell_type": "code",
      "execution_count": null,
      "metadata": {
        "id": "ZW4IUmFgq4En",
        "outputId": "5277a43d-925c-4d41-927b-4e42eb787789"
      },
      "outputs": [
        {
          "name": "stderr",
          "output_type": "stream",
          "text": [
            "C:\\Users\\VIET TAY\\AppData\\Local\\Temp\\ipykernel_22892\\529864925.py:1: UserWarning: \n",
            "\n",
            "`distplot` is a deprecated function and will be removed in seaborn v0.14.0.\n",
            "\n",
            "Please adapt your code to use either `displot` (a figure-level function with\n",
            "similar flexibility) or `histplot` (an axes-level function for histograms).\n",
            "\n",
            "For a guide to updating your code to use the new functions, please see\n",
            "https://gist.github.com/mwaskom/de44147ed2974457ad6372750bbe5751\n",
            "\n",
            "  sns.distplot(df_small['Inches'])\n"
          ]
        },
        {
          "data": {
            "text/plain": [
              "<Axes: xlabel='Inches', ylabel='Density'>"
            ]
          },
          "execution_count": 40,
          "metadata": {},
          "output_type": "execute_result"
        },
        {
          "data": {
            "image/png": "[encoded data removed]",
            "text/plain": [
              "<Figure size 640x480 with 1 Axes>"
            ]
          },
          "metadata": {},
          "output_type": "display_data"
        }
      ],
      "source": [
        "sns.distplot(df_small['Inches'])"
      ]
    },
    {
      "cell_type": "code",
      "execution_count": null,
      "metadata": {
        "id": "siQdyBZAq4En",
        "outputId": "9f1a384a-1499-4009-ffe0-33dc75a6fc95"
      },
      "outputs": [
        {
          "data": {
            "text/plain": [
              "<Axes: xlabel='Inches', ylabel='Price'>"
            ]
          },
          "execution_count": 41,
          "metadata": {},
          "output_type": "execute_result"
        },
        {
          "data": {
            "image/png": "[encoded data removed]",
            "text/plain": [
              "<Figure size 640x480 with 1 Axes>"
            ]
          },
          "metadata": {},
          "output_type": "display_data"
        }
      ],
      "source": [
        "sns.scatterplot(x=df_small['Inches'],y=df_small['Price'])"
      ]
    },
    {
      "cell_type": "code",
      "execution_count": null,
      "metadata": {
        "id": "Coq5vHblq4En",
        "outputId": "d4e47384-12ca-40ef-ff75-34d818c4737f"
      },
      "outputs": [
        {
          "data": {
            "text/plain": [
              "<Axes: >"
            ]
          },
          "execution_count": 43,
          "metadata": {},
          "output_type": "execute_result"
        },
        {
          "data": {
            "image/png": "[encoded data removed]",
            "text/plain": [
              "<Figure size 640x480 with 1 Axes>"
            ]
          },
          "metadata": {},
          "output_type": "display_data"
        }
      ],
      "source": [
        "df_small['RAM'].value_counts().plot(kind='bar')"
      ]
    },
    {
      "cell_type": "code",
      "execution_count": null,
      "metadata": {
        "id": "VXRCeczYq4En",
        "outputId": "08a6d6fc-da6e-4c25-a109-da0639c7878f"
      },
      "outputs": [
        {
          "data": {
            "image/png": "[encoded data removed]",
            "text/plain": [
              "<Figure size 640x480 with 1 Axes>"
            ]
          },
          "metadata": {},
          "output_type": "display_data"
        }
      ],
      "source": [
        "sns.barplot(x=df_small['RAM'],y=df_small['Price'])\n",
        "plt.xticks(rotation='vertical')\n",
        "plt.show()"
      ]
    },
    {
      "cell_type": "code",
      "execution_count": null,
      "metadata": {
        "id": "ByRd1GX_q4Eo",
        "outputId": "3938aeea-0f6b-42dd-8a75-8e3582d3ff24"
      },
      "outputs": [
        {
          "data": {
            "text/plain": [
              "<Axes: >"
            ]
          },
          "execution_count": 57,
          "metadata": {},
          "output_type": "execute_result"
        },
        {
          "data": {
            "image/png": "[encoded data removed]",
            "text/plain": [
              "<Figure size 640x480 with 1 Axes>"
            ]
          },
          "metadata": {},
          "output_type": "display_data"
        }
      ],
      "source": [
        "df_small['Memory'].value_counts().plot(kind='bar')"
      ]
    },
    {
      "cell_type": "code",
      "execution_count": null,
      "metadata": {
        "id": "cU2-l6RPq4Eo",
        "outputId": "240c1592-64b3-4788-bfaf-efdda851372d"
      },
      "outputs": [
        {
          "data": {
            "image/png": "[encoded data removed]",
            "text/plain": [
              "<Figure size 640x480 with 1 Axes>"
            ]
          },
          "metadata": {},
          "output_type": "display_data"
        }
      ],
      "source": [
        "sns.barplot(x=df_small['Memory'],y=df_small['Price'])\n",
        "plt.xticks(rotation='vertical')\n",
        "plt.show()"
      ]
    },
    {
      "cell_type": "code",
      "execution_count": null,
      "metadata": {
        "id": "wYpW8cNhq4Eo",
        "outputId": "2a8c94d7-97f1-4d50-96cc-ce0386f1abb3"
      },
      "outputs": [
        {
          "data": {
            "image/png": "[encoded data removed]",
            "text/plain": [
              "<Figure size 640x480 with 1 Axes>"
            ]
          },
          "metadata": {},
          "output_type": "display_data"
        }
      ],
      "source": [
        "sns.barplot(x=df_small['OpSys'],y=df_small['Price'])\n",
        "plt.xticks(rotation='vertical')\n",
        "plt.show()"
      ]
    },
    {
      "cell_type": "code",
      "execution_count": null,
      "metadata": {
        "id": "16celxfxq4Eo",
        "outputId": "a250fb35-3382-4b64-d9f8-6e0553af9b5f"
      },
      "outputs": [
        {
          "name": "stderr",
          "output_type": "stream",
          "text": [
            "C:\\Users\\VIET TAY\\AppData\\Local\\Temp\\ipykernel_22892\\1415979451.py:1: UserWarning: \n",
            "\n",
            "`distplot` is a deprecated function and will be removed in seaborn v0.14.0.\n",
            "\n",
            "Please adapt your code to use either `displot` (a figure-level function with\n",
            "similar flexibility) or `histplot` (an axes-level function for histograms).\n",
            "\n",
            "For a guide to updating your code to use the new functions, please see\n",
            "https://gist.github.com/mwaskom/de44147ed2974457ad6372750bbe5751\n",
            "\n",
            "  sns.distplot(df_small['Weights'])\n"
          ]
        },
        {
          "data": {
            "text/plain": [
              "<Axes: xlabel='Weights', ylabel='Density'>"
            ]
          },
          "execution_count": 62,
          "metadata": {},
          "output_type": "execute_result"
        },
        {
          "data": {
            "image/png": "[encoded data removed]",
            "text/plain": [
              "<Figure size 640x480 with 1 Axes>"
            ]
          },
          "metadata": {},
          "output_type": "display_data"
        }
      ],
      "source": [
        "sns.distplot(df_small['Weights'])"
      ]
    },
    {
      "cell_type": "code",
      "execution_count": null,
      "metadata": {
        "id": "oHPU0kO4q4Ep",
        "outputId": "5d807e58-8e20-4d12-a9ac-d8cc2e0bd71c"
      },
      "outputs": [
        {
          "data": {
            "text/plain": [
              "<Axes: xlabel='Weights', ylabel='Price'>"
            ]
          },
          "execution_count": 65,
          "metadata": {},
          "output_type": "execute_result"
        },
        {
          "data": {
            "image/png": "[encoded data removed]",
            "text/plain": [
              "<Figure size 640x480 with 1 Axes>"
            ]
          },
          "metadata": {},
          "output_type": "display_data"
        }
      ],
      "source": [
        "sns.scatterplot(x=df_small['Weights'],y=df_small['Price'])"
      ]
    },
    {
      "cell_type": "code",
      "execution_count": null,
      "metadata": {
        "id": "_Yl1yxi6q4Ez",
        "outputId": "32a24a64-d0c1-49d6-9fed-e165bd5ee97d"
      },
      "outputs": [
        {
          "data": {
            "text/plain": [
              "<Axes: >"
            ]
          },
          "execution_count": 66,
          "metadata": {},
          "output_type": "execute_result"
        },
        {
          "data": {
            "image/png": "[encoded data removed]",
            "text/plain": [
              "<Figure size 640x480 with 1 Axes>"
            ]
          },
          "metadata": {},
          "output_type": "display_data"
        }
      ],
      "source": [
        "df_small['Gaming'].value_counts().plot(kind='bar')"
      ]
    },
    {
      "cell_type": "code",
      "execution_count": null,
      "metadata": {
        "id": "9D43CP_4q4E0",
        "outputId": "84e3f880-31a2-4e43-9837-3faa2d7c94f8"
      },
      "outputs": [
        {
          "data": {
            "text/plain": [
              "<Axes: xlabel='Gaming', ylabel='Price'>"
            ]
          },
          "execution_count": 67,
          "metadata": {},
          "output_type": "execute_result"
        },
        {
          "data": {
            "image/png": "[encoded data removed]",
            "text/plain": [
              "<Figure size 640x480 with 1 Axes>"
            ]
          },
          "metadata": {},
          "output_type": "display_data"
        }
      ],
      "source": [
        "sns.barplot(x=df_small['Gaming'],y=df_small['Price'])"
      ]
    },
    {
      "cell_type": "code",
      "execution_count": null,
      "metadata": {
        "id": "TC5_t6hgq4E0",
        "outputId": "9465d12c-fd0c-4f49-9be2-223413392244"
      },
      "outputs": [
        {
          "data": {
            "text/plain": [
              "<Axes: >"
            ]
          },
          "execution_count": 71,
          "metadata": {},
          "output_type": "execute_result"
        },
        {
          "data": {
            "image/png": "[encoded data removed]",
            "text/plain": [
              "<Figure size 640x480 with 1 Axes>"
            ]
          },
          "metadata": {},
          "output_type": "display_data"
        }
      ],
      "source": [
        "df_small['Touchscreen'].value_counts().plot(kind='bar')"
      ]
    },
    {
      "cell_type": "code",
      "execution_count": null,
      "metadata": {
        "id": "ckyyvdhAq4E0",
        "outputId": "56ba7ea1-9c79-4ac6-9f4c-c869aa03ceb2"
      },
      "outputs": [
        {
          "data": {
            "text/plain": [
              "<Axes: xlabel='Touchscreen', ylabel='Price'>"
            ]
          },
          "execution_count": 74,
          "metadata": {},
          "output_type": "execute_result"
        },
        {
          "data": {
            "image/png": "[encoded data removed]",
            "text/plain": [
              "<Figure size 640x480 with 1 Axes>"
            ]
          },
          "metadata": {},
          "output_type": "display_data"
        }
      ],
      "source": [
        "sns.barplot(x=df_small['Touchscreen'],y=df_small['Price'])"
      ]
    },
    {
      "cell_type": "code",
      "execution_count": null,
      "metadata": {
        "id": "PU6CqVNJq4E0",
        "outputId": "ff0cd324-382f-493e-a83d-a2cc0e14d163"
      },
      "outputs": [
        {
          "data": {
            "image/png": "[encoded data removed]",
            "text/plain": [
              "<Figure size 1200x700 with 1 Axes>"
            ]
          },
          "metadata": {},
          "output_type": "display_data"
        }
      ],
      "source": [
        "plt.figure(figsize=[12,7])\n",
        "rs = df_small['Cpu Brand'].value_counts(ascending=True)\n",
        "rs.plot(kind='barh')\n",
        "plt.show()"
      ]
    },
    {
      "cell_type": "code",
      "execution_count": null,
      "metadata": {
        "id": "BX49Xyjmq4E1",
        "outputId": "1db04fea-af11-4a26-b39b-f072792f48f1"
      },
      "outputs": [
        {
          "data": {
            "image/png": "[encoded data removed]",
            "text/plain": [
              "<Figure size 640x480 with 1 Axes>"
            ]
          },
          "metadata": {},
          "output_type": "display_data"
        }
      ],
      "source": [
        "sns.barplot(x=df_small['Cpu Brand'],y=df_small['Price'])\n",
        "plt.xticks(rotation='vertical')\n",
        "plt.show()"
      ]
    },
    {
      "cell_type": "code",
      "execution_count": 70,
      "metadata": {
        "id": "mpE0hOvCq4E2"
      },
      "outputs": [],
      "source": [
        "df_big = pd.read_csv('./raw data/10000_data.csv')\n",
        "df_big = clean_all_data_big(df_big)"
      ]
    },
    {
      "cell_type": "code",
      "execution_count": 71,
      "metadata": {},
      "outputs": [],
      "source": [
        "df_small = pd.read_csv('./raw data/1000_sampled_data.csv')\n",
        "df_small = clean_all_data_small(df_small)\n",
        "df_small['Price'] = Impute_missing_value(df_small['Price'],'mean')"
      ]
    },
    {
      "cell_type": "code",
      "execution_count": 72,
      "metadata": {},
      "outputs": [],
      "source": [
        "from sklearn.model_selection import train_test_split\n",
        "X_small = df_small.drop(columns=['Price'])\n",
        "y_small = np.log(df_small['Price'])\n",
        "X_train_s,X_test_s,y_train_s,y_test_s = train_test_split(X_small,y_small,test_size=0.3, random_state = 2)\n",
        "X_test_s, X_val_s, y_test_s, y_val_s = train_test_split(X_test_s, y_test_s, test_size=0.5, random_state=2)"
      ]
    },
    {
      "cell_type": "code",
      "execution_count": 73,
      "metadata": {},
      "outputs": [],
      "source": [
        "X_big = df_big.drop(columns=['Price'])\n",
        "y_big = np.log(df_big['Price'])\n",
        "X_train_b,X_test_b,y_train_b,y_test_b = train_test_split(X_big,y_big,test_size=0.3,random_state=2)\n",
        "X_test_b, X_val_b, y_test_b, y_val_b = train_test_split(X_test_b, y_test_b, test_size=0.5, random_state=2)"
      ]
    },
    {
      "cell_type": "code",
      "execution_count": 74,
      "metadata": {},
      "outputs": [
        {
          "data": {
            "text/html": [
              "<div>\n",
              "<style scoped>\n",
              "    .dataframe tbody tr th:only-of-type {\n",
              "        vertical-align: middle;\n",
              "    }\n",
              "\n",
              "    .dataframe tbody tr th {\n",
              "        vertical-align: top;\n",
              "    }\n",
              "\n",
              "    .dataframe thead th {\n",
              "        text-align: right;\n",
              "    }\n",
              "</style>\n",
              "<table border=\"1\" class=\"dataframe\">\n",
              "  <thead>\n",
              "    <tr style=\"text-align: right;\">\n",
              "      <th></th>\n",
              "      <th>Company</th>\n",
              "      <th>Name</th>\n",
              "      <th>Inches</th>\n",
              "      <th>Screen_Resolution</th>\n",
              "      <th>CPU</th>\n",
              "      <th>RAM</th>\n",
              "      <th>Memory</th>\n",
              "      <th>GPU</th>\n",
              "      <th>OpSys</th>\n",
              "      <th>Weights</th>\n",
              "    </tr>\n",
              "  </thead>\n",
              "  <tbody>\n",
              "    <tr>\n",
              "      <th>1495</th>\n",
              "      <td>Asus</td>\n",
              "      <td>ASUS VivoBook 13 Slate OLED Steven Harrington ...</td>\n",
              "      <td>13.3</td>\n",
              "      <td>1920x1080</td>\n",
              "      <td>Pentium</td>\n",
              "      <td>8</td>\n",
              "      <td>256.0</td>\n",
              "      <td>Intel UHD Graphics</td>\n",
              "      <td>Windows</td>\n",
              "      <td>1.72</td>\n",
              "    </tr>\n",
              "    <tr>\n",
              "      <th>5504</th>\n",
              "      <td>Asus</td>\n",
              "      <td>ASUS Chromebook C424, 14.0\" 180 Degree FHD Nan...</td>\n",
              "      <td>14.0</td>\n",
              "      <td>1920x1080</td>\n",
              "      <td>Celeron N4020</td>\n",
              "      <td>4</td>\n",
              "      <td>128.0</td>\n",
              "      <td>Intel UHD Graphics 600</td>\n",
              "      <td>Chrome OS</td>\n",
              "      <td>5.16</td>\n",
              "    </tr>\n",
              "    <tr>\n",
              "      <th>4507</th>\n",
              "      <td>Dell</td>\n",
              "      <td>Dell Latitude 7000 7320 13.3\" Notebook - Full ...</td>\n",
              "      <td>13.3</td>\n",
              "      <td>1920 x 1080</td>\n",
              "      <td>Core i5 Family</td>\n",
              "      <td>16</td>\n",
              "      <td>256.0</td>\n",
              "      <td>Intel Iris Xe Graphics</td>\n",
              "      <td>Windows</td>\n",
              "      <td>2.50</td>\n",
              "    </tr>\n",
              "    <tr>\n",
              "      <th>8630</th>\n",
              "      <td>Asus</td>\n",
              "      <td>ASUS VivoBook 15.6'' FHD Touch-Screen Thin&amp;Lig...</td>\n",
              "      <td>15.6</td>\n",
              "      <td>1920x1080</td>\n",
              "      <td>Intel Core i5</td>\n",
              "      <td>12</td>\n",
              "      <td>512.0</td>\n",
              "      <td>Intel UHD Graphics 620</td>\n",
              "      <td>Windows</td>\n",
              "      <td>3.00</td>\n",
              "    </tr>\n",
              "    <tr>\n",
              "      <th>536</th>\n",
              "      <td>Lenovo</td>\n",
              "      <td>Lenovo IdeaPad 3 15.6\" HD High Performance Lap...</td>\n",
              "      <td>15.6</td>\n",
              "      <td>1366x768</td>\n",
              "      <td>Core i5</td>\n",
              "      <td>8</td>\n",
              "      <td>256.0</td>\n",
              "      <td>Intel UHD Graphics</td>\n",
              "      <td>Windows</td>\n",
              "      <td>3.96</td>\n",
              "    </tr>\n",
              "    <tr>\n",
              "      <th>...</th>\n",
              "      <td>...</td>\n",
              "      <td>...</td>\n",
              "      <td>...</td>\n",
              "      <td>...</td>\n",
              "      <td>...</td>\n",
              "      <td>...</td>\n",
              "      <td>...</td>\n",
              "      <td>...</td>\n",
              "      <td>...</td>\n",
              "      <td>...</td>\n",
              "    </tr>\n",
              "    <tr>\n",
              "      <th>4579</th>\n",
              "      <td>Acer</td>\n",
              "      <td>Acer Predator Triton 500 SE Gaming/Creator Lap...</td>\n",
              "      <td>16.0</td>\n",
              "      <td>2560 x 1600</td>\n",
              "      <td>Core i9</td>\n",
              "      <td>32</td>\n",
              "      <td>1024.0</td>\n",
              "      <td>NaN</td>\n",
              "      <td>Windows</td>\n",
              "      <td>5.29</td>\n",
              "    </tr>\n",
              "    <tr>\n",
              "      <th>8220</th>\n",
              "      <td>HP</td>\n",
              "      <td>EliteBook 820 G1 12.5\" LED Notebook - Intel Co...</td>\n",
              "      <td>12.5</td>\n",
              "      <td>NaN</td>\n",
              "      <td>Core i5</td>\n",
              "      <td>8</td>\n",
              "      <td>180.0</td>\n",
              "      <td>Intel HD Graphics 4400</td>\n",
              "      <td>Windows</td>\n",
              "      <td>5.20</td>\n",
              "    </tr>\n",
              "    <tr>\n",
              "      <th>10271</th>\n",
              "      <td>Acer</td>\n",
              "      <td>Acer Chromebook 511 (C741L) Chromebook Qualcom...</td>\n",
              "      <td>11.6</td>\n",
              "      <td>1366 x 768</td>\n",
              "      <td>Qualcomm Kryo 468</td>\n",
              "      <td>4</td>\n",
              "      <td>NaN</td>\n",
              "      <td>Adreno 618</td>\n",
              "      <td>Chrome OS</td>\n",
              "      <td>2.87</td>\n",
              "    </tr>\n",
              "    <tr>\n",
              "      <th>7607</th>\n",
              "      <td>Lenovo</td>\n",
              "      <td>Lenovo Thinkpad X240 Ultrabook 20AMA2H9US ( 12...</td>\n",
              "      <td>12.5</td>\n",
              "      <td>1366 x 768</td>\n",
              "      <td>Core i7</td>\n",
              "      <td>8</td>\n",
              "      <td>500.0</td>\n",
              "      <td>Intel HD Graphics</td>\n",
              "      <td>Windows</td>\n",
              "      <td>5.50</td>\n",
              "    </tr>\n",
              "    <tr>\n",
              "      <th>6183</th>\n",
              "      <td>HP</td>\n",
              "      <td>2022 HP Victus 15.6\" 144Hz Gaming Laptop, Inte...</td>\n",
              "      <td>15.6</td>\n",
              "      <td>1920 x 1080</td>\n",
              "      <td>Core i5</td>\n",
              "      <td>32</td>\n",
              "      <td>2048.0</td>\n",
              "      <td>NVIDIA GeForce GTX 1650</td>\n",
              "      <td>Windows</td>\n",
              "      <td>5.06</td>\n",
              "    </tr>\n",
              "  </tbody>\n",
              "</table>\n",
              "<p>100 rows × 10 columns</p>\n",
              "</div>"
            ],
            "text/plain": [
              "      Company                                               Name  Inches   \n",
              "1495     Asus  ASUS VivoBook 13 Slate OLED Steven Harrington ...    13.3  \\\n",
              "5504     Asus  ASUS Chromebook C424, 14.0\" 180 Degree FHD Nan...    14.0   \n",
              "4507     Dell  Dell Latitude 7000 7320 13.3\" Notebook - Full ...    13.3   \n",
              "8630     Asus  ASUS VivoBook 15.6'' FHD Touch-Screen Thin&Lig...    15.6   \n",
              "536    Lenovo  Lenovo IdeaPad 3 15.6\" HD High Performance Lap...    15.6   \n",
              "...       ...                                                ...     ...   \n",
              "4579     Acer  Acer Predator Triton 500 SE Gaming/Creator Lap...    16.0   \n",
              "8220       HP  EliteBook 820 G1 12.5\" LED Notebook - Intel Co...    12.5   \n",
              "10271    Acer  Acer Chromebook 511 (C741L) Chromebook Qualcom...    11.6   \n",
              "7607   Lenovo  Lenovo Thinkpad X240 Ultrabook 20AMA2H9US ( 12...    12.5   \n",
              "6183       HP  2022 HP Victus 15.6\" 144Hz Gaming Laptop, Inte...    15.6   \n",
              "\n",
              "      Screen_Resolution                CPU  RAM  Memory   \n",
              "1495          1920x1080            Pentium    8   256.0  \\\n",
              "5504          1920x1080      Celeron N4020    4   128.0   \n",
              "4507        1920 x 1080     Core i5 Family   16   256.0   \n",
              "8630          1920x1080      Intel Core i5   12   512.0   \n",
              "536            1366x768            Core i5    8   256.0   \n",
              "...                 ...                ...  ...     ...   \n",
              "4579        2560 x 1600            Core i9   32  1024.0   \n",
              "8220                NaN            Core i5    8   180.0   \n",
              "10271        1366 x 768  Qualcomm Kryo 468    4     NaN   \n",
              "7607         1366 x 768            Core i7    8   500.0   \n",
              "6183        1920 x 1080            Core i5   32  2048.0   \n",
              "\n",
              "                           GPU      OpSys  Weights  \n",
              "1495        Intel UHD Graphics    Windows     1.72  \n",
              "5504    Intel UHD Graphics 600  Chrome OS     5.16  \n",
              "4507    Intel Iris Xe Graphics    Windows     2.50  \n",
              "8630    Intel UHD Graphics 620    Windows     3.00  \n",
              "536         Intel UHD Graphics    Windows     3.96  \n",
              "...                        ...        ...      ...  \n",
              "4579                       NaN    Windows     5.29  \n",
              "8220    Intel HD Graphics 4400    Windows     5.20  \n",
              "10271               Adreno 618  Chrome OS     2.87  \n",
              "7607         Intel HD Graphics    Windows     5.50  \n",
              "6183   NVIDIA GeForce GTX 1650    Windows     5.06  \n",
              "\n",
              "[100 rows x 10 columns]"
            ]
          },
          "execution_count": 74,
          "metadata": {},
          "output_type": "execute_result"
        }
      ],
      "source": [
        "X_big.sample(100)"
      ]
    },
    {
      "cell_type": "code",
      "execution_count": 76,
      "metadata": {},
      "outputs": [],
      "source": [
        "X_big = create_new_feature_1(X_big)\n",
        "X_small = create_new_feature_1(X_small)"
      ]
    },
    {
      "cell_type": "code",
      "execution_count": 77,
      "metadata": {},
      "outputs": [],
      "source": [
        "X_big['X_res'] = Impute_missing_value(X_big['X_res'], 'mean')\n",
        "X_big['Y_res'] = Impute_missing_value(X_big['Y_res'], 'mean')\n",
        "X_big['Memory'] = Impute_missing_value(X_big['Memory'], 'mean')\n",
        "X_big['Inches'] = Impute_missing_value(X_big['Inches'], 'mean')\n",
        "X_big['RAM'] = Impute_missing_value(X_big['RAM'], 'mean')\n",
        "X_big['Weights'] = Impute_missing_value(X_big['Weights'], 'mean')\n",
        "X_big['Cpu Brand'] = Impute_missing_value(X_big['Cpu Brand'], 'mode')\n",
        "X_big['Gpu brand'] = Impute_missing_value(X_big['Gpu brand'], 'mode')\n",
        "X_big['OpSys'] = Impute_missing_value(X_big['OpSys'], 'mode')"
      ]
    },
    {
      "cell_type": "code",
      "execution_count": 78,
      "metadata": {},
      "outputs": [],
      "source": [
        "X_small['X_res'] = Impute_missing_value(X_small['X_res'], 'mean')\n",
        "X_small['Y_res'] = Impute_missing_value(X_small['Y_res'], 'mean')\n",
        "X_small['Memory'] = Impute_missing_value(X_small['Memory'], 'mean')\n",
        "X_small['Inches'] = Impute_missing_value(X_small['Inches'], 'mean')\n",
        "X_small['RAM'] = Impute_missing_value(X_small['RAM'], 'mean')\n",
        "X_small['Weights'] = Impute_missing_value(X_small['Weights'], 'mean')\n",
        "X_small['Cpu Brand'] = Impute_missing_value(X_small['Cpu Brand'], 'mode')\n",
        "X_small['Gpu brand'] = Impute_missing_value(X_small['Gpu brand'], 'mode')\n",
        "X_small['OpSys'] = Impute_missing_value(X_small['OpSys'], 'mode')"
      ]
    },
    {
      "cell_type": "code",
      "execution_count": 86,
      "metadata": {},
      "outputs": [
        {
          "name": "stdout",
          "output_type": "stream",
          "text": [
            "<class 'pandas.core.frame.DataFrame'>\n",
            "RangeIndex: 1000 entries, 0 to 999\n",
            "Data columns (total 13 columns):\n",
            " #   Column       Non-Null Count  Dtype  \n",
            "---  ------       --------------  -----  \n",
            " 0   Company      1000 non-null   int32  \n",
            " 1   Inches       1000 non-null   float64\n",
            " 2   RAM          1000 non-null   int32  \n",
            " 3   Memory       1000 non-null   float64\n",
            " 4   OpSys        1000 non-null   int32  \n",
            " 5   Weights      1000 non-null   float64\n",
            " 6   X_res        1000 non-null   float64\n",
            " 7   Y_res        1000 non-null   float64\n",
            " 8   Cpu Brand    1000 non-null   int32  \n",
            " 9   Gpu brand    1000 non-null   int32  \n",
            " 10  Gaming       1000 non-null   int32  \n",
            " 11  Touchscreen  1000 non-null   int32  \n",
            " 12  ppi          1000 non-null   float64\n",
            "dtypes: float64(6), int32(7)\n",
            "memory usage: 74.3 KB\n"
          ]
        }
      ],
      "source": [
        "X_small.info()"
      ]
    },
    {
      "cell_type": "code",
      "execution_count": 80,
      "metadata": {},
      "outputs": [],
      "source": [
        "X_small = create_feature_ppi(X_small)\n",
        "X_big = create_feature_ppi(X_big)"
      ]
    },
    {
      "cell_type": "code",
      "execution_count": 85,
      "metadata": {},
      "outputs": [
        {
          "name": "stdout",
          "output_type": "stream",
          "text": [
            "<class 'pandas.core.frame.DataFrame'>\n",
            "RangeIndex: 10305 entries, 0 to 10304\n",
            "Data columns (total 13 columns):\n",
            " #   Column       Non-Null Count  Dtype  \n",
            "---  ------       --------------  -----  \n",
            " 0   Company      10305 non-null  int32  \n",
            " 1   Inches       10305 non-null  float64\n",
            " 2   RAM          10305 non-null  int32  \n",
            " 3   Memory       10305 non-null  float64\n",
            " 4   OpSys        10305 non-null  int32  \n",
            " 5   Weights      10305 non-null  float64\n",
            " 6   X_res        10305 non-null  float64\n",
            " 7   Y_res        10305 non-null  float64\n",
            " 8   Cpu Brand    10305 non-null  int32  \n",
            " 9   Gpu brand    10305 non-null  int32  \n",
            " 10  Gaming       10305 non-null  int32  \n",
            " 11  Touchscreen  10305 non-null  int32  \n",
            " 12  ppi          10305 non-null  float64\n",
            "dtypes: float64(6), int32(7)\n",
            "memory usage: 764.9 KB\n"
          ]
        }
      ],
      "source": [
        "X_big.info()"
      ]
    },
    {
      "cell_type": "code",
      "execution_count": 83,
      "metadata": {},
      "outputs": [],
      "source": [
        "le = LabelEncoder()\n",
        "X_big['Company'] = le.fit_transform(X_big['Company'])\n",
        "X_big['OpSys'] = le.fit_transform(X_big['OpSys'])\n",
        "X_big['Cpu Brand'] = le.fit_transform(X_big['Cpu Brand'])\n",
        "X_big['Gpu brand'] = le.fit_transform(X_big['Gpu brand'])"
      ]
    },
    {
      "cell_type": "code",
      "execution_count": 84,
      "metadata": {},
      "outputs": [],
      "source": [
        "X_small['Company'] = le.fit_transform(X_small['Company'])\n",
        "X_small['OpSys'] = le.fit_transform(X_small['OpSys'])\n",
        "X_small['Cpu Brand'] = le.fit_transform(X_small['Cpu Brand'])\n",
        "X_small['Gpu brand'] = le.fit_transform(X_small['Gpu brand'])"
      ]
    },
    {
      "cell_type": "code",
      "execution_count": 90,
      "metadata": {
        "id": "XNOBOUc4q4E3",
        "outputId": "9b6c0f12-3e03-4ed9-85ee-2757cff06427"
      },
      "outputs": [
        {
          "data": {
            "text/html": [
              "<div>\n",
              "<style scoped>\n",
              "    .dataframe tbody tr th:only-of-type {\n",
              "        vertical-align: middle;\n",
              "    }\n",
              "\n",
              "    .dataframe tbody tr th {\n",
              "        vertical-align: top;\n",
              "    }\n",
              "\n",
              "    .dataframe thead th {\n",
              "        text-align: right;\n",
              "    }\n",
              "</style>\n",
              "<table border=\"1\" class=\"dataframe\">\n",
              "  <thead>\n",
              "    <tr style=\"text-align: right;\">\n",
              "      <th></th>\n",
              "      <th>Company</th>\n",
              "      <th>Inches</th>\n",
              "      <th>RAM</th>\n",
              "      <th>Memory</th>\n",
              "      <th>OpSys</th>\n",
              "      <th>Weights</th>\n",
              "      <th>X_res</th>\n",
              "      <th>Y_res</th>\n",
              "      <th>Cpu Brand</th>\n",
              "      <th>Gpu brand</th>\n",
              "      <th>Gaming</th>\n",
              "      <th>Touchscreen</th>\n",
              "      <th>ppi</th>\n",
              "    </tr>\n",
              "  </thead>\n",
              "  <tbody>\n",
              "    <tr>\n",
              "      <th>477</th>\n",
              "      <td>5</td>\n",
              "      <td>15.6</td>\n",
              "      <td>12</td>\n",
              "      <td>512.0</td>\n",
              "      <td>2</td>\n",
              "      <td>3.870000</td>\n",
              "      <td>1920.000000</td>\n",
              "      <td>1080.000000</td>\n",
              "      <td>5</td>\n",
              "      <td>1</td>\n",
              "      <td>0</td>\n",
              "      <td>1</td>\n",
              "      <td>141.211998</td>\n",
              "    </tr>\n",
              "    <tr>\n",
              "      <th>576</th>\n",
              "      <td>5</td>\n",
              "      <td>11.6</td>\n",
              "      <td>4</td>\n",
              "      <td>64.0</td>\n",
              "      <td>0</td>\n",
              "      <td>2.600000</td>\n",
              "      <td>1366.000000</td>\n",
              "      <td>768.000000</td>\n",
              "      <td>5</td>\n",
              "      <td>1</td>\n",
              "      <td>0</td>\n",
              "      <td>1</td>\n",
              "      <td>135.094211</td>\n",
              "    </tr>\n",
              "    <tr>\n",
              "      <th>511</th>\n",
              "      <td>4</td>\n",
              "      <td>14.0</td>\n",
              "      <td>16</td>\n",
              "      <td>512.0</td>\n",
              "      <td>2</td>\n",
              "      <td>4.750000</td>\n",
              "      <td>1920.000000</td>\n",
              "      <td>1200.000000</td>\n",
              "      <td>5</td>\n",
              "      <td>1</td>\n",
              "      <td>0</td>\n",
              "      <td>1</td>\n",
              "      <td>161.725391</td>\n",
              "    </tr>\n",
              "    <tr>\n",
              "      <th>724</th>\n",
              "      <td>3</td>\n",
              "      <td>15.6</td>\n",
              "      <td>0</td>\n",
              "      <td>500.0</td>\n",
              "      <td>2</td>\n",
              "      <td>11.000000</td>\n",
              "      <td>1939.714451</td>\n",
              "      <td>1114.262967</td>\n",
              "      <td>5</td>\n",
              "      <td>1</td>\n",
              "      <td>0</td>\n",
              "      <td>0</td>\n",
              "      <td>143.396076</td>\n",
              "    </tr>\n",
              "    <tr>\n",
              "      <th>240</th>\n",
              "      <td>3</td>\n",
              "      <td>13.3</td>\n",
              "      <td>8</td>\n",
              "      <td>256.0</td>\n",
              "      <td>2</td>\n",
              "      <td>3.450000</td>\n",
              "      <td>1920.000000</td>\n",
              "      <td>1080.000000</td>\n",
              "      <td>3</td>\n",
              "      <td>1</td>\n",
              "      <td>0</td>\n",
              "      <td>1</td>\n",
              "      <td>165.632118</td>\n",
              "    </tr>\n",
              "    <tr>\n",
              "      <th>854</th>\n",
              "      <td>6</td>\n",
              "      <td>15.6</td>\n",
              "      <td>16</td>\n",
              "      <td>512.0</td>\n",
              "      <td>2</td>\n",
              "      <td>4.100000</td>\n",
              "      <td>1920.000000</td>\n",
              "      <td>1080.000000</td>\n",
              "      <td>5</td>\n",
              "      <td>2</td>\n",
              "      <td>1</td>\n",
              "      <td>0</td>\n",
              "      <td>141.211998</td>\n",
              "    </tr>\n",
              "    <tr>\n",
              "      <th>31</th>\n",
              "      <td>5</td>\n",
              "      <td>10.1</td>\n",
              "      <td>4</td>\n",
              "      <td>64.0</td>\n",
              "      <td>0</td>\n",
              "      <td>15.800000</td>\n",
              "      <td>1920.000000</td>\n",
              "      <td>1200.000000</td>\n",
              "      <td>5</td>\n",
              "      <td>1</td>\n",
              "      <td>0</td>\n",
              "      <td>0</td>\n",
              "      <td>224.173809</td>\n",
              "    </tr>\n",
              "    <tr>\n",
              "      <th>86</th>\n",
              "      <td>5</td>\n",
              "      <td>15.6</td>\n",
              "      <td>8</td>\n",
              "      <td>1024.0</td>\n",
              "      <td>2</td>\n",
              "      <td>4.840000</td>\n",
              "      <td>1920.000000</td>\n",
              "      <td>1080.000000</td>\n",
              "      <td>4</td>\n",
              "      <td>2</td>\n",
              "      <td>1</td>\n",
              "      <td>0</td>\n",
              "      <td>141.211998</td>\n",
              "    </tr>\n",
              "    <tr>\n",
              "      <th>39</th>\n",
              "      <td>0</td>\n",
              "      <td>15.6</td>\n",
              "      <td>16</td>\n",
              "      <td>2048.0</td>\n",
              "      <td>1</td>\n",
              "      <td>5.015483</td>\n",
              "      <td>1939.714451</td>\n",
              "      <td>1114.262967</td>\n",
              "      <td>5</td>\n",
              "      <td>1</td>\n",
              "      <td>0</td>\n",
              "      <td>0</td>\n",
              "      <td>143.396076</td>\n",
              "    </tr>\n",
              "    <tr>\n",
              "      <th>777</th>\n",
              "      <td>7</td>\n",
              "      <td>14.0</td>\n",
              "      <td>16</td>\n",
              "      <td>512.0</td>\n",
              "      <td>2</td>\n",
              "      <td>3.310000</td>\n",
              "      <td>1920.000000</td>\n",
              "      <td>1080.000000</td>\n",
              "      <td>5</td>\n",
              "      <td>1</td>\n",
              "      <td>0</td>\n",
              "      <td>0</td>\n",
              "      <td>157.350512</td>\n",
              "    </tr>\n",
              "  </tbody>\n",
              "</table>\n",
              "</div>"
            ],
            "text/plain": [
              "     Company  Inches  RAM  Memory  OpSys    Weights        X_res        Y_res   \n",
              "477        5    15.6   12   512.0      2   3.870000  1920.000000  1080.000000  \\\n",
              "576        5    11.6    4    64.0      0   2.600000  1366.000000   768.000000   \n",
              "511        4    14.0   16   512.0      2   4.750000  1920.000000  1200.000000   \n",
              "724        3    15.6    0   500.0      2  11.000000  1939.714451  1114.262967   \n",
              "240        3    13.3    8   256.0      2   3.450000  1920.000000  1080.000000   \n",
              "854        6    15.6   16   512.0      2   4.100000  1920.000000  1080.000000   \n",
              "31         5    10.1    4    64.0      0  15.800000  1920.000000  1200.000000   \n",
              "86         5    15.6    8  1024.0      2   4.840000  1920.000000  1080.000000   \n",
              "39         0    15.6   16  2048.0      1   5.015483  1939.714451  1114.262967   \n",
              "777        7    14.0   16   512.0      2   3.310000  1920.000000  1080.000000   \n",
              "\n",
              "     Cpu Brand  Gpu brand  Gaming  Touchscreen         ppi  \n",
              "477          5          1       0            1  141.211998  \n",
              "576          5          1       0            1  135.094211  \n",
              "511          5          1       0            1  161.725391  \n",
              "724          5          1       0            0  143.396076  \n",
              "240          3          1       0            1  165.632118  \n",
              "854          5          2       1            0  141.211998  \n",
              "31           5          1       0            0  224.173809  \n",
              "86           4          2       1            0  141.211998  \n",
              "39           5          1       0            0  143.396076  \n",
              "777          5          1       0            0  157.350512  "
            ]
          },
          "execution_count": 90,
          "metadata": {},
          "output_type": "execute_result"
        }
      ],
      "source": [
        "X_small.sample(10)"
      ]
    },
    {
      "cell_type": "code",
      "execution_count": 91,
      "metadata": {},
      "outputs": [],
      "source": [
        "X_train_b = create_new_feature_1(X_train_b)\n",
        "X_train_s = create_new_feature_1(X_train_s)\n",
        "X_test_s = create_new_feature_1(X_test_s)\n",
        "X_test_b = create_new_feature_1(X_test_b)\n",
        "X_val_s = create_new_feature_1(X_val_s)\n",
        "X_val_b = create_new_feature_1(X_val_b)"
      ]
    },
    {
      "cell_type": "code",
      "execution_count": 93,
      "metadata": {},
      "outputs": [],
      "source": [
        "X_train_s['X_res'] = Impute_missing_value(X_train_s['X_res'], 'mean')\n",
        "X_train_s['Y_res'] = Impute_missing_value(X_train_s['Y_res'], 'mean')\n",
        "X_train_s['Memory'] = Impute_missing_value(X_train_s['Memory'], 'mean')\n",
        "X_train_s['Inches'] = Impute_missing_value(X_train_s['Inches'], 'mean')\n",
        "X_train_s['RAM'] = Impute_missing_value(X_train_s['RAM'], 'mean')\n",
        "X_train_s['Weights'] = Impute_missing_value(X_train_s['Weights'], 'mean')\n",
        "X_train_s['Cpu Brand'] = Impute_missing_value(X_train_s['Cpu Brand'], 'mode')\n",
        "X_train_s['Gpu brand'] = Impute_missing_value(X_train_s['Gpu brand'], 'mode')\n",
        "X_train_s['OpSys'] = Impute_missing_value(X_train_s['OpSys'], 'mode')\n",
        "\n",
        "X_train_b['X_res'] = Impute_missing_value(X_train_b['X_res'], 'mean')\n",
        "X_train_b['Y_res'] = Impute_missing_value(X_train_b['Y_res'], 'mean')\n",
        "X_train_b['Memory'] = Impute_missing_value(X_train_b['Memory'], 'mean')\n",
        "X_train_b['Inches'] = Impute_missing_value(X_train_b['Inches'], 'mean')\n",
        "X_train_b['RAM'] = Impute_missing_value(X_train_b['RAM'], 'mean')\n",
        "X_train_b['Weights'] = Impute_missing_value(X_train_b['Weights'], 'mean')\n",
        "X_train_b['Cpu Brand'] = Impute_missing_value(X_train_b['Cpu Brand'], 'mode')\n",
        "X_train_b['Gpu brand'] = Impute_missing_value(X_train_b['Gpu brand'], 'mode')\n",
        "X_train_b['OpSys'] = Impute_missing_value(X_train_b['OpSys'], 'mode')\n",
        "\n",
        "\n",
        "X_test_s['X_res'] = Impute_missing_value(X_test_s['X_res'], 'mean',X_train_s['X_res'])\n",
        "X_test_s['Y_res'] = Impute_missing_value(X_test_s['Y_res'], 'mean',X_train_s['Y_res'])\n",
        "X_test_s['Memory'] = Impute_missing_value(X_test_s['Memory'], 'mean',X_train_s['Memory'])\n",
        "X_test_s['Inches'] = Impute_missing_value(X_test_s['Inches'], 'mean', X_train_s['Inches'])\n",
        "X_test_s['RAM'] = Impute_missing_value(X_test_s['RAM'], 'mean',X_train_s['RAM'])\n",
        "X_test_s['Weights'] = Impute_missing_value(X_test_s['Weights'], 'mean',X_train_s['Weights'])\n",
        "X_test_s['Cpu Brand'] = Impute_missing_value(X_test_s['Cpu Brand'], 'mode',X_train_s['Cpu Brand'])\n",
        "X_test_s['Gpu brand'] = Impute_missing_value(X_test_s['Gpu brand'], 'mode',X_train_s['Gpu brand'])\n",
        "X_test_s['OpSys'] = Impute_missing_value(X_test_s['OpSys'], 'mode',X_train_s['OpSys'])\n",
        "\n",
        "X_test_b['X_res'] = Impute_missing_value(X_test_b['X_res'], 'mean',X_train_b['X_res'])\n",
        "X_test_b['Y_res'] = Impute_missing_value(X_test_b['Y_res'], 'mean',X_train_b['Y_res'])\n",
        "X_test_b['Memory'] = Impute_missing_value(X_test_b['Memory'], 'mean',X_train_b['Memory'])\n",
        "X_test_b['Inches'] = Impute_missing_value(X_test_b['Inches'], 'mean', X_train_b['Inches'])\n",
        "X_test_b['RAM'] = Impute_missing_value(X_test_b['RAM'], 'mean',X_train_b['RAM'])\n",
        "X_test_b['Weights'] = Impute_missing_value(X_test_b['Weights'], 'mean',X_train_b['Weights'])\n",
        "X_test_b['Cpu Brand'] = Impute_missing_value(X_test_b['Cpu Brand'], 'mode',X_train_b['Cpu Brand'])\n",
        "X_test_b['Gpu brand'] = Impute_missing_value(X_test_b['Gpu brand'], 'mode',X_train_b['Gpu brand'])\n",
        "X_test_b['OpSys'] = Impute_missing_value(X_test_b['OpSys'], 'mode',X_train_b['OpSys'])\n",
        "\n",
        "\n",
        "X_val_s['X_res'] = Impute_missing_value(X_val_s['X_res'], 'mean',X_train_s['X_res'])\n",
        "X_val_s['Y_res'] = Impute_missing_value(X_val_s['Y_res'], 'mean',X_train_s['Y_res'])\n",
        "X_val_s['Memory'] = Impute_missing_value(X_val_s['Memory'], 'mean',X_train_s['Memory'])\n",
        "X_val_s['Inches'] = Impute_missing_value(X_val_s['Inches'], 'mean', X_train_s['Inches'])\n",
        "X_val_s['RAM'] = Impute_missing_value(X_val_s['RAM'], 'mean',X_train_s['RAM'])\n",
        "X_val_s['Weights'] = Impute_missing_value(X_val_s['Weights'], 'mean',X_train_s['Weights'])\n",
        "X_val_s['Cpu Brand'] = Impute_missing_value(X_val_s['Cpu Brand'], 'mode',X_train_s['Cpu Brand'])\n",
        "X_val_s['Gpu brand'] = Impute_missing_value(X_val_s['Gpu brand'], 'mode',X_train_s['Gpu brand'])\n",
        "X_val_s['OpSys'] = Impute_missing_value(X_val_s['OpSys'], 'mode',X_train_s['OpSys'])\n",
        "\n",
        "X_val_b['X_res'] = Impute_missing_value(X_val_b['X_res'], 'mean',X_train_b['X_res'])\n",
        "X_val_b['Y_res'] = Impute_missing_value(X_val_b['Y_res'], 'mean',X_train_b['Y_res'])\n",
        "X_val_b['Memory'] = Impute_missing_value(X_val_b['Memory'], 'mean',X_train_b['Memory'])\n",
        "X_val_b['Inches'] = Impute_missing_value(X_val_b['Inches'], 'mean', X_train_b['Inches'])\n",
        "X_val_b['RAM'] = Impute_missing_value(X_val_b['RAM'], 'mean',X_train_b['RAM'])\n",
        "X_val_b['Weights'] = Impute_missing_value(X_val_b['Weights'], 'mean',X_train_b['Weights'])\n",
        "X_val_b['Cpu Brand'] = Impute_missing_value(X_val_b['Cpu Brand'], 'mode',X_train_b['Cpu Brand'])\n",
        "X_val_b['Gpu brand'] = Impute_missing_value(X_val_b['Gpu brand'], 'mode',X_train_b['Gpu brand'])\n",
        "X_val_b['OpSys'] = Impute_missing_value(X_val_b['OpSys'], 'mode',X_train_b['OpSys'])"
      ]
    },
    {
      "cell_type": "code",
      "execution_count": 104,
      "metadata": {},
      "outputs": [],
      "source": [
        "X_train_s = create_feature_ppi(X_train_s)\n",
        "X_train_b = create_feature_ppi(X_train_b)\n",
        "X_test_s = create_feature_ppi(X_test_s)\n",
        "X_test_b = create_feature_ppi(X_test_b)\n",
        "X_val_s = create_feature_ppi(X_val_s)\n",
        "X_val_b = create_feature_ppi(X_val_b)"
      ]
    },
    {
      "cell_type": "code",
      "execution_count": 111,
      "metadata": {},
      "outputs": [],
      "source": [
        "X_train_s['Company'] = le.fit_transform(X_train_s['Company'])\n",
        "X_train_s['OpSys'] = le.fit_transform(X_train_s['OpSys'])\n",
        "X_train_s['Cpu Brand'] = le.fit_transform(X_train_s['Cpu Brand'])\n",
        "X_train_s['Gpu brand'] = le.fit_transform(X_train_s['Gpu brand'])\n",
        "\n",
        "X_train_b['Company'] = le.fit_transform(X_train_b['Company'])\n",
        "X_train_b['OpSys'] = le.fit_transform(X_train_b['OpSys'])\n",
        "X_train_b['Cpu Brand'] = le.fit_transform(X_train_b['Cpu Brand'])\n",
        "X_train_b['Gpu brand'] = le.fit_transform(X_train_b['Gpu brand'])\n",
        "\n",
        "X_test_s['Company'] = le.fit_transform(X_test_s['Company'])\n",
        "X_test_s['OpSys'] = le.fit_transform(X_test_s['OpSys'])\n",
        "X_test_s['Cpu Brand'] = le.fit_transform(X_test_s['Cpu Brand'])\n",
        "X_test_s['Gpu brand'] = le.fit_transform(X_test_s['Gpu brand'])\n",
        "\n",
        "X_test_b['Company'] = le.fit_transform(X_test_b['Company'])\n",
        "X_test_b['OpSys'] = le.fit_transform(X_test_b['OpSys'])\n",
        "X_test_b['Cpu Brand'] = le.fit_transform(X_test_b['Cpu Brand'])\n",
        "X_test_b['Gpu brand'] = le.fit_transform(X_test_b['Gpu brand'])\n",
        "\n",
        "X_val_s['Company'] = le.fit_transform(X_val_s['Company'])\n",
        "X_val_s['OpSys'] = le.fit_transform(X_val_s['OpSys'])\n",
        "X_val_s['Cpu Brand'] = le.fit_transform(X_val_s['Cpu Brand'])\n",
        "X_val_s['Gpu brand'] = le.fit_transform(X_val_s['Gpu brand'])\n",
        "\n",
        "X_val_b['Company'] = le.fit_transform(X_val_b['Company'])\n",
        "X_val_b['OpSys'] = le.fit_transform(X_val_b['OpSys'])\n",
        "X_val_b['Cpu Brand'] = le.fit_transform(X_val_b['Cpu Brand'])\n",
        "X_val_b['Gpu brand'] = le.fit_transform(X_val_b['Gpu brand'])"
      ]
    },
    {
      "cell_type": "code",
      "execution_count": 113,
      "metadata": {
        "id": "Fvblehtvq4E4",
        "outputId": "9f11f159-8511-4ae5-f4f4-964bf2dc1dd5"
      },
      "outputs": [
        {
          "name": "stdout",
          "output_type": "stream",
          "text": [
            "<class 'pandas.core.frame.DataFrame'>\n",
            "Index: 7213 entries, 7680 to 7336\n",
            "Data columns (total 13 columns):\n",
            " #   Column       Non-Null Count  Dtype  \n",
            "---  ------       --------------  -----  \n",
            " 0   Company      7213 non-null   int32  \n",
            " 1   Inches       7213 non-null   float64\n",
            " 2   RAM          7213 non-null   int32  \n",
            " 3   Memory       7213 non-null   float64\n",
            " 4   OpSys        7213 non-null   int32  \n",
            " 5   Weights      7213 non-null   float64\n",
            " 6   X_res        7213 non-null   float64\n",
            " 7   Y_res        7213 non-null   float64\n",
            " 8   Cpu Brand    7213 non-null   int32  \n",
            " 9   Gpu brand    7213 non-null   int32  \n",
            " 10  Gaming       7213 non-null   int32  \n",
            " 11  Touchscreen  7213 non-null   int32  \n",
            " 12  ppi          7213 non-null   float64\n",
            "dtypes: float64(6), int32(7)\n",
            "memory usage: 591.7 KB\n"
          ]
        }
      ],
      "source": [
        "X_train_b.info()"
      ]
    },
    {
      "attachments": {},
      "cell_type": "markdown",
      "metadata": {
        "id": "17bbwHO4q4E5"
      },
      "source": [
        "#### Lựa chọn đặc trưng quan trọng"
      ]
    },
    {
      "attachments": {},
      "cell_type": "markdown",
      "metadata": {
        "id": "KGrSL_9bq4E5"
      },
      "source": [
        "Thử với thuật toán RandomForest trên tập small"
      ]
    },
    {
      "cell_type": "code",
      "execution_count": 125,
      "metadata": {
        "id": "9gBlSZMvq4E6",
        "outputId": "3a7a673b-3e37-43a0-dec9-428ebe36d944"
      },
      "outputs": [
        {
          "name": "stdout",
          "output_type": "stream",
          "text": [
            "             importance\n",
            "RAM            0.466706\n",
            "Weights        0.133665\n",
            "Memory         0.081556\n",
            "Cpu Brand      0.054240\n",
            "Company        0.049817\n",
            "ppi            0.049648\n",
            "Inches         0.040110\n",
            "Y_res          0.037997\n",
            "X_res          0.032912\n",
            "Gpu brand      0.019614\n",
            "OpSys          0.017615\n",
            "Touchscreen    0.013384\n",
            "Gaming         0.002737\n",
            "['RAM', 'Weights', 'Memory', 'Cpu Brand', 'Company', 'ppi']\n"
          ]
        }
      ],
      "source": [
        "rf = RandomForestRegressor(random_state=3)\n",
        "\n",
        "rf.fit(X_train_s, y_train_s)\n",
        "\n",
        "feature_importances1 = pd.DataFrame(rf.feature_importances_, index=X_train_s.columns, columns=['importance']).sort_values('importance', ascending=False)\n",
        "print(feature_importances1)\n",
        "\n",
        "top_features1 = feature_importances1.index[:6].tolist()\n",
        "print(top_features1)"
      ]
    },
    {
      "cell_type": "code",
      "execution_count": 126,
      "metadata": {},
      "outputs": [
        {
          "data": {
            "image/png": "[encoded data removed]",
            "text/plain": [
              "<Figure size 1200x800 with 1 Axes>"
            ]
          },
          "metadata": {},
          "output_type": "display_data"
        }
      ],
      "source": [
        "plt.figure(figsize=(12, 8))\n",
        "plt.bar(feature_importances1.index, feature_importances1['importance'])\n",
        "plt.xlabel('Features')\n",
        "plt.ylabel('Importance')\n",
        "plt.title('Feature Importances')\n",
        "plt.xticks(rotation=90)\n",
        "plt.tight_layout()\n",
        "plt.show()"
      ]
    },
    {
      "attachments": {},
      "cell_type": "markdown",
      "metadata": {
        "id": "AmbjvWAxq4E6"
      },
      "source": [
        "Thử với thuật toán RandomForest trên tập big"
      ]
    },
    {
      "cell_type": "code",
      "execution_count": 127,
      "metadata": {
        "id": "nPDGkVKZq4E6",
        "outputId": "51a76964-43f2-43ca-db64-6f84c1f00a0b"
      },
      "outputs": [
        {
          "name": "stdout",
          "output_type": "stream",
          "text": [
            "             importance\n",
            "RAM            0.342257\n",
            "Memory         0.185370\n",
            "Weights        0.127003\n",
            "Cpu Brand      0.079163\n",
            "Y_res          0.060183\n",
            "Company        0.050508\n",
            "ppi            0.039087\n",
            "Inches         0.033225\n",
            "Gpu brand      0.026922\n",
            "X_res          0.023556\n",
            "Touchscreen    0.014269\n",
            "OpSys          0.013239\n",
            "Gaming         0.005218\n",
            "['RAM', 'Memory', 'Weights', 'Cpu Brand', 'Y_res', 'Company']\n"
          ]
        }
      ],
      "source": [
        "\n",
        "rf = RandomForestRegressor(random_state=3)\n",
        "\n",
        "rf.fit(X_train_b, y_train_b)\n",
        "\n",
        "feature_importances2 = pd.DataFrame(rf.feature_importances_, index=X_train_b.columns, columns=['importance']).sort_values('importance', ascending=False)\n",
        "print(feature_importances2)\n",
        "\n",
        "top_features2 = feature_importances2.index[:6].tolist()\n",
        "print(top_features2)"
      ]
    },
    {
      "cell_type": "code",
      "execution_count": 128,
      "metadata": {},
      "outputs": [
        {
          "data": {
            "image/png": "[encoded data removed]",
            "text/plain": [
              "<Figure size 1200x800 with 1 Axes>"
            ]
          },
          "metadata": {},
          "output_type": "display_data"
        }
      ],
      "source": [
        "plt.figure(figsize=(12, 8))\n",
        "plt.bar(feature_importances2.index, feature_importances2['importance'])\n",
        "plt.xlabel('Features')\n",
        "plt.ylabel('Importance')\n",
        "plt.title('Feature Importances')\n",
        "plt.xticks(rotation=90)\n",
        "plt.tight_layout()\n",
        "plt.show()"
      ]
    },
    {
      "attachments": {},
      "cell_type": "markdown",
      "metadata": {
        "id": "sJSage7Bq4E7"
      },
      "source": [
        "Thử với thuật toán GradientBoosting trên tập small"
      ]
    },
    {
      "cell_type": "code",
      "execution_count": 133,
      "metadata": {
        "id": "Mb3vL0tyq4E7",
        "outputId": "3638de0d-6e86-4fa7-e942-12552420d294"
      },
      "outputs": [
        {
          "name": "stdout",
          "output_type": "stream",
          "text": [
            "             importance\n",
            "RAM            0.564846\n",
            "Weights        0.087559\n",
            "Memory         0.082630\n",
            "X_res          0.049185\n",
            "Y_res          0.037034\n",
            "Cpu Brand      0.036897\n",
            "ppi            0.036850\n",
            "Inches         0.033076\n",
            "Gpu brand      0.031042\n",
            "Company        0.016044\n",
            "OpSys          0.015743\n",
            "Touchscreen    0.008925\n",
            "Gaming         0.000169\n",
            "['RAM', 'Weights', 'Memory', 'X_res', 'Y_res', 'Cpu Brand']\n"
          ]
        }
      ],
      "source": [
        "rf = GradientBoostingRegressor(random_state=3)\n",
        "\n",
        "rf.fit(X_train_s, y_train_s)\n",
        "\n",
        "feature_importances3 = pd.DataFrame(rf.feature_importances_, index=X_train_s.columns, columns=['importance']).sort_values('importance', ascending=False)\n",
        "print(feature_importances3)\n",
        "\n",
        "top_features3 = feature_importances3.index[:6].tolist()\n",
        "print(top_features3)"
      ]
    },
    {
      "cell_type": "code",
      "execution_count": 134,
      "metadata": {},
      "outputs": [
        {
          "data": {
            "image/png": "[encoded data removed]",
            "text/plain": [
              "<Figure size 1200x800 with 1 Axes>"
            ]
          },
          "metadata": {},
          "output_type": "display_data"
        }
      ],
      "source": [
        "plt.figure(figsize=(12, 8))\n",
        "plt.bar(feature_importances3.index, feature_importances3['importance'])\n",
        "plt.xlabel('Features')\n",
        "plt.ylabel('Importance')\n",
        "plt.title('Feature Importances')\n",
        "plt.xticks(rotation=90)\n",
        "plt.tight_layout()\n",
        "plt.show()"
      ]
    },
    {
      "attachments": {},
      "cell_type": "markdown",
      "metadata": {
        "id": "S0z4ojDqq4E7"
      },
      "source": [
        "Thử với thuật toán GradientBoosting trên tập big"
      ]
    },
    {
      "cell_type": "code",
      "execution_count": 136,
      "metadata": {
        "id": "fXdvpJahq4E7",
        "outputId": "e91e4c3e-8bab-45b0-d6d6-8bd81a755ab3"
      },
      "outputs": [
        {
          "name": "stdout",
          "output_type": "stream",
          "text": [
            "             importance\n",
            "RAM            0.482878\n",
            "Memory         0.188289\n",
            "Y_res          0.086822\n",
            "Cpu Brand      0.071655\n",
            "Gpu brand      0.040957\n",
            "Weights        0.037055\n",
            "X_res          0.028458\n",
            "Inches         0.022988\n",
            "OpSys          0.015502\n",
            "Company        0.010410\n",
            "ppi            0.008877\n",
            "Touchscreen    0.005733\n",
            "Gaming         0.000377\n",
            "['RAM', 'Memory', 'Y_res', 'Cpu Brand', 'Gpu brand', 'Weights']\n"
          ]
        }
      ],
      "source": [
        "rf = GradientBoostingRegressor(random_state=3)\n",
        "\n",
        "rf.fit(X_train_b, y_train_b)\n",
        "\n",
        "feature_importances4 = pd.DataFrame(rf.feature_importances_, index=X_train_b.columns, columns=['importance']).sort_values('importance', ascending=False)\n",
        "print(feature_importances4)\n",
        "\n",
        "top_features4 = feature_importances4.index[:6].tolist()\n",
        "print(top_features4)"
      ]
    },
    {
      "cell_type": "code",
      "execution_count": 137,
      "metadata": {},
      "outputs": [
        {
          "data": {
            "image/png": "[encoded data removed]",
            "text/plain": [
              "<Figure size 1200x800 with 1 Axes>"
            ]
          },
          "metadata": {},
          "output_type": "display_data"
        }
      ],
      "source": [
        "plt.figure(figsize=(12, 8))\n",
        "plt.bar(feature_importances4.index, feature_importances4['importance'])\n",
        "plt.xlabel('Features')\n",
        "plt.ylabel('Importance')\n",
        "plt.title('Feature Importances')\n",
        "plt.xticks(rotation=90)\n",
        "plt.tight_layout()\n",
        "plt.show()"
      ]
    },
    {
      "attachments": {},
      "cell_type": "markdown",
      "metadata": {},
      "source": [
        "Thử dự đoán tập test dùng kĩ thuật lựa chọn đặc trưng"
      ]
    },
    {
      "cell_type": "code",
      "execution_count": 185,
      "metadata": {},
      "outputs": [],
      "source": [
        "Selecting_rs = pd.DataFrame(columns=['Case','Big data', 'Small data'])\n",
        "\n",
        "model = RandomForestRegressor(random_state=3)\n",
        "\n",
        "result_small = cross_validate(model, X_small, y_small, cv=5, scoring='r2')\n",
        "result_big = cross_validate(model, X_big, y_big, cv=5, scoring='r2')\n",
        "\n",
        "average_r2_s = np.mean(result_small['test_score'])\n",
        "average_r2_b = np.mean(result_big['test_score'])\n",
        "row = {'Case': 'Randomforest before selecting feature','Big data':average_r2_b, 'Small data': average_r2_s}\n",
        "Selecting_rs = pd.concat([Selecting_rs, pd.DataFrame([row])], ignore_index=True)"
      ]
    },
    {
      "cell_type": "code",
      "execution_count": 186,
      "metadata": {},
      "outputs": [],
      "source": [
        "model = RandomForestRegressor(random_state=3)\n",
        "X_big_temp = X_big[['RAM', 'Memory', 'Weights', 'Cpu Brand', 'Y_res', 'Company']]\n",
        "X_small_temp = X_small[['RAM', 'Weights', 'Memory', 'Cpu Brand', 'Company', 'ppi']]\n",
        "result_small = cross_validate(model, X_small_temp, y_small, cv=5, scoring='r2')\n",
        "result_big = cross_validate(model, X_big_temp, y_big, cv=5, scoring='r2')\n",
        "\n",
        "average_r2_s = np.mean(result_small['test_score'])\n",
        "average_r2_b = np.mean(result_big['test_score'])\n",
        "row = {'Case': 'Randomforest after selecting feature','Big data':average_r2_b, 'Small data': average_r2_s}\n",
        "Selecting_rs = pd.concat([Selecting_rs, pd.DataFrame([row])], ignore_index=True)"
      ]
    },
    {
      "cell_type": "code",
      "execution_count": 187,
      "metadata": {},
      "outputs": [],
      "source": [
        "model = GradientBoostingRegressor(random_state=3)\n",
        "\n",
        "result_small = cross_validate(model, X_small, y_small, cv=5, scoring='r2')\n",
        "result_big = cross_validate(model, X_big, y_big, cv=5, scoring='r2')\n",
        "\n",
        "average_r2_s = np.mean(result_small['test_score'])\n",
        "average_r2_b = np.mean(result_big['test_score'])\n",
        "row = {'Case': 'Randomforest before selecting feature','Big data':average_r2_b, 'Small data': average_r2_s}\n",
        "Selecting_rs = pd.concat([Selecting_rs, pd.DataFrame([row])], ignore_index=True)"
      ]
    },
    {
      "cell_type": "code",
      "execution_count": 188,
      "metadata": {},
      "outputs": [],
      "source": [
        "model = GradientBoostingRegressor(random_state=3)\n",
        "X_big_temp = X_big[['RAM', 'Memory', 'Y_res', 'Cpu Brand', 'Gpu brand', 'Weights']]\n",
        "X_small_temp = X_small[['RAM', 'Weights', 'Memory', 'X_res', 'Y_res', 'Cpu Brand']]\n",
        "result_small = cross_validate(model, X_small_temp, y_small, cv=5, scoring='r2')\n",
        "result_big = cross_validate(model, X_big_temp, y_big, cv=5, scoring='r2')\n",
        "\n",
        "average_r2_s = np.mean(result_small['test_score'])\n",
        "average_r2_b = np.mean(result_big['test_score'])\n",
        "row = {'Case': 'Randomforest after selecting feature','Big data':average_r2_b, 'Small data': average_r2_s}\n",
        "Selecting_rs = pd.concat([Selecting_rs, pd.DataFrame([row])], ignore_index=True)"
      ]
    },
    {
      "cell_type": "code",
      "execution_count": 189,
      "metadata": {},
      "outputs": [
        {
          "data": {
            "text/html": [
              "<div>\n",
              "<style scoped>\n",
              "    .dataframe tbody tr th:only-of-type {\n",
              "        vertical-align: middle;\n",
              "    }\n",
              "\n",
              "    .dataframe tbody tr th {\n",
              "        vertical-align: top;\n",
              "    }\n",
              "\n",
              "    .dataframe thead th {\n",
              "        text-align: right;\n",
              "    }\n",
              "</style>\n",
              "<table border=\"1\" class=\"dataframe\">\n",
              "  <thead>\n",
              "    <tr style=\"text-align: right;\">\n",
              "      <th></th>\n",
              "      <th>Case</th>\n",
              "      <th>Big data</th>\n",
              "      <th>Small data</th>\n",
              "    </tr>\n",
              "  </thead>\n",
              "  <tbody>\n",
              "    <tr>\n",
              "      <th>0</th>\n",
              "      <td>Randomforest before selecting feature</td>\n",
              "      <td>0.582773</td>\n",
              "      <td>0.485841</td>\n",
              "    </tr>\n",
              "    <tr>\n",
              "      <th>1</th>\n",
              "      <td>Randomforest after selecting feature</td>\n",
              "      <td>0.542303</td>\n",
              "      <td>0.474110</td>\n",
              "    </tr>\n",
              "    <tr>\n",
              "      <th>2</th>\n",
              "      <td>Randomforest before selecting feature</td>\n",
              "      <td>0.556681</td>\n",
              "      <td>0.507433</td>\n",
              "    </tr>\n",
              "    <tr>\n",
              "      <th>3</th>\n",
              "      <td>Randomforest after selecting feature</td>\n",
              "      <td>0.556736</td>\n",
              "      <td>0.468746</td>\n",
              "    </tr>\n",
              "  </tbody>\n",
              "</table>\n",
              "</div>"
            ],
            "text/plain": [
              "                                    Case  Big data  Small data\n",
              "0  Randomforest before selecting feature  0.582773    0.485841\n",
              "1   Randomforest after selecting feature  0.542303    0.474110\n",
              "2  Randomforest before selecting feature  0.556681    0.507433\n",
              "3   Randomforest after selecting feature  0.556736    0.468746"
            ]
          },
          "execution_count": 189,
          "metadata": {},
          "output_type": "execute_result"
        }
      ],
      "source": [
        "Selecting_rs"
      ]
    },
    {
      "cell_type": "code",
      "execution_count": 143,
      "metadata": {},
      "outputs": [],
      "source": [
        "result = pd.DataFrame(columns=['Case','R2 score', 'MSE', 'MAE'])\n",
        "X_train_temp = X_train_b.copy()\n",
        "rf = RandomForestRegressor(random_state=3)\n",
        "rf.fit(X_train_temp, y_train_b)\n",
        "y_pred_test_b = rf.predict(X_test_b)\n",
        "\n",
        "row = {'Case': 'RandomForest before selecting feature', 'R2 score': r2_score(y_test_b,y_pred_test_b),'MSE': mean_squared_error(y_test_b, y_pred_test_b), 'MAE': mean_absolute_error(y_test_b,y_pred_test_b) }\n",
        "result = pd.concat([result, pd.DataFrame([row])], ignore_index=True)\n"
      ]
    },
    {
      "cell_type": "code",
      "execution_count": 144,
      "metadata": {},
      "outputs": [],
      "source": [
        "\n",
        "X_train_temp = X_train_b[['RAM', 'Memory', 'Weights', 'Cpu Brand', 'Y_res', 'Company']]\n",
        "rf = RandomForestRegressor(random_state=3)\n",
        "X_test_temp = X_test_b[['RAM', 'Memory', 'Weights', 'Cpu Brand', 'Y_res', 'Company']]\n",
        "rf.fit(X_train_temp, y_train_b)\n",
        "y_pred_test_b = rf.predict(X_test_temp)\n",
        "\n",
        "row = {'Case': 'RandomForest after selecting feature', 'R2 score': r2_score(y_test_b,y_pred_test_b),'MSE': mean_squared_error(y_test_b, y_pred_test_b), 'MAE': mean_absolute_error(y_test_b,y_pred_test_b) }\n",
        "result = pd.concat([result, pd.DataFrame([row])], ignore_index=True)"
      ]
    },
    {
      "cell_type": "code",
      "execution_count": 146,
      "metadata": {},
      "outputs": [],
      "source": [
        "X_train_temp = X_train_b.copy()\n",
        "rf = GradientBoostingRegressor(random_state=3)\n",
        "rf.fit(X_train_temp, y_train_b)\n",
        "y_pred_test_b = rf.predict(X_test_b)\n",
        "\n",
        "row = {'Case': 'GradientBoostingRegressor before selecting feature', 'R2 score': r2_score(y_test_b,y_pred_test_b),'MSE': mean_squared_error(y_test_b, y_pred_test_b), 'MAE': mean_absolute_error(y_test_b,y_pred_test_b) }\n",
        "result = pd.concat([result, pd.DataFrame([row])], ignore_index=True)"
      ]
    },
    {
      "cell_type": "code",
      "execution_count": 147,
      "metadata": {},
      "outputs": [],
      "source": [
        "X_train_temp = X_train_b[['RAM', 'Memory', 'Y_res', 'Cpu Brand', 'Gpu brand', 'Weights']]\n",
        "rf = GradientBoostingRegressor(random_state=3)\n",
        "X_test_temp = X_test_b[['RAM', 'Memory', 'Y_res', 'Cpu Brand', 'Gpu brand', 'Weights']]\n",
        "rf.fit(X_train_temp, y_train_b)\n",
        "y_pred_test_b = rf.predict(X_test_temp)\n",
        "\n",
        "row = {'Case': 'GradientBoostingRegressor after selecting feature', 'R2 score': r2_score(y_test_b,y_pred_test_b),'MSE': mean_squared_error(y_test_b, y_pred_test_b), 'MAE': mean_absolute_error(y_test_b,y_pred_test_b) }\n",
        "result = pd.concat([result, pd.DataFrame([row])], ignore_index=True)"
      ]
    },
    {
      "cell_type": "code",
      "execution_count": 148,
      "metadata": {},
      "outputs": [
        {
          "data": {
            "text/html": [
              "<div>\n",
              "<style scoped>\n",
              "    .dataframe tbody tr th:only-of-type {\n",
              "        vertical-align: middle;\n",
              "    }\n",
              "\n",
              "    .dataframe tbody tr th {\n",
              "        vertical-align: top;\n",
              "    }\n",
              "\n",
              "    .dataframe thead th {\n",
              "        text-align: right;\n",
              "    }\n",
              "</style>\n",
              "<table border=\"1\" class=\"dataframe\">\n",
              "  <thead>\n",
              "    <tr style=\"text-align: right;\">\n",
              "      <th></th>\n",
              "      <th>Case</th>\n",
              "      <th>R2 score</th>\n",
              "      <th>MSE</th>\n",
              "      <th>MAE</th>\n",
              "    </tr>\n",
              "  </thead>\n",
              "  <tbody>\n",
              "    <tr>\n",
              "      <th>0</th>\n",
              "      <td>RandomForest before selecting feature</td>\n",
              "      <td>0.780562</td>\n",
              "      <td>0.118020</td>\n",
              "      <td>0.199335</td>\n",
              "    </tr>\n",
              "    <tr>\n",
              "      <th>1</th>\n",
              "      <td>RandomForest after selecting feature</td>\n",
              "      <td>0.752468</td>\n",
              "      <td>0.133130</td>\n",
              "      <td>0.221614</td>\n",
              "    </tr>\n",
              "    <tr>\n",
              "      <th>2</th>\n",
              "      <td>GradientBoostingRegressor before selecting fea...</td>\n",
              "      <td>0.676043</td>\n",
              "      <td>0.174234</td>\n",
              "      <td>0.308205</td>\n",
              "    </tr>\n",
              "    <tr>\n",
              "      <th>3</th>\n",
              "      <td>GradientBoostingRegressor after selecting feature</td>\n",
              "      <td>0.664163</td>\n",
              "      <td>0.180623</td>\n",
              "      <td>0.315835</td>\n",
              "    </tr>\n",
              "  </tbody>\n",
              "</table>\n",
              "</div>"
            ],
            "text/plain": [
              "                                                Case  R2 score       MSE   \n",
              "0              RandomForest before selecting feature  0.780562  0.118020  \\\n",
              "1               RandomForest after selecting feature  0.752468  0.133130   \n",
              "2  GradientBoostingRegressor before selecting fea...  0.676043  0.174234   \n",
              "3  GradientBoostingRegressor after selecting feature  0.664163  0.180623   \n",
              "\n",
              "        MAE  \n",
              "0  0.199335  \n",
              "1  0.221614  \n",
              "2  0.308205  \n",
              "3  0.315835  "
            ]
          },
          "execution_count": 148,
          "metadata": {},
          "output_type": "execute_result"
        }
      ],
      "source": [
        "result"
      ]
    },
    {
      "attachments": {},
      "cell_type": "markdown",
      "metadata": {
        "id": "9eGcxtJOq4E9"
      },
      "source": [
        "#### Thử nghiệm kĩ thuật chuẩn hóa"
      ]
    },
    {
      "attachments": {},
      "cell_type": "markdown",
      "metadata": {
        "id": "Qk0c5fDgq4E9"
      },
      "source": [
        "Thử trên thuật toán RandomForest"
      ]
    },
    {
      "cell_type": "code",
      "execution_count": 153,
      "metadata": {},
      "outputs": [
        {
          "data": {
            "text/html": [
              "<div>\n",
              "<style scoped>\n",
              "    .dataframe tbody tr th:only-of-type {\n",
              "        vertical-align: middle;\n",
              "    }\n",
              "\n",
              "    .dataframe tbody tr th {\n",
              "        vertical-align: top;\n",
              "    }\n",
              "\n",
              "    .dataframe thead th {\n",
              "        text-align: right;\n",
              "    }\n",
              "</style>\n",
              "<table border=\"1\" class=\"dataframe\">\n",
              "  <thead>\n",
              "    <tr style=\"text-align: right;\">\n",
              "      <th></th>\n",
              "      <th>Company</th>\n",
              "      <th>Inches</th>\n",
              "      <th>RAM</th>\n",
              "      <th>Memory</th>\n",
              "      <th>OpSys</th>\n",
              "      <th>Weights</th>\n",
              "      <th>X_res</th>\n",
              "      <th>Y_res</th>\n",
              "      <th>Cpu Brand</th>\n",
              "      <th>Gpu brand</th>\n",
              "      <th>Gaming</th>\n",
              "      <th>Touchscreen</th>\n",
              "      <th>ppi</th>\n",
              "    </tr>\n",
              "  </thead>\n",
              "  <tbody>\n",
              "    <tr>\n",
              "      <th>6657</th>\n",
              "      <td>7</td>\n",
              "      <td>15.6</td>\n",
              "      <td>8</td>\n",
              "      <td>256.0</td>\n",
              "      <td>2</td>\n",
              "      <td>3.4</td>\n",
              "      <td>1920.0</td>\n",
              "      <td>1080.0</td>\n",
              "      <td>2</td>\n",
              "      <td>1</td>\n",
              "      <td>0</td>\n",
              "      <td>0</td>\n",
              "      <td>141.211998</td>\n",
              "    </tr>\n",
              "  </tbody>\n",
              "</table>\n",
              "</div>"
            ],
            "text/plain": [
              "      Company  Inches  RAM  Memory  OpSys  Weights   X_res   Y_res  Cpu Brand   \n",
              "6657        7    15.6    8   256.0      2      3.4  1920.0  1080.0          2  \\\n",
              "\n",
              "      Gpu brand  Gaming  Touchscreen         ppi  \n",
              "6657          1       0            0  141.211998  "
            ]
          },
          "execution_count": 153,
          "metadata": {},
          "output_type": "execute_result"
        }
      ],
      "source": [
        "X_big.sample()"
      ]
    },
    {
      "cell_type": "code",
      "execution_count": 161,
      "metadata": {
        "colab": {
          "base_uri": "https://localhost:8080/",
          "height": 235
        },
        "id": "n08c_p0Zq4E-",
        "outputId": "d5ac63eb-2e8b-467e-e27d-e78dc0d53370"
      },
      "outputs": [],
      "source": [
        "Scaling_rs = pd.DataFrame(columns=['Scaling method','Big data', 'Small data'])\n",
        "scaler = StandardScaler()\n",
        "model = RandomForestRegressor(random_state=3)\n",
        "pipe = Pipeline([\n",
        "    ('scale',scaler),\n",
        "    ('model',model)\n",
        "])\n",
        "\n",
        "result_small = cross_validate(pipe, X_small, y_small, cv=5, scoring='r2')\n",
        "result_big = cross_validate(pipe, X_big, y_big, cv=5, scoring='r2')\n",
        "\n",
        "average_r2_s = np.mean(result_small['test_score'])\n",
        "average_r2_b = np.mean(result_big['test_score'])\n",
        "row = {'Scaling method': 'StandardScaler','Big data':average_r2_b, 'Small data': average_r2_s}\n",
        "Scaling_rs = pd.concat([Scaling_rs, pd.DataFrame([row])], ignore_index=True)"
      ]
    },
    {
      "cell_type": "code",
      "execution_count": 162,
      "metadata": {
        "id": "NRdfOElBq4E-"
      },
      "outputs": [],
      "source": [
        "scaler = MinMaxScaler()\n",
        "model = RandomForestRegressor(random_state=3)\n",
        "pipe = Pipeline([\n",
        "    ('scale',scaler),\n",
        "    ('model',model)\n",
        "])\n",
        "\n",
        "result_small = cross_validate(pipe, X_small, y_small, cv=5, scoring='r2')\n",
        "result_big = cross_validate(pipe, X_big, y_big, cv=5, scoring='r2')\n",
        "\n",
        "average_r2_s = np.mean(result_small['test_score'])\n",
        "average_r2_b = np.mean(result_big['test_score'])\n",
        "row = {'Scaling method': 'MinMaxScaler','Big data':average_r2_b, 'Small data': average_r2_s}\n",
        "Scaling_rs = pd.concat([Scaling_rs, pd.DataFrame([row])], ignore_index=True)"
      ]
    },
    {
      "cell_type": "code",
      "execution_count": 163,
      "metadata": {
        "id": "VjuQW5O9q4E-"
      },
      "outputs": [],
      "source": [
        "scaler =  Normalizer()\n",
        "model = RandomForestRegressor(random_state=3)\n",
        "pipe = Pipeline([\n",
        "    ('scale',scaler),\n",
        "    ('model',model)\n",
        "])\n",
        "\n",
        "result_small = cross_validate(pipe, X_small, y_small, cv=5, scoring='r2')\n",
        "result_big = cross_validate(pipe, X_big, y_big, cv=5, scoring='r2')\n",
        "\n",
        "average_r2_s = np.mean(result_small['test_score'])\n",
        "average_r2_b = np.mean(result_big['test_score'])\n",
        "row = {'Scaling method': 'Normalizer','Big data':average_r2_b, 'Small data': average_r2_s}\n",
        "Scaling_rs = pd.concat([Scaling_rs, pd.DataFrame([row])], ignore_index=True)"
      ]
    },
    {
      "cell_type": "code",
      "execution_count": 164,
      "metadata": {
        "id": "6MgYrHjrq4E-"
      },
      "outputs": [],
      "source": [
        "scaler = PowerTransformer()\n",
        "model = RandomForestRegressor(random_state=3)\n",
        "pipe = Pipeline([\n",
        "    ('scale',scaler),\n",
        "    ('model',model)\n",
        "])\n",
        "\n",
        "result_small = cross_validate(pipe, X_small, y_small, cv=5, scoring='r2')\n",
        "result_big = cross_validate(pipe, X_big, y_big, cv=5, scoring='r2')\n",
        "\n",
        "average_r2_s = np.mean(result_small['test_score'])\n",
        "average_r2_b = np.mean(result_big['test_score'])\n",
        "row = {'Scaling method': 'PowerTransformer','Big data':average_r2_b, 'Small data': average_r2_s}\n",
        "Scaling_rs = pd.concat([Scaling_rs, pd.DataFrame([row])], ignore_index=True)"
      ]
    },
    {
      "cell_type": "code",
      "execution_count": 165,
      "metadata": {
        "id": "Oy2kk2Vcq4E_",
        "outputId": "d2330b01-306b-4ec2-fc2c-e5ad90b1fc18"
      },
      "outputs": [
        {
          "data": {
            "text/html": [
              "<div>\n",
              "<style scoped>\n",
              "    .dataframe tbody tr th:only-of-type {\n",
              "        vertical-align: middle;\n",
              "    }\n",
              "\n",
              "    .dataframe tbody tr th {\n",
              "        vertical-align: top;\n",
              "    }\n",
              "\n",
              "    .dataframe thead th {\n",
              "        text-align: right;\n",
              "    }\n",
              "</style>\n",
              "<table border=\"1\" class=\"dataframe\">\n",
              "  <thead>\n",
              "    <tr style=\"text-align: right;\">\n",
              "      <th></th>\n",
              "      <th>Scaling method</th>\n",
              "      <th>Big data</th>\n",
              "      <th>Small data</th>\n",
              "    </tr>\n",
              "  </thead>\n",
              "  <tbody>\n",
              "    <tr>\n",
              "      <th>0</th>\n",
              "      <td>StandardScaler</td>\n",
              "      <td>0.582945</td>\n",
              "      <td>0.487346</td>\n",
              "    </tr>\n",
              "    <tr>\n",
              "      <th>1</th>\n",
              "      <td>MinMaxScaler</td>\n",
              "      <td>0.582881</td>\n",
              "      <td>0.485908</td>\n",
              "    </tr>\n",
              "    <tr>\n",
              "      <th>2</th>\n",
              "      <td>Normalizer</td>\n",
              "      <td>0.576598</td>\n",
              "      <td>0.481420</td>\n",
              "    </tr>\n",
              "    <tr>\n",
              "      <th>3</th>\n",
              "      <td>PowerTransformer</td>\n",
              "      <td>0.582467</td>\n",
              "      <td>0.487764</td>\n",
              "    </tr>\n",
              "  </tbody>\n",
              "</table>\n",
              "</div>"
            ],
            "text/plain": [
              "     Scaling method  Big data  Small data\n",
              "0    StandardScaler  0.582945    0.487346\n",
              "1      MinMaxScaler  0.582881    0.485908\n",
              "2        Normalizer  0.576598    0.481420\n",
              "3  PowerTransformer  0.582467    0.487764"
            ]
          },
          "execution_count": 165,
          "metadata": {},
          "output_type": "execute_result"
        }
      ],
      "source": [
        "Scaling_rs"
      ]
    },
    {
      "attachments": {},
      "cell_type": "markdown",
      "metadata": {},
      "source": [
        "Thử dự đoán trên tập test với randomforest"
      ]
    },
    {
      "cell_type": "code",
      "execution_count": 171,
      "metadata": {},
      "outputs": [],
      "source": [
        "result = pd.DataFrame(columns=['Case','R2 score', 'MSE', 'MAE'])\n",
        "X_train_temp = X_train_b.copy()\n",
        "rf = RandomForestRegressor(random_state=3)\n",
        "\n",
        "rf.fit(X_train_temp, y_train_b)\n",
        "y_pred_test_b = rf.predict(X_test_b)\n",
        "\n",
        "row = {'Case': 'Bigdata before scaling', 'R2 score': r2_score(y_test_b,y_pred_test_b),'MSE': mean_squared_error(y_test_b, y_pred_test_b), 'MAE': mean_absolute_error(y_test_b,y_pred_test_b) }\n",
        "result = pd.concat([result, pd.DataFrame([row])], ignore_index=True)"
      ]
    },
    {
      "cell_type": "code",
      "execution_count": 172,
      "metadata": {},
      "outputs": [],
      "source": [
        "X_train_temp = X_train_b.copy()\n",
        "scaler = StandardScaler()\n",
        "model = RandomForestRegressor(random_state=3)\n",
        "pipe = Pipeline([\n",
        "    ('scale',scaler),\n",
        "    ('model',model)\n",
        "])\n",
        "pipe.fit(X_train_temp, y_train_b)\n",
        "y_pred_test_b = pipe.predict(X_test_b)\n",
        "\n",
        "row = {'Case': 'Bigdata after scaling', 'R2 score': r2_score(y_test_b,y_pred_test_b),'MSE': mean_squared_error(y_test_b, y_pred_test_b), 'MAE': mean_absolute_error(y_test_b,y_pred_test_b) }\n",
        "result = pd.concat([result, pd.DataFrame([row])], ignore_index=True)"
      ]
    },
    {
      "cell_type": "code",
      "execution_count": 173,
      "metadata": {},
      "outputs": [],
      "source": [
        "\n",
        "X_train_temp = X_train_s.copy()\n",
        "rf = RandomForestRegressor(random_state=3)\n",
        "\n",
        "rf.fit(X_train_temp, y_train_s)\n",
        "y_pred_test_s = rf.predict(X_test_s)\n",
        "\n",
        "row = {'Case': 'Smalldata before scaling', 'R2 score': r2_score(y_test_s,y_pred_test_s),'MSE': mean_squared_error(y_test_s, y_pred_test_s), 'MAE': mean_absolute_error(y_test_s,y_pred_test_s) }\n",
        "result = pd.concat([result, pd.DataFrame([row])], ignore_index=True)"
      ]
    },
    {
      "cell_type": "code",
      "execution_count": 175,
      "metadata": {},
      "outputs": [],
      "source": [
        "X_train_temp = X_train_s.copy()\n",
        "scaler = StandardScaler()\n",
        "model = RandomForestRegressor(random_state=3)\n",
        "pipe = Pipeline([\n",
        "    ('scale',scaler),\n",
        "    ('model',model)\n",
        "])\n",
        "pipe.fit(X_train_temp, y_train_s)\n",
        "y_pred_test_s = pipe.predict(X_test_s)\n",
        "\n",
        "row = {'Case': 'Bigdata after scaling', 'R2 score': r2_score(y_test_s,y_pred_test_s),'MSE': mean_squared_error(y_test_s, y_pred_test_s), 'MAE': mean_absolute_error(y_test_s,y_pred_test_s) }\n",
        "result = pd.concat([result, pd.DataFrame([row])], ignore_index=True)"
      ]
    },
    {
      "cell_type": "code",
      "execution_count": 176,
      "metadata": {},
      "outputs": [
        {
          "data": {
            "text/html": [
              "<div>\n",
              "<style scoped>\n",
              "    .dataframe tbody tr th:only-of-type {\n",
              "        vertical-align: middle;\n",
              "    }\n",
              "\n",
              "    .dataframe tbody tr th {\n",
              "        vertical-align: top;\n",
              "    }\n",
              "\n",
              "    .dataframe thead th {\n",
              "        text-align: right;\n",
              "    }\n",
              "</style>\n",
              "<table border=\"1\" class=\"dataframe\">\n",
              "  <thead>\n",
              "    <tr style=\"text-align: right;\">\n",
              "      <th></th>\n",
              "      <th>Case</th>\n",
              "      <th>R2 score</th>\n",
              "      <th>MSE</th>\n",
              "      <th>MAE</th>\n",
              "    </tr>\n",
              "  </thead>\n",
              "  <tbody>\n",
              "    <tr>\n",
              "      <th>0</th>\n",
              "      <td>Bigdata before scaling</td>\n",
              "      <td>0.780562</td>\n",
              "      <td>0.118020</td>\n",
              "      <td>0.199335</td>\n",
              "    </tr>\n",
              "    <tr>\n",
              "      <th>1</th>\n",
              "      <td>Bigdata after scaling</td>\n",
              "      <td>0.780554</td>\n",
              "      <td>0.118025</td>\n",
              "      <td>0.199258</td>\n",
              "    </tr>\n",
              "    <tr>\n",
              "      <th>2</th>\n",
              "      <td>Smalldata before scaling</td>\n",
              "      <td>0.483615</td>\n",
              "      <td>0.353446</td>\n",
              "      <td>0.386837</td>\n",
              "    </tr>\n",
              "    <tr>\n",
              "      <th>3</th>\n",
              "      <td>Bigdata after scaling</td>\n",
              "      <td>0.484466</td>\n",
              "      <td>0.352864</td>\n",
              "      <td>0.387017</td>\n",
              "    </tr>\n",
              "  </tbody>\n",
              "</table>\n",
              "</div>"
            ],
            "text/plain": [
              "                       Case  R2 score       MSE       MAE\n",
              "0    Bigdata before scaling  0.780562  0.118020  0.199335\n",
              "1     Bigdata after scaling  0.780554  0.118025  0.199258\n",
              "2  Smalldata before scaling  0.483615  0.353446  0.386837\n",
              "3     Bigdata after scaling  0.484466  0.352864  0.387017"
            ]
          },
          "execution_count": 176,
          "metadata": {},
          "output_type": "execute_result"
        }
      ],
      "source": [
        "result"
      ]
    },
    {
      "attachments": {},
      "cell_type": "markdown",
      "metadata": {
        "id": "JK4y4tTdq4E_"
      },
      "source": [
        "Thử trên thuật toán GradientBoosting"
      ]
    },
    {
      "cell_type": "code",
      "execution_count": 166,
      "metadata": {
        "id": "YVQIeKLXq4E_"
      },
      "outputs": [],
      "source": [
        "Scaling_rs2 = pd.DataFrame(columns=['Scaling method','Big data', 'Small data'])\n",
        "scaler = StandardScaler()\n",
        "\n",
        "model = GradientBoostingRegressor(random_state=3)\n",
        "\n",
        "pipe = Pipeline([\n",
        "    ('scale',scaler),\n",
        "    ('model',model)\n",
        "])\n",
        "\n",
        "result_small = cross_validate(pipe, X_small, y_small, cv=5, scoring='r2')\n",
        "result_big = cross_validate(pipe, X_big, y_big, cv=5, scoring='r2')\n",
        "\n",
        "average_r2_s = np.mean(result_small['test_score'])\n",
        "average_r2_b = np.mean(result_big['test_score'])\n",
        "row = {'Scaling method': 'StandardScaler','Big data':average_r2_b, 'Small data': average_r2_s}\n",
        "Scaling_rs2 = pd.concat([Scaling_rs2, pd.DataFrame([row])], ignore_index=True)"
      ]
    },
    {
      "cell_type": "code",
      "execution_count": 167,
      "metadata": {
        "id": "V8VPo9kyq4FA"
      },
      "outputs": [],
      "source": [
        "\n",
        "scaler = MinMaxScaler()\n",
        "\n",
        "model = GradientBoostingRegressor(random_state=3)\n",
        "\n",
        "pipe = Pipeline([\n",
        "    ('scale',scaler),\n",
        "    ('model',model)\n",
        "])\n",
        "\n",
        "result_small = cross_validate(pipe, X_small, y_small, cv=5, scoring='r2')\n",
        "result_big = cross_validate(pipe, X_big, y_big, cv=5, scoring='r2')\n",
        "\n",
        "average_r2_s = np.mean(result_small['test_score'])\n",
        "average_r2_b = np.mean(result_big['test_score'])\n",
        "row = {'Scaling method': 'MinMaxScaler','Big data':average_r2_b, 'Small data': average_r2_s}\n",
        "Scaling_rs2 = pd.concat([Scaling_rs2, pd.DataFrame([row])], ignore_index=True)"
      ]
    },
    {
      "cell_type": "code",
      "execution_count": 168,
      "metadata": {
        "id": "ei-zw53hq4FA"
      },
      "outputs": [],
      "source": [
        "scaler = Normalizer()\n",
        "\n",
        "model = GradientBoostingRegressor(random_state=3)\n",
        "\n",
        "pipe = Pipeline([\n",
        "    ('scale',scaler),\n",
        "    ('model',model)\n",
        "])\n",
        "\n",
        "result_small = cross_validate(pipe, X_small, y_small, cv=5, scoring='r2')\n",
        "result_big = cross_validate(pipe, X_big, y_big, cv=5, scoring='r2')\n",
        "\n",
        "average_r2_s = np.mean(result_small['test_score'])\n",
        "average_r2_b = np.mean(result_big['test_score'])\n",
        "row = {'Scaling method': 'Normalizer','Big data':average_r2_b, 'Small data': average_r2_s}\n",
        "Scaling_rs2 = pd.concat([Scaling_rs2, pd.DataFrame([row])], ignore_index=True)"
      ]
    },
    {
      "cell_type": "code",
      "execution_count": 169,
      "metadata": {
        "id": "VIoj-zllq4FA"
      },
      "outputs": [],
      "source": [
        "scaler = PowerTransformer()\n",
        "\n",
        "model = GradientBoostingRegressor(random_state=3)\n",
        "\n",
        "pipe = Pipeline([\n",
        "    ('scale',scaler),\n",
        "    ('model',model)\n",
        "])\n",
        "\n",
        "result_small = cross_validate(pipe, X_small, y_small, cv=5, scoring='r2')\n",
        "result_big = cross_validate(pipe, X_big, y_big, cv=5, scoring='r2')\n",
        "\n",
        "average_r2_s = np.mean(result_small['test_score'])\n",
        "average_r2_b = np.mean(result_big['test_score'])\n",
        "row = {'Scaling method': 'PowerTransformer','Big data':average_r2_b, 'Small data': average_r2_s}\n",
        "Scaling_rs2 = pd.concat([Scaling_rs2, pd.DataFrame([row])], ignore_index=True)"
      ]
    },
    {
      "cell_type": "code",
      "execution_count": 170,
      "metadata": {
        "id": "DzKT52dSq4FA",
        "outputId": "ed0fc6f8-fdc1-4441-c640-2237a13b6f87"
      },
      "outputs": [
        {
          "data": {
            "text/html": [
              "<div>\n",
              "<style scoped>\n",
              "    .dataframe tbody tr th:only-of-type {\n",
              "        vertical-align: middle;\n",
              "    }\n",
              "\n",
              "    .dataframe tbody tr th {\n",
              "        vertical-align: top;\n",
              "    }\n",
              "\n",
              "    .dataframe thead th {\n",
              "        text-align: right;\n",
              "    }\n",
              "</style>\n",
              "<table border=\"1\" class=\"dataframe\">\n",
              "  <thead>\n",
              "    <tr style=\"text-align: right;\">\n",
              "      <th></th>\n",
              "      <th>Scaling method</th>\n",
              "      <th>Big data</th>\n",
              "      <th>Small data</th>\n",
              "    </tr>\n",
              "  </thead>\n",
              "  <tbody>\n",
              "    <tr>\n",
              "      <th>0</th>\n",
              "      <td>StandardScaler</td>\n",
              "      <td>0.556708</td>\n",
              "      <td>0.507739</td>\n",
              "    </tr>\n",
              "    <tr>\n",
              "      <th>1</th>\n",
              "      <td>MinMaxScaler</td>\n",
              "      <td>0.556672</td>\n",
              "      <td>0.507367</td>\n",
              "    </tr>\n",
              "    <tr>\n",
              "      <th>2</th>\n",
              "      <td>Normalizer</td>\n",
              "      <td>0.548778</td>\n",
              "      <td>0.497880</td>\n",
              "    </tr>\n",
              "    <tr>\n",
              "      <th>3</th>\n",
              "      <td>PowerTransformer</td>\n",
              "      <td>0.556556</td>\n",
              "      <td>0.509044</td>\n",
              "    </tr>\n",
              "  </tbody>\n",
              "</table>\n",
              "</div>"
            ],
            "text/plain": [
              "     Scaling method  Big data  Small data\n",
              "0    StandardScaler  0.556708    0.507739\n",
              "1      MinMaxScaler  0.556672    0.507367\n",
              "2        Normalizer  0.548778    0.497880\n",
              "3  PowerTransformer  0.556556    0.509044"
            ]
          },
          "execution_count": 170,
          "metadata": {},
          "output_type": "execute_result"
        }
      ],
      "source": [
        "Scaling_rs2"
      ]
    },
    {
      "cell_type": "code",
      "execution_count": 177,
      "metadata": {},
      "outputs": [],
      "source": [
        "result = pd.DataFrame(columns=['Case','R2 score', 'MSE', 'MAE'])\n",
        "X_train_temp = X_train_b.copy()\n",
        "rf = GradientBoostingRegressor(random_state=3)\n",
        "\n",
        "rf.fit(X_train_temp, y_train_b)\n",
        "y_pred_test_b = rf.predict(X_test_b)\n",
        "\n",
        "row = {'Case': 'Bigdata before scaling', 'R2 score': r2_score(y_test_b,y_pred_test_b),'MSE': mean_squared_error(y_test_b, y_pred_test_b), 'MAE': mean_absolute_error(y_test_b,y_pred_test_b) }\n",
        "result = pd.concat([result, pd.DataFrame([row])], ignore_index=True)"
      ]
    },
    {
      "cell_type": "code",
      "execution_count": 178,
      "metadata": {},
      "outputs": [],
      "source": [
        "X_train_temp = X_train_b.copy()\n",
        "scaler = StandardScaler()\n",
        "model = GradientBoostingRegressor(random_state=3)\n",
        "pipe = Pipeline([\n",
        "    ('scale',scaler),\n",
        "    ('model',model)\n",
        "])\n",
        "pipe.fit(X_train_temp, y_train_b)\n",
        "y_pred_test_b = pipe.predict(X_test_b)\n",
        "\n",
        "row = {'Case': 'Bigdata after scaling', 'R2 score': r2_score(y_test_b,y_pred_test_b),'MSE': mean_squared_error(y_test_b, y_pred_test_b), 'MAE': mean_absolute_error(y_test_b,y_pred_test_b) }\n",
        "result = pd.concat([result, pd.DataFrame([row])], ignore_index=True)"
      ]
    },
    {
      "cell_type": "code",
      "execution_count": 179,
      "metadata": {},
      "outputs": [],
      "source": [
        "\n",
        "X_train_temp = X_train_s.copy()\n",
        "rf = GradientBoostingRegressor(random_state=3)\n",
        "\n",
        "rf.fit(X_train_temp, y_train_s)\n",
        "y_pred_test_s = rf.predict(X_test_s)\n",
        "\n",
        "row = {'Case': 'Smalldata before scaling', 'R2 score': r2_score(y_test_s,y_pred_test_s),'MSE': mean_squared_error(y_test_s, y_pred_test_s), 'MAE': mean_absolute_error(y_test_s,y_pred_test_s) }\n",
        "result = pd.concat([result, pd.DataFrame([row])], ignore_index=True)"
      ]
    },
    {
      "cell_type": "code",
      "execution_count": 180,
      "metadata": {},
      "outputs": [],
      "source": [
        "X_train_temp = X_train_s.copy()\n",
        "scaler = StandardScaler()\n",
        "model = GradientBoostingRegressor(random_state=3)\n",
        "pipe = Pipeline([\n",
        "    ('scale',scaler),\n",
        "    ('model',model)\n",
        "])\n",
        "pipe.fit(X_train_temp, y_train_s)\n",
        "y_pred_test_s = pipe.predict(X_test_s)\n",
        "\n",
        "row = {'Case': 'Bigdata after scaling', 'R2 score': r2_score(y_test_s,y_pred_test_s),'MSE': mean_squared_error(y_test_s, y_pred_test_s), 'MAE': mean_absolute_error(y_test_s,y_pred_test_s) }\n",
        "result = pd.concat([result, pd.DataFrame([row])], ignore_index=True)"
      ]
    },
    {
      "cell_type": "code",
      "execution_count": 181,
      "metadata": {},
      "outputs": [
        {
          "data": {
            "text/html": [
              "<div>\n",
              "<style scoped>\n",
              "    .dataframe tbody tr th:only-of-type {\n",
              "        vertical-align: middle;\n",
              "    }\n",
              "\n",
              "    .dataframe tbody tr th {\n",
              "        vertical-align: top;\n",
              "    }\n",
              "\n",
              "    .dataframe thead th {\n",
              "        text-align: right;\n",
              "    }\n",
              "</style>\n",
              "<table border=\"1\" class=\"dataframe\">\n",
              "  <thead>\n",
              "    <tr style=\"text-align: right;\">\n",
              "      <th></th>\n",
              "      <th>Case</th>\n",
              "      <th>R2 score</th>\n",
              "      <th>MSE</th>\n",
              "      <th>MAE</th>\n",
              "    </tr>\n",
              "  </thead>\n",
              "  <tbody>\n",
              "    <tr>\n",
              "      <th>0</th>\n",
              "      <td>Bigdata before scaling</td>\n",
              "      <td>0.676043</td>\n",
              "      <td>0.174234</td>\n",
              "      <td>0.308205</td>\n",
              "    </tr>\n",
              "    <tr>\n",
              "      <th>1</th>\n",
              "      <td>Bigdata after scaling</td>\n",
              "      <td>0.676052</td>\n",
              "      <td>0.174229</td>\n",
              "      <td>0.308170</td>\n",
              "    </tr>\n",
              "    <tr>\n",
              "      <th>2</th>\n",
              "      <td>Smalldata before scaling</td>\n",
              "      <td>0.492671</td>\n",
              "      <td>0.347248</td>\n",
              "      <td>0.392459</td>\n",
              "    </tr>\n",
              "    <tr>\n",
              "      <th>3</th>\n",
              "      <td>Bigdata after scaling</td>\n",
              "      <td>0.491441</td>\n",
              "      <td>0.348090</td>\n",
              "      <td>0.393100</td>\n",
              "    </tr>\n",
              "  </tbody>\n",
              "</table>\n",
              "</div>"
            ],
            "text/plain": [
              "                       Case  R2 score       MSE       MAE\n",
              "0    Bigdata before scaling  0.676043  0.174234  0.308205\n",
              "1     Bigdata after scaling  0.676052  0.174229  0.308170\n",
              "2  Smalldata before scaling  0.492671  0.347248  0.392459\n",
              "3     Bigdata after scaling  0.491441  0.348090  0.393100"
            ]
          },
          "execution_count": 181,
          "metadata": {},
          "output_type": "execute_result"
        }
      ],
      "source": [
        "result"
      ]
    },
    {
      "attachments": {},
      "cell_type": "markdown",
      "metadata": {
        "id": "kPlDwZXoq4FB"
      },
      "source": [
        "Tìm bộ tham số tối ưu cho mô hình randomforest"
      ]
    },
    {
      "cell_type": "code",
      "execution_count": null,
      "metadata": {
        "id": "aABQi_MAq4FB"
      },
      "outputs": [],
      "source": [
        "from sklearn.model_selection import GridSearchCV"
      ]
    },
    {
      "cell_type": "code",
      "execution_count": null,
      "metadata": {
        "id": "KsHnmfFkq4FB",
        "outputId": "9de58a24-d744-4f09-d2ec-20f425126551"
      },
      "outputs": [
        {
          "data": {
            "text/html": [
              "<style>#sk-container-id-1 {color: black;background-color: white;}#sk-container-id-1 pre{padding: 0;}#sk-container-id-1 div.sk-toggleable {background-color: white;}#sk-container-id-1 label.sk-toggleable__label {cursor: pointer;display: block;width: 100%;margin-bottom: 0;padding: 0.3em;box-sizing: border-box;text-align: center;}#sk-container-id-1 label.sk-toggleable__label-arrow:before {content: \"▸\";float: left;margin-right: 0.25em;color: #696969;}#sk-container-id-1 label.sk-toggleable__label-arrow:hover:before {color: black;}#sk-container-id-1 div.sk-estimator:hover label.sk-toggleable__label-arrow:before {color: black;}#sk-container-id-1 div.sk-toggleable__content {max-height: 0;max-width: 0;overflow: hidden;text-align: left;background-color: #f0f8ff;}#sk-container-id-1 div.sk-toggleable__content pre {margin: 0.2em;color: black;border-radius: 0.25em;background-color: #f0f8ff;}#sk-container-id-1 input.sk-toggleable__control:checked~div.sk-toggleable__content {max-height: 200px;max-width: 100%;overflow: auto;}#sk-container-id-1 input.sk-toggleable__control:checked~label.sk-toggleable__label-arrow:before {content: \"▾\";}#sk-container-id-1 div.sk-estimator input.sk-toggleable__control:checked~label.sk-toggleable__label {background-color: #d4ebff;}#sk-container-id-1 div.sk-label input.sk-toggleable__control:checked~label.sk-toggleable__label {background-color: #d4ebff;}#sk-container-id-1 input.sk-hidden--visually {border: 0;clip: rect(1px 1px 1px 1px);clip: rect(1px, 1px, 1px, 1px);height: 1px;margin: -1px;overflow: hidden;padding: 0;position: absolute;width: 1px;}#sk-container-id-1 div.sk-estimator {font-family: monospace;background-color: #f0f8ff;border: 1px dotted black;border-radius: 0.25em;box-sizing: border-box;margin-bottom: 0.5em;}#sk-container-id-1 div.sk-estimator:hover {background-color: #d4ebff;}#sk-container-id-1 div.sk-parallel-item::after {content: \"\";width: 100%;border-bottom: 1px solid gray;flex-grow: 1;}#sk-container-id-1 div.sk-label:hover label.sk-toggleable__label {background-color: #d4ebff;}#sk-container-id-1 div.sk-serial::before {content: \"\";position: absolute;border-left: 1px solid gray;box-sizing: border-box;top: 0;bottom: 0;left: 50%;z-index: 0;}#sk-container-id-1 div.sk-serial {display: flex;flex-direction: column;align-items: center;background-color: white;padding-right: 0.2em;padding-left: 0.2em;position: relative;}#sk-container-id-1 div.sk-item {position: relative;z-index: 1;}#sk-container-id-1 div.sk-parallel {display: flex;align-items: stretch;justify-content: center;background-color: white;position: relative;}#sk-container-id-1 div.sk-item::before, #sk-container-id-1 div.sk-parallel-item::before {content: \"\";position: absolute;border-left: 1px solid gray;box-sizing: border-box;top: 0;bottom: 0;left: 50%;z-index: -1;}#sk-container-id-1 div.sk-parallel-item {display: flex;flex-direction: column;z-index: 1;position: relative;background-color: white;}#sk-container-id-1 div.sk-parallel-item:first-child::after {align-self: flex-end;width: 50%;}#sk-container-id-1 div.sk-parallel-item:last-child::after {align-self: flex-start;width: 50%;}#sk-container-id-1 div.sk-parallel-item:only-child::after {width: 0;}#sk-container-id-1 div.sk-dashed-wrapped {border: 1px dashed gray;margin: 0 0.4em 0.5em 0.4em;box-sizing: border-box;padding-bottom: 0.4em;background-color: white;}#sk-container-id-1 div.sk-label label {font-family: monospace;font-weight: bold;display: inline-block;line-height: 1.2em;}#sk-container-id-1 div.sk-label-container {text-align: center;}#sk-container-id-1 div.sk-container {/* jupyter's `normalize.less` sets `[hidden] { display: none; }` but bootstrap.min.css set `[hidden] { display: none !important; }` so we also need the `!important` here to be able to override the default hidden behavior on the sphinx rendered scikit-learn.org. See: https://github.com/scikit-learn/scikit-learn/issues/21755 */display: inline-block !important;position: relative;}#sk-container-id-1 div.sk-text-repr-fallback {display: none;}</style><div id=\"sk-container-id-1\" class=\"sk-top-container\"><div class=\"sk-text-repr-fallback\"><pre>GridSearchCV(cv=5,\n",
              "             estimator=Pipeline(steps=[(&#x27;scale&#x27;,\n",
              "                                        ColumnTransformer(remainder=&#x27;passthrough&#x27;,\n",
              "                                                          transformers=[(&#x27;scaler&#x27;,\n",
              "                                                                         MinMaxScaler(),\n",
              "                                                                         [1, 2,\n",
              "                                                                          3, 5,\n",
              "                                                                          6])])),\n",
              "                                       (&#x27;model&#x27;,\n",
              "                                        RandomForestRegressor(random_state=3))]),\n",
              "             param_grid={&#x27;model__max_depth&#x27;: [10, 15, 20],\n",
              "                         &#x27;model__max_features&#x27;: [0.5, 0.75, 1.0],\n",
              "                         &#x27;model__max_samples&#x27;: [0.5, 0.6, 0.7],\n",
              "                         &#x27;model__n_estimators&#x27;: [50, 100, 200, 300]},\n",
              "             scoring=&#x27;r2&#x27;)</pre><b>In a Jupyter environment, please rerun this cell to show the HTML representation or trust the notebook. <br />On GitHub, the HTML representation is unable to render, please try loading this page with nbviewer.org.</b></div><div class=\"sk-container\" hidden><div class=\"sk-item sk-dashed-wrapped\"><div class=\"sk-label-container\"><div class=\"sk-label sk-toggleable\"><input class=\"sk-toggleable__control sk-hidden--visually\" id=\"sk-estimator-id-1\" type=\"checkbox\" ><label for=\"sk-estimator-id-1\" class=\"sk-toggleable__label sk-toggleable__label-arrow\">GridSearchCV</label><div class=\"sk-toggleable__content\"><pre>GridSearchCV(cv=5,\n",
              "             estimator=Pipeline(steps=[(&#x27;scale&#x27;,\n",
              "                                        ColumnTransformer(remainder=&#x27;passthrough&#x27;,\n",
              "                                                          transformers=[(&#x27;scaler&#x27;,\n",
              "                                                                         MinMaxScaler(),\n",
              "                                                                         [1, 2,\n",
              "                                                                          3, 5,\n",
              "                                                                          6])])),\n",
              "                                       (&#x27;model&#x27;,\n",
              "                                        RandomForestRegressor(random_state=3))]),\n",
              "             param_grid={&#x27;model__max_depth&#x27;: [10, 15, 20],\n",
              "                         &#x27;model__max_features&#x27;: [0.5, 0.75, 1.0],\n",
              "                         &#x27;model__max_samples&#x27;: [0.5, 0.6, 0.7],\n",
              "                         &#x27;model__n_estimators&#x27;: [50, 100, 200, 300]},\n",
              "             scoring=&#x27;r2&#x27;)</pre></div></div></div><div class=\"sk-parallel\"><div class=\"sk-parallel-item\"><div class=\"sk-item\"><div class=\"sk-label-container\"><div class=\"sk-label sk-toggleable\"><input class=\"sk-toggleable__control sk-hidden--visually\" id=\"sk-estimator-id-2\" type=\"checkbox\" ><label for=\"sk-estimator-id-2\" class=\"sk-toggleable__label sk-toggleable__label-arrow\">estimator: Pipeline</label><div class=\"sk-toggleable__content\"><pre>Pipeline(steps=[(&#x27;scale&#x27;,\n",
              "                 ColumnTransformer(remainder=&#x27;passthrough&#x27;,\n",
              "                                   transformers=[(&#x27;scaler&#x27;, MinMaxScaler(),\n",
              "                                                  [1, 2, 3, 5, 6])])),\n",
              "                (&#x27;model&#x27;, RandomForestRegressor(random_state=3))])</pre></div></div></div><div class=\"sk-serial\"><div class=\"sk-item\"><div class=\"sk-serial\"><div class=\"sk-item sk-dashed-wrapped\"><div class=\"sk-label-container\"><div class=\"sk-label sk-toggleable\"><input class=\"sk-toggleable__control sk-hidden--visually\" id=\"sk-estimator-id-3\" type=\"checkbox\" ><label for=\"sk-estimator-id-3\" class=\"sk-toggleable__label sk-toggleable__label-arrow\">scale: ColumnTransformer</label><div class=\"sk-toggleable__content\"><pre>ColumnTransformer(remainder=&#x27;passthrough&#x27;,\n",
              "                  transformers=[(&#x27;scaler&#x27;, MinMaxScaler(), [1, 2, 3, 5, 6])])</pre></div></div></div><div class=\"sk-parallel\"><div class=\"sk-parallel-item\"><div class=\"sk-item\"><div class=\"sk-label-container\"><div class=\"sk-label sk-toggleable\"><input class=\"sk-toggleable__control sk-hidden--visually\" id=\"sk-estimator-id-4\" type=\"checkbox\" ><label for=\"sk-estimator-id-4\" class=\"sk-toggleable__label sk-toggleable__label-arrow\">scaler</label><div class=\"sk-toggleable__content\"><pre>[1, 2, 3, 5, 6]</pre></div></div></div><div class=\"sk-serial\"><div class=\"sk-item\"><div class=\"sk-estimator sk-toggleable\"><input class=\"sk-toggleable__control sk-hidden--visually\" id=\"sk-estimator-id-5\" type=\"checkbox\" ><label for=\"sk-estimator-id-5\" class=\"sk-toggleable__label sk-toggleable__label-arrow\">MinMaxScaler</label><div class=\"sk-toggleable__content\"><pre>MinMaxScaler()</pre></div></div></div></div></div></div><div class=\"sk-parallel-item\"><div class=\"sk-item\"><div class=\"sk-label-container\"><div class=\"sk-label sk-toggleable\"><input class=\"sk-toggleable__control sk-hidden--visually\" id=\"sk-estimator-id-6\" type=\"checkbox\" ><label for=\"sk-estimator-id-6\" class=\"sk-toggleable__label sk-toggleable__label-arrow\">remainder</label><div class=\"sk-toggleable__content\"><pre></pre></div></div></div><div class=\"sk-serial\"><div class=\"sk-item\"><div class=\"sk-estimator sk-toggleable\"><input class=\"sk-toggleable__control sk-hidden--visually\" id=\"sk-estimator-id-7\" type=\"checkbox\" ><label for=\"sk-estimator-id-7\" class=\"sk-toggleable__label sk-toggleable__label-arrow\">passthrough</label><div class=\"sk-toggleable__content\"><pre>passthrough</pre></div></div></div></div></div></div></div></div><div class=\"sk-item\"><div class=\"sk-estimator sk-toggleable\"><input class=\"sk-toggleable__control sk-hidden--visually\" id=\"sk-estimator-id-8\" type=\"checkbox\" ><label for=\"sk-estimator-id-8\" class=\"sk-toggleable__label sk-toggleable__label-arrow\">RandomForestRegressor</label><div class=\"sk-toggleable__content\"><pre>RandomForestRegressor(random_state=3)</pre></div></div></div></div></div></div></div></div></div></div></div></div>"
            ],
            "text/plain": [
              "GridSearchCV(cv=5,\n",
              "             estimator=Pipeline(steps=[('scale',\n",
              "                                        ColumnTransformer(remainder='passthrough',\n",
              "                                                          transformers=[('scaler',\n",
              "                                                                         MinMaxScaler(),\n",
              "                                                                         [1, 2,\n",
              "                                                                          3, 5,\n",
              "                                                                          6])])),\n",
              "                                       ('model',\n",
              "                                        RandomForestRegressor(random_state=3))]),\n",
              "             param_grid={'model__max_depth': [10, 15, 20],\n",
              "                         'model__max_features': [0.5, 0.75, 1.0],\n",
              "                         'model__max_samples': [0.5, 0.6, 0.7],\n",
              "                         'model__n_estimators': [50, 100, 200, 300]},\n",
              "             scoring='r2')"
            ]
          },
          "execution_count": 121,
          "metadata": {},
          "output_type": "execute_result"
        }
      ],
      "source": [
        "\n",
        "param_grid = {\n",
        "    'model__n_estimators': [50, 100, 200, 300],\n",
        "    'model__max_depth': [10, 15, 20],\n",
        "    'model__max_samples': [0.5, 0.6, 0.7],\n",
        "    'model__max_features': [0.5, 0.75, 1.0]\n",
        "}\n",
        "\n",
        "scaler = ColumnTransformer(transformers=[\n",
        "    ('scaler', MinMaxScaler(), [1,2,3,5,6])\n",
        "],remainder='passthrough')\n",
        "model = RandomForestRegressor(random_state=3)\n",
        "\n",
        "pipe = Pipeline([\n",
        "    ('scale',scaler),\n",
        "    ('model',model)\n",
        "])\n",
        "\n",
        "# Tìm kiếm siêu tham số tối ưu\n",
        "grid_search = GridSearchCV(pipe, param_grid=param_grid, cv=5, scoring='r2')\n",
        "grid_search.fit(X_train_b, y_train_b)\n"
      ]
    },
    {
      "cell_type": "code",
      "execution_count": null,
      "metadata": {
        "id": "-RWh5zq7q4FC",
        "outputId": "0897b54e-2c31-4f9b-f240-fd67430754f6"
      },
      "outputs": [
        {
          "name": "stdout",
          "output_type": "stream",
          "text": [
            "Best parameters: {'model__max_depth': 20, 'model__max_features': 0.5, 'model__max_samples': 0.7, 'model__n_estimators': 300}\n"
          ]
        }
      ],
      "source": [
        "\n",
        "best_params = grid_search.best_params_\n",
        "print(\"Best parameters:\", best_params)"
      ]
    },
    {
      "cell_type": "code",
      "execution_count": null,
      "metadata": {
        "id": "DSNY6z-Xq4FC",
        "outputId": "fa7d4770-b4af-4f89-a9bb-c3eee18b97e9"
      },
      "outputs": [
        {
          "name": "stdout",
          "output_type": "stream",
          "text": [
            "R2 score on test set: 0.7723388815370937\n",
            "R2 score on validation set: 0.7845746553114303\n",
            "Mean Squared Error test: 0.12244296650156361\n",
            "Mean Squared Error validation: 0.12804390037867033\n",
            "MAE test: 0.2155112349286557\n",
            "MAE val: 0.2297308414837872\n"
          ]
        }
      ],
      "source": [
        "scaler = ColumnTransformer(transformers=[\n",
        "    ('scaler', MinMaxScaler(), [1,2,3,5,6])\n",
        "],remainder='passthrough')\n",
        "model = RandomForestRegressor(n_estimators=300,\n",
        "                              random_state=3,\n",
        "                              max_samples=0.7,\n",
        "                              max_features=0.5,\n",
        "                              max_depth=20)\n",
        "\n",
        "pipe = Pipeline([\n",
        "    ('scale',scaler),\n",
        "    ('model',model)\n",
        "])\n",
        "pipe.fit(X_train_b, y_train_b)\n",
        "y_pred_val = pipe.predict(X_val_b)\n",
        "y_pred_test = pipe.predict(X_test_b)\n",
        "\n",
        "\n",
        "print(\"R2 score on test set:\", r2_score(y_test_b,y_pred_test))\n",
        "\n",
        "print(\"R2 score on validation set:\", r2_score(y_val_b,y_pred_val))\n",
        "\n",
        "print('Mean Squared Error test:', mean_squared_error(y_test_b, y_pred_test))\n",
        "\n",
        "print('Mean Squared Error validation:', mean_squared_error(y_val_b, y_pred_val))\n",
        "\n",
        "print('MAE test:',mean_absolute_error(y_test_b,y_pred_test))\n",
        "\n",
        "print('MAE val:',mean_absolute_error(y_val_b,y_pred_val))"
      ]
    },
    {
      "attachments": {},
      "cell_type": "markdown",
      "metadata": {
        "id": "1ryi6OB0q4FC"
      },
      "source": [
        "Thử mô hình tối ưu trên tập small"
      ]
    },
    {
      "cell_type": "code",
      "execution_count": null,
      "metadata": {
        "id": "iB97iawFq4FC",
        "outputId": "ee8a8ce3-8225-457e-fd62-f6a3de8c5554"
      },
      "outputs": [
        {
          "name": "stdout",
          "output_type": "stream",
          "text": [
            "R2 score on test set: 0.4238635819976978\n",
            "R2 score on validation set: 0.40657842509718023\n",
            "Mean Squared Error test: 0.38705741637053903\n",
            "Mean Squared Error validation: 0.4752568172937208\n",
            "MAE test: 0.4250936544236735\n",
            "MAE val: 0.45166882779423656\n"
          ]
        }
      ],
      "source": [
        "pipe.fit(X_train_s, y_train_s)\n",
        "y_pred_val_s = pipe.predict(X_val_s)\n",
        "y_pred_test_s = pipe.predict(X_test_s)\n",
        "\n",
        "\n",
        "print(\"R2 score on test set:\", r2_score(y_test_s,y_pred_test_s))\n",
        "\n",
        "print(\"R2 score on validation set:\", r2_score(y_val_s,y_pred_val_s))\n",
        "\n",
        "print('Mean Squared Error test:', mean_squared_error(y_test_s, y_pred_test_s))\n",
        "\n",
        "print('Mean Squared Error validation:', mean_squared_error(y_val_s, y_pred_val_s))\n",
        "\n",
        "print('MAE test:',mean_absolute_error(y_test_s,y_pred_test_s))\n",
        "\n",
        "print('MAE val:',mean_absolute_error(y_val_s,y_pred_val_s))"
      ]
    },
    {
      "attachments": {},
      "cell_type": "markdown",
      "metadata": {
        "id": "92TWf9hKq4FD"
      },
      "source": [
        "Tìm lại bộ tham số tối ưu cho tập small"
      ]
    },
    {
      "cell_type": "code",
      "execution_count": null,
      "metadata": {
        "id": "l2on3n8Qq4FD",
        "outputId": "c94bad8e-00e6-45a9-a90a-c439e9ea845e"
      },
      "outputs": [
        {
          "data": {
            "text/html": [
              "<div>\n",
              "<style scoped>\n",
              "    .dataframe tbody tr th:only-of-type {\n",
              "        vertical-align: middle;\n",
              "    }\n",
              "\n",
              "    .dataframe tbody tr th {\n",
              "        vertical-align: top;\n",
              "    }\n",
              "\n",
              "    .dataframe thead th {\n",
              "        text-align: right;\n",
              "    }\n",
              "</style>\n",
              "<table border=\"1\" class=\"dataframe\">\n",
              "  <thead>\n",
              "    <tr style=\"text-align: right;\">\n",
              "      <th></th>\n",
              "      <th>Company</th>\n",
              "      <th>Inches</th>\n",
              "      <th>RAM</th>\n",
              "      <th>Memory</th>\n",
              "      <th>OpSys</th>\n",
              "      <th>Weights</th>\n",
              "      <th>ppi</th>\n",
              "      <th>Gaming</th>\n",
              "      <th>Touchscreen</th>\n",
              "      <th>Cpu Brand</th>\n",
              "      <th>Gpu brand</th>\n",
              "    </tr>\n",
              "  </thead>\n",
              "  <tbody>\n",
              "    <tr>\n",
              "      <th>467</th>\n",
              "      <td>3</td>\n",
              "      <td>14.0</td>\n",
              "      <td>16</td>\n",
              "      <td>512</td>\n",
              "      <td>2</td>\n",
              "      <td>3.60</td>\n",
              "      <td>215.633854</td>\n",
              "      <td>0</td>\n",
              "      <td>1</td>\n",
              "      <td>5</td>\n",
              "      <td>1</td>\n",
              "    </tr>\n",
              "    <tr>\n",
              "      <th>211</th>\n",
              "      <td>2</td>\n",
              "      <td>13.3</td>\n",
              "      <td>16</td>\n",
              "      <td>512</td>\n",
              "      <td>2</td>\n",
              "      <td>2.40</td>\n",
              "      <td>165.632118</td>\n",
              "      <td>0</td>\n",
              "      <td>1</td>\n",
              "      <td>5</td>\n",
              "      <td>1</td>\n",
              "    </tr>\n",
              "    <tr>\n",
              "      <th>461</th>\n",
              "      <td>5</td>\n",
              "      <td>13.3</td>\n",
              "      <td>8</td>\n",
              "      <td>256</td>\n",
              "      <td>2</td>\n",
              "      <td>4.30</td>\n",
              "      <td>170.237254</td>\n",
              "      <td>0</td>\n",
              "      <td>0</td>\n",
              "      <td>5</td>\n",
              "      <td>1</td>\n",
              "    </tr>\n",
              "    <tr>\n",
              "      <th>177</th>\n",
              "      <td>8</td>\n",
              "      <td>17.3</td>\n",
              "      <td>16</td>\n",
              "      <td>1024</td>\n",
              "      <td>2</td>\n",
              "      <td>6.06</td>\n",
              "      <td>169.780899</td>\n",
              "      <td>1</td>\n",
              "      <td>0</td>\n",
              "      <td>5</td>\n",
              "      <td>2</td>\n",
              "    </tr>\n",
              "    <tr>\n",
              "      <th>687</th>\n",
              "      <td>7</td>\n",
              "      <td>13.1</td>\n",
              "      <td>4</td>\n",
              "      <td>500</td>\n",
              "      <td>2</td>\n",
              "      <td>8.20</td>\n",
              "      <td>97.709924</td>\n",
              "      <td>0</td>\n",
              "      <td>1</td>\n",
              "      <td>4</td>\n",
              "      <td>1</td>\n",
              "    </tr>\n",
              "    <tr>\n",
              "      <th>274</th>\n",
              "      <td>4</td>\n",
              "      <td>15.6</td>\n",
              "      <td>32</td>\n",
              "      <td>2048</td>\n",
              "      <td>2</td>\n",
              "      <td>5.06</td>\n",
              "      <td>141.211998</td>\n",
              "      <td>1</td>\n",
              "      <td>0</td>\n",
              "      <td>4</td>\n",
              "      <td>2</td>\n",
              "    </tr>\n",
              "    <tr>\n",
              "      <th>820</th>\n",
              "      <td>3</td>\n",
              "      <td>13.0</td>\n",
              "      <td>16</td>\n",
              "      <td>256</td>\n",
              "      <td>2</td>\n",
              "      <td>1.70</td>\n",
              "      <td>169.454398</td>\n",
              "      <td>0</td>\n",
              "      <td>0</td>\n",
              "      <td>5</td>\n",
              "      <td>1</td>\n",
              "    </tr>\n",
              "    <tr>\n",
              "      <th>465</th>\n",
              "      <td>5</td>\n",
              "      <td>14.0</td>\n",
              "      <td>24</td>\n",
              "      <td>1024</td>\n",
              "      <td>2</td>\n",
              "      <td>7.00</td>\n",
              "      <td>157.350512</td>\n",
              "      <td>0</td>\n",
              "      <td>0</td>\n",
              "      <td>0</td>\n",
              "      <td>0</td>\n",
              "    </tr>\n",
              "    <tr>\n",
              "      <th>222</th>\n",
              "      <td>7</td>\n",
              "      <td>17.0</td>\n",
              "      <td>16</td>\n",
              "      <td>2048</td>\n",
              "      <td>2</td>\n",
              "      <td>2.98</td>\n",
              "      <td>177.580821</td>\n",
              "      <td>0</td>\n",
              "      <td>0</td>\n",
              "      <td>5</td>\n",
              "      <td>1</td>\n",
              "    </tr>\n",
              "    <tr>\n",
              "      <th>694</th>\n",
              "      <td>2</td>\n",
              "      <td>16.0</td>\n",
              "      <td>16</td>\n",
              "      <td>512</td>\n",
              "      <td>2</td>\n",
              "      <td>7.43</td>\n",
              "      <td>141.509717</td>\n",
              "      <td>0</td>\n",
              "      <td>0</td>\n",
              "      <td>6</td>\n",
              "      <td>2</td>\n",
              "    </tr>\n",
              "  </tbody>\n",
              "</table>\n",
              "</div>"
            ],
            "text/plain": [
              "     Company  Inches  RAM  Memory  OpSys  Weights         ppi  Gaming   \n",
              "467        3    14.0   16     512      2     3.60  215.633854       0  \\\n",
              "211        2    13.3   16     512      2     2.40  165.632118       0   \n",
              "461        5    13.3    8     256      2     4.30  170.237254       0   \n",
              "177        8    17.3   16    1024      2     6.06  169.780899       1   \n",
              "687        7    13.1    4     500      2     8.20   97.709924       0   \n",
              "274        4    15.6   32    2048      2     5.06  141.211998       1   \n",
              "820        3    13.0   16     256      2     1.70  169.454398       0   \n",
              "465        5    14.0   24    1024      2     7.00  157.350512       0   \n",
              "222        7    17.0   16    2048      2     2.98  177.580821       0   \n",
              "694        2    16.0   16     512      2     7.43  141.509717       0   \n",
              "\n",
              "     Touchscreen  Cpu Brand  Gpu brand  \n",
              "467            1          5          1  \n",
              "211            1          5          1  \n",
              "461            0          5          1  \n",
              "177            0          5          2  \n",
              "687            1          4          1  \n",
              "274            0          4          2  \n",
              "820            0          5          1  \n",
              "465            0          0          0  \n",
              "222            0          5          1  \n",
              "694            0          6          2  "
            ]
          },
          "execution_count": 70,
          "metadata": {},
          "output_type": "execute_result"
        }
      ],
      "source": [
        "X_train_s.sample(10)"
      ]
    },
    {
      "cell_type": "code",
      "execution_count": null,
      "metadata": {
        "id": "7mYaOvjdq4FD",
        "outputId": "ff6a0370-b3b6-4fe3-da9c-49ab27984df3"
      },
      "outputs": [
        {
          "data": {
            "text/html": [
              "<style>#sk-container-id-2 {color: black;background-color: white;}#sk-container-id-2 pre{padding: 0;}#sk-container-id-2 div.sk-toggleable {background-color: white;}#sk-container-id-2 label.sk-toggleable__label {cursor: pointer;display: block;width: 100%;margin-bottom: 0;padding: 0.3em;box-sizing: border-box;text-align: center;}#sk-container-id-2 label.sk-toggleable__label-arrow:before {content: \"▸\";float: left;margin-right: 0.25em;color: #696969;}#sk-container-id-2 label.sk-toggleable__label-arrow:hover:before {color: black;}#sk-container-id-2 div.sk-estimator:hover label.sk-toggleable__label-arrow:before {color: black;}#sk-container-id-2 div.sk-toggleable__content {max-height: 0;max-width: 0;overflow: hidden;text-align: left;background-color: #f0f8ff;}#sk-container-id-2 div.sk-toggleable__content pre {margin: 0.2em;color: black;border-radius: 0.25em;background-color: #f0f8ff;}#sk-container-id-2 input.sk-toggleable__control:checked~div.sk-toggleable__content {max-height: 200px;max-width: 100%;overflow: auto;}#sk-container-id-2 input.sk-toggleable__control:checked~label.sk-toggleable__label-arrow:before {content: \"▾\";}#sk-container-id-2 div.sk-estimator input.sk-toggleable__control:checked~label.sk-toggleable__label {background-color: #d4ebff;}#sk-container-id-2 div.sk-label input.sk-toggleable__control:checked~label.sk-toggleable__label {background-color: #d4ebff;}#sk-container-id-2 input.sk-hidden--visually {border: 0;clip: rect(1px 1px 1px 1px);clip: rect(1px, 1px, 1px, 1px);height: 1px;margin: -1px;overflow: hidden;padding: 0;position: absolute;width: 1px;}#sk-container-id-2 div.sk-estimator {font-family: monospace;background-color: #f0f8ff;border: 1px dotted black;border-radius: 0.25em;box-sizing: border-box;margin-bottom: 0.5em;}#sk-container-id-2 div.sk-estimator:hover {background-color: #d4ebff;}#sk-container-id-2 div.sk-parallel-item::after {content: \"\";width: 100%;border-bottom: 1px solid gray;flex-grow: 1;}#sk-container-id-2 div.sk-label:hover label.sk-toggleable__label {background-color: #d4ebff;}#sk-container-id-2 div.sk-serial::before {content: \"\";position: absolute;border-left: 1px solid gray;box-sizing: border-box;top: 0;bottom: 0;left: 50%;z-index: 0;}#sk-container-id-2 div.sk-serial {display: flex;flex-direction: column;align-items: center;background-color: white;padding-right: 0.2em;padding-left: 0.2em;position: relative;}#sk-container-id-2 div.sk-item {position: relative;z-index: 1;}#sk-container-id-2 div.sk-parallel {display: flex;align-items: stretch;justify-content: center;background-color: white;position: relative;}#sk-container-id-2 div.sk-item::before, #sk-container-id-2 div.sk-parallel-item::before {content: \"\";position: absolute;border-left: 1px solid gray;box-sizing: border-box;top: 0;bottom: 0;left: 50%;z-index: -1;}#sk-container-id-2 div.sk-parallel-item {display: flex;flex-direction: column;z-index: 1;position: relative;background-color: white;}#sk-container-id-2 div.sk-parallel-item:first-child::after {align-self: flex-end;width: 50%;}#sk-container-id-2 div.sk-parallel-item:last-child::after {align-self: flex-start;width: 50%;}#sk-container-id-2 div.sk-parallel-item:only-child::after {width: 0;}#sk-container-id-2 div.sk-dashed-wrapped {border: 1px dashed gray;margin: 0 0.4em 0.5em 0.4em;box-sizing: border-box;padding-bottom: 0.4em;background-color: white;}#sk-container-id-2 div.sk-label label {font-family: monospace;font-weight: bold;display: inline-block;line-height: 1.2em;}#sk-container-id-2 div.sk-label-container {text-align: center;}#sk-container-id-2 div.sk-container {/* jupyter's `normalize.less` sets `[hidden] { display: none; }` but bootstrap.min.css set `[hidden] { display: none !important; }` so we also need the `!important` here to be able to override the default hidden behavior on the sphinx rendered scikit-learn.org. See: https://github.com/scikit-learn/scikit-learn/issues/21755 */display: inline-block !important;position: relative;}#sk-container-id-2 div.sk-text-repr-fallback {display: none;}</style><div id=\"sk-container-id-2\" class=\"sk-top-container\"><div class=\"sk-text-repr-fallback\"><pre>GridSearchCV(cv=5,\n",
              "             estimator=Pipeline(steps=[(&#x27;scale&#x27;,\n",
              "                                        ColumnTransformer(remainder=&#x27;passthrough&#x27;,\n",
              "                                                          transformers=[(&#x27;scaler&#x27;,\n",
              "                                                                         StandardScaler(),\n",
              "                                                                         [1, 2,\n",
              "                                                                          3, 5,\n",
              "                                                                          6])])),\n",
              "                                       (&#x27;model&#x27;,\n",
              "                                        RandomForestRegressor(random_state=3))]),\n",
              "             param_grid={&#x27;model__max_depth&#x27;: [10, 15, 20],\n",
              "                         &#x27;model__max_features&#x27;: [0.5, 0.75, 1.0],\n",
              "                         &#x27;model__max_samples&#x27;: [0.5, 0.6, 0.7],\n",
              "                         &#x27;model__n_estimators&#x27;: [50, 100, 200, 300]},\n",
              "             scoring=&#x27;r2&#x27;)</pre><b>In a Jupyter environment, please rerun this cell to show the HTML representation or trust the notebook. <br />On GitHub, the HTML representation is unable to render, please try loading this page with nbviewer.org.</b></div><div class=\"sk-container\" hidden><div class=\"sk-item sk-dashed-wrapped\"><div class=\"sk-label-container\"><div class=\"sk-label sk-toggleable\"><input class=\"sk-toggleable__control sk-hidden--visually\" id=\"sk-estimator-id-9\" type=\"checkbox\" ><label for=\"sk-estimator-id-9\" class=\"sk-toggleable__label sk-toggleable__label-arrow\">GridSearchCV</label><div class=\"sk-toggleable__content\"><pre>GridSearchCV(cv=5,\n",
              "             estimator=Pipeline(steps=[(&#x27;scale&#x27;,\n",
              "                                        ColumnTransformer(remainder=&#x27;passthrough&#x27;,\n",
              "                                                          transformers=[(&#x27;scaler&#x27;,\n",
              "                                                                         StandardScaler(),\n",
              "                                                                         [1, 2,\n",
              "                                                                          3, 5,\n",
              "                                                                          6])])),\n",
              "                                       (&#x27;model&#x27;,\n",
              "                                        RandomForestRegressor(random_state=3))]),\n",
              "             param_grid={&#x27;model__max_depth&#x27;: [10, 15, 20],\n",
              "                         &#x27;model__max_features&#x27;: [0.5, 0.75, 1.0],\n",
              "                         &#x27;model__max_samples&#x27;: [0.5, 0.6, 0.7],\n",
              "                         &#x27;model__n_estimators&#x27;: [50, 100, 200, 300]},\n",
              "             scoring=&#x27;r2&#x27;)</pre></div></div></div><div class=\"sk-parallel\"><div class=\"sk-parallel-item\"><div class=\"sk-item\"><div class=\"sk-label-container\"><div class=\"sk-label sk-toggleable\"><input class=\"sk-toggleable__control sk-hidden--visually\" id=\"sk-estimator-id-10\" type=\"checkbox\" ><label for=\"sk-estimator-id-10\" class=\"sk-toggleable__label sk-toggleable__label-arrow\">estimator: Pipeline</label><div class=\"sk-toggleable__content\"><pre>Pipeline(steps=[(&#x27;scale&#x27;,\n",
              "                 ColumnTransformer(remainder=&#x27;passthrough&#x27;,\n",
              "                                   transformers=[(&#x27;scaler&#x27;, StandardScaler(),\n",
              "                                                  [1, 2, 3, 5, 6])])),\n",
              "                (&#x27;model&#x27;, RandomForestRegressor(random_state=3))])</pre></div></div></div><div class=\"sk-serial\"><div class=\"sk-item\"><div class=\"sk-serial\"><div class=\"sk-item sk-dashed-wrapped\"><div class=\"sk-label-container\"><div class=\"sk-label sk-toggleable\"><input class=\"sk-toggleable__control sk-hidden--visually\" id=\"sk-estimator-id-11\" type=\"checkbox\" ><label for=\"sk-estimator-id-11\" class=\"sk-toggleable__label sk-toggleable__label-arrow\">scale: ColumnTransformer</label><div class=\"sk-toggleable__content\"><pre>ColumnTransformer(remainder=&#x27;passthrough&#x27;,\n",
              "                  transformers=[(&#x27;scaler&#x27;, StandardScaler(), [1, 2, 3, 5, 6])])</pre></div></div></div><div class=\"sk-parallel\"><div class=\"sk-parallel-item\"><div class=\"sk-item\"><div class=\"sk-label-container\"><div class=\"sk-label sk-toggleable\"><input class=\"sk-toggleable__control sk-hidden--visually\" id=\"sk-estimator-id-12\" type=\"checkbox\" ><label for=\"sk-estimator-id-12\" class=\"sk-toggleable__label sk-toggleable__label-arrow\">scaler</label><div class=\"sk-toggleable__content\"><pre>[1, 2, 3, 5, 6]</pre></div></div></div><div class=\"sk-serial\"><div class=\"sk-item\"><div class=\"sk-estimator sk-toggleable\"><input class=\"sk-toggleable__control sk-hidden--visually\" id=\"sk-estimator-id-13\" type=\"checkbox\" ><label for=\"sk-estimator-id-13\" class=\"sk-toggleable__label sk-toggleable__label-arrow\">StandardScaler</label><div class=\"sk-toggleable__content\"><pre>StandardScaler()</pre></div></div></div></div></div></div><div class=\"sk-parallel-item\"><div class=\"sk-item\"><div class=\"sk-label-container\"><div class=\"sk-label sk-toggleable\"><input class=\"sk-toggleable__control sk-hidden--visually\" id=\"sk-estimator-id-14\" type=\"checkbox\" ><label for=\"sk-estimator-id-14\" class=\"sk-toggleable__label sk-toggleable__label-arrow\">remainder</label><div class=\"sk-toggleable__content\"><pre></pre></div></div></div><div class=\"sk-serial\"><div class=\"sk-item\"><div class=\"sk-estimator sk-toggleable\"><input class=\"sk-toggleable__control sk-hidden--visually\" id=\"sk-estimator-id-15\" type=\"checkbox\" ><label for=\"sk-estimator-id-15\" class=\"sk-toggleable__label sk-toggleable__label-arrow\">passthrough</label><div class=\"sk-toggleable__content\"><pre>passthrough</pre></div></div></div></div></div></div></div></div><div class=\"sk-item\"><div class=\"sk-estimator sk-toggleable\"><input class=\"sk-toggleable__control sk-hidden--visually\" id=\"sk-estimator-id-16\" type=\"checkbox\" ><label for=\"sk-estimator-id-16\" class=\"sk-toggleable__label sk-toggleable__label-arrow\">RandomForestRegressor</label><div class=\"sk-toggleable__content\"><pre>RandomForestRegressor(random_state=3)</pre></div></div></div></div></div></div></div></div></div></div></div></div>"
            ],
            "text/plain": [
              "GridSearchCV(cv=5,\n",
              "             estimator=Pipeline(steps=[('scale',\n",
              "                                        ColumnTransformer(remainder='passthrough',\n",
              "                                                          transformers=[('scaler',\n",
              "                                                                         StandardScaler(),\n",
              "                                                                         [1, 2,\n",
              "                                                                          3, 5,\n",
              "                                                                          6])])),\n",
              "                                       ('model',\n",
              "                                        RandomForestRegressor(random_state=3))]),\n",
              "             param_grid={'model__max_depth': [10, 15, 20],\n",
              "                         'model__max_features': [0.5, 0.75, 1.0],\n",
              "                         'model__max_samples': [0.5, 0.6, 0.7],\n",
              "                         'model__n_estimators': [50, 100, 200, 300]},\n",
              "             scoring='r2')"
            ]
          },
          "execution_count": 45,
          "metadata": {},
          "output_type": "execute_result"
        }
      ],
      "source": [
        "\n",
        "param_grid = {\n",
        "    'model__n_estimators': [50, 100, 200, 300],\n",
        "    'model__max_depth': [10, 15, 20],\n",
        "    'model__max_samples': [0.5, 0.6, 0.7],\n",
        "    'model__max_features': [0.5, 0.75, 1.0]\n",
        "}\n",
        "\n",
        "scaler = ColumnTransformer(transformers=[\n",
        "    ('scaler', StandardScaler(), [1,2,3,5,6])\n",
        "],remainder='passthrough')\n",
        "model = RandomForestRegressor(random_state=3)\n",
        "\n",
        "pipe = Pipeline([\n",
        "    ('scale',scaler),\n",
        "    ('model',model)\n",
        "])\n",
        "\n",
        "# Tìm kiếm siêu tham số tối ưu\n",
        "grid_search = GridSearchCV(pipe, param_grid=param_grid, cv=5, scoring='r2')\n",
        "grid_search.fit(X_train_s, y_train_s)"
      ]
    },
    {
      "cell_type": "code",
      "execution_count": null,
      "metadata": {
        "id": "AZhUSO-qq4FD",
        "outputId": "eb919288-acb6-4cfb-c592-24404e80b6ca"
      },
      "outputs": [
        {
          "name": "stdout",
          "output_type": "stream",
          "text": [
            "Best parameters: {'model__max_depth': 10, 'model__max_features': 0.5, 'model__max_samples': 0.5, 'model__n_estimators': 200}\n"
          ]
        }
      ],
      "source": [
        "best_params = grid_search.best_params_\n",
        "print(\"Best parameters:\", best_params)"
      ]
    },
    {
      "cell_type": "code",
      "execution_count": null,
      "metadata": {
        "id": "kL1Gq1awq4FE",
        "outputId": "d582964b-db15-4753-d2df-8aa2ec613dab"
      },
      "outputs": [
        {
          "name": "stdout",
          "output_type": "stream",
          "text": [
            "R2 score on test set: 0.4138080817969123\n",
            "R2 score on validation set: 0.42085617702149425\n",
            "Mean Squared Error test: 0.3938128579750202\n",
            "Mean Squared Error validation: 0.4638221151786687\n",
            "MAE test: 0.4295526791666964\n",
            "MAE val: 0.45016990825652065\n"
          ]
        }
      ],
      "source": [
        "scaler = ColumnTransformer(transformers=[\n",
        "    ('scaler', StandardScaler(), [1,2,3,5,6])\n",
        "],remainder='passthrough')\n",
        "model = RandomForestRegressor(n_estimators=200,\n",
        "                              random_state=3,\n",
        "                              max_samples=0.5,\n",
        "                              max_features=0.5,\n",
        "                              max_depth=10)\n",
        "\n",
        "pipe = Pipeline([\n",
        "    ('scale',scaler),\n",
        "    ('model',model)\n",
        "])\n",
        "pipe.fit(X_train_s, y_train_s)\n",
        "y_pred_val_s = pipe.predict(X_val_s)\n",
        "y_pred_test_s = pipe.predict(X_test_s)\n",
        "\n",
        "\n",
        "print(\"R2 score on test set:\", r2_score(y_test_s,y_pred_test_s))\n",
        "\n",
        "print(\"R2 score on validation set:\", r2_score(y_val_s,y_pred_val_s))\n",
        "\n",
        "print('Mean Squared Error test:', mean_squared_error(y_test_s, y_pred_test_s))\n",
        "\n",
        "print('Mean Squared Error validation:', mean_squared_error(y_val_s, y_pred_val_s))\n",
        "\n",
        "print('MAE test:',mean_absolute_error(y_test_s,y_pred_test_s))\n",
        "\n",
        "print('MAE val:',mean_absolute_error(y_val_s,y_pred_val_s))"
      ]
    },
    {
      "attachments": {},
      "cell_type": "markdown",
      "metadata": {
        "id": "aHMw3wGCq4FE"
      },
      "source": [
        "Tìm bộ tham số tối ưu cho mô hình GradientBoosting"
      ]
    },
    {
      "cell_type": "code",
      "execution_count": null,
      "metadata": {
        "id": "UamPOEMsq4FE",
        "outputId": "b6ceb562-01bf-4e4e-e105-7bc38afa1860"
      },
      "outputs": [
        {
          "data": {
            "text/html": [
              "<style>#sk-container-id-3 {color: black;background-color: white;}#sk-container-id-3 pre{padding: 0;}#sk-container-id-3 div.sk-toggleable {background-color: white;}#sk-container-id-3 label.sk-toggleable__label {cursor: pointer;display: block;width: 100%;margin-bottom: 0;padding: 0.3em;box-sizing: border-box;text-align: center;}#sk-container-id-3 label.sk-toggleable__label-arrow:before {content: \"▸\";float: left;margin-right: 0.25em;color: #696969;}#sk-container-id-3 label.sk-toggleable__label-arrow:hover:before {color: black;}#sk-container-id-3 div.sk-estimator:hover label.sk-toggleable__label-arrow:before {color: black;}#sk-container-id-3 div.sk-toggleable__content {max-height: 0;max-width: 0;overflow: hidden;text-align: left;background-color: #f0f8ff;}#sk-container-id-3 div.sk-toggleable__content pre {margin: 0.2em;color: black;border-radius: 0.25em;background-color: #f0f8ff;}#sk-container-id-3 input.sk-toggleable__control:checked~div.sk-toggleable__content {max-height: 200px;max-width: 100%;overflow: auto;}#sk-container-id-3 input.sk-toggleable__control:checked~label.sk-toggleable__label-arrow:before {content: \"▾\";}#sk-container-id-3 div.sk-estimator input.sk-toggleable__control:checked~label.sk-toggleable__label {background-color: #d4ebff;}#sk-container-id-3 div.sk-label input.sk-toggleable__control:checked~label.sk-toggleable__label {background-color: #d4ebff;}#sk-container-id-3 input.sk-hidden--visually {border: 0;clip: rect(1px 1px 1px 1px);clip: rect(1px, 1px, 1px, 1px);height: 1px;margin: -1px;overflow: hidden;padding: 0;position: absolute;width: 1px;}#sk-container-id-3 div.sk-estimator {font-family: monospace;background-color: #f0f8ff;border: 1px dotted black;border-radius: 0.25em;box-sizing: border-box;margin-bottom: 0.5em;}#sk-container-id-3 div.sk-estimator:hover {background-color: #d4ebff;}#sk-container-id-3 div.sk-parallel-item::after {content: \"\";width: 100%;border-bottom: 1px solid gray;flex-grow: 1;}#sk-container-id-3 div.sk-label:hover label.sk-toggleable__label {background-color: #d4ebff;}#sk-container-id-3 div.sk-serial::before {content: \"\";position: absolute;border-left: 1px solid gray;box-sizing: border-box;top: 0;bottom: 0;left: 50%;z-index: 0;}#sk-container-id-3 div.sk-serial {display: flex;flex-direction: column;align-items: center;background-color: white;padding-right: 0.2em;padding-left: 0.2em;position: relative;}#sk-container-id-3 div.sk-item {position: relative;z-index: 1;}#sk-container-id-3 div.sk-parallel {display: flex;align-items: stretch;justify-content: center;background-color: white;position: relative;}#sk-container-id-3 div.sk-item::before, #sk-container-id-3 div.sk-parallel-item::before {content: \"\";position: absolute;border-left: 1px solid gray;box-sizing: border-box;top: 0;bottom: 0;left: 50%;z-index: -1;}#sk-container-id-3 div.sk-parallel-item {display: flex;flex-direction: column;z-index: 1;position: relative;background-color: white;}#sk-container-id-3 div.sk-parallel-item:first-child::after {align-self: flex-end;width: 50%;}#sk-container-id-3 div.sk-parallel-item:last-child::after {align-self: flex-start;width: 50%;}#sk-container-id-3 div.sk-parallel-item:only-child::after {width: 0;}#sk-container-id-3 div.sk-dashed-wrapped {border: 1px dashed gray;margin: 0 0.4em 0.5em 0.4em;box-sizing: border-box;padding-bottom: 0.4em;background-color: white;}#sk-container-id-3 div.sk-label label {font-family: monospace;font-weight: bold;display: inline-block;line-height: 1.2em;}#sk-container-id-3 div.sk-label-container {text-align: center;}#sk-container-id-3 div.sk-container {/* jupyter's `normalize.less` sets `[hidden] { display: none; }` but bootstrap.min.css set `[hidden] { display: none !important; }` so we also need the `!important` here to be able to override the default hidden behavior on the sphinx rendered scikit-learn.org. See: https://github.com/scikit-learn/scikit-learn/issues/21755 */display: inline-block !important;position: relative;}#sk-container-id-3 div.sk-text-repr-fallback {display: none;}</style><div id=\"sk-container-id-3\" class=\"sk-top-container\"><div class=\"sk-text-repr-fallback\"><pre>GridSearchCV(cv=5,\n",
              "             estimator=Pipeline(steps=[(&#x27;scale&#x27;,\n",
              "                                        ColumnTransformer(remainder=&#x27;passthrough&#x27;,\n",
              "                                                          transformers=[(&#x27;scaler&#x27;,\n",
              "                                                                         StandardScaler(),\n",
              "                                                                         [1, 2,\n",
              "                                                                          3, 5,\n",
              "                                                                          6])])),\n",
              "                                       (&#x27;model&#x27;,\n",
              "                                        GradientBoostingRegressor(random_state=3))]),\n",
              "             param_grid={&#x27;model__learning_rate&#x27;: [0.05, 0.1, 0.2],\n",
              "                         &#x27;model__max_depth&#x27;: [3, 4, 5, 6],\n",
              "                         &#x27;model__max_features&#x27;: [&#x27;auto&#x27;, &#x27;sqrt&#x27;, &#x27;log2&#x27;],\n",
              "                         &#x27;model__n_estimators&#x27;: [50, 100, 200, 300]},\n",
              "             scoring=&#x27;r2&#x27;)</pre><b>In a Jupyter environment, please rerun this cell to show the HTML representation or trust the notebook. <br />On GitHub, the HTML representation is unable to render, please try loading this page with nbviewer.org.</b></div><div class=\"sk-container\" hidden><div class=\"sk-item sk-dashed-wrapped\"><div class=\"sk-label-container\"><div class=\"sk-label sk-toggleable\"><input class=\"sk-toggleable__control sk-hidden--visually\" id=\"sk-estimator-id-17\" type=\"checkbox\" ><label for=\"sk-estimator-id-17\" class=\"sk-toggleable__label sk-toggleable__label-arrow\">GridSearchCV</label><div class=\"sk-toggleable__content\"><pre>GridSearchCV(cv=5,\n",
              "             estimator=Pipeline(steps=[(&#x27;scale&#x27;,\n",
              "                                        ColumnTransformer(remainder=&#x27;passthrough&#x27;,\n",
              "                                                          transformers=[(&#x27;scaler&#x27;,\n",
              "                                                                         StandardScaler(),\n",
              "                                                                         [1, 2,\n",
              "                                                                          3, 5,\n",
              "                                                                          6])])),\n",
              "                                       (&#x27;model&#x27;,\n",
              "                                        GradientBoostingRegressor(random_state=3))]),\n",
              "             param_grid={&#x27;model__learning_rate&#x27;: [0.05, 0.1, 0.2],\n",
              "                         &#x27;model__max_depth&#x27;: [3, 4, 5, 6],\n",
              "                         &#x27;model__max_features&#x27;: [&#x27;auto&#x27;, &#x27;sqrt&#x27;, &#x27;log2&#x27;],\n",
              "                         &#x27;model__n_estimators&#x27;: [50, 100, 200, 300]},\n",
              "             scoring=&#x27;r2&#x27;)</pre></div></div></div><div class=\"sk-parallel\"><div class=\"sk-parallel-item\"><div class=\"sk-item\"><div class=\"sk-label-container\"><div class=\"sk-label sk-toggleable\"><input class=\"sk-toggleable__control sk-hidden--visually\" id=\"sk-estimator-id-18\" type=\"checkbox\" ><label for=\"sk-estimator-id-18\" class=\"sk-toggleable__label sk-toggleable__label-arrow\">estimator: Pipeline</label><div class=\"sk-toggleable__content\"><pre>Pipeline(steps=[(&#x27;scale&#x27;,\n",
              "                 ColumnTransformer(remainder=&#x27;passthrough&#x27;,\n",
              "                                   transformers=[(&#x27;scaler&#x27;, StandardScaler(),\n",
              "                                                  [1, 2, 3, 5, 6])])),\n",
              "                (&#x27;model&#x27;, GradientBoostingRegressor(random_state=3))])</pre></div></div></div><div class=\"sk-serial\"><div class=\"sk-item\"><div class=\"sk-serial\"><div class=\"sk-item sk-dashed-wrapped\"><div class=\"sk-label-container\"><div class=\"sk-label sk-toggleable\"><input class=\"sk-toggleable__control sk-hidden--visually\" id=\"sk-estimator-id-19\" type=\"checkbox\" ><label for=\"sk-estimator-id-19\" class=\"sk-toggleable__label sk-toggleable__label-arrow\">scale: ColumnTransformer</label><div class=\"sk-toggleable__content\"><pre>ColumnTransformer(remainder=&#x27;passthrough&#x27;,\n",
              "                  transformers=[(&#x27;scaler&#x27;, StandardScaler(), [1, 2, 3, 5, 6])])</pre></div></div></div><div class=\"sk-parallel\"><div class=\"sk-parallel-item\"><div class=\"sk-item\"><div class=\"sk-label-container\"><div class=\"sk-label sk-toggleable\"><input class=\"sk-toggleable__control sk-hidden--visually\" id=\"sk-estimator-id-20\" type=\"checkbox\" ><label for=\"sk-estimator-id-20\" class=\"sk-toggleable__label sk-toggleable__label-arrow\">scaler</label><div class=\"sk-toggleable__content\"><pre>[1, 2, 3, 5, 6]</pre></div></div></div><div class=\"sk-serial\"><div class=\"sk-item\"><div class=\"sk-estimator sk-toggleable\"><input class=\"sk-toggleable__control sk-hidden--visually\" id=\"sk-estimator-id-21\" type=\"checkbox\" ><label for=\"sk-estimator-id-21\" class=\"sk-toggleable__label sk-toggleable__label-arrow\">StandardScaler</label><div class=\"sk-toggleable__content\"><pre>StandardScaler()</pre></div></div></div></div></div></div><div class=\"sk-parallel-item\"><div class=\"sk-item\"><div class=\"sk-label-container\"><div class=\"sk-label sk-toggleable\"><input class=\"sk-toggleable__control sk-hidden--visually\" id=\"sk-estimator-id-22\" type=\"checkbox\" ><label for=\"sk-estimator-id-22\" class=\"sk-toggleable__label sk-toggleable__label-arrow\">remainder</label><div class=\"sk-toggleable__content\"><pre></pre></div></div></div><div class=\"sk-serial\"><div class=\"sk-item\"><div class=\"sk-estimator sk-toggleable\"><input class=\"sk-toggleable__control sk-hidden--visually\" id=\"sk-estimator-id-23\" type=\"checkbox\" ><label for=\"sk-estimator-id-23\" class=\"sk-toggleable__label sk-toggleable__label-arrow\">passthrough</label><div class=\"sk-toggleable__content\"><pre>passthrough</pre></div></div></div></div></div></div></div></div><div class=\"sk-item\"><div class=\"sk-estimator sk-toggleable\"><input class=\"sk-toggleable__control sk-hidden--visually\" id=\"sk-estimator-id-24\" type=\"checkbox\" ><label for=\"sk-estimator-id-24\" class=\"sk-toggleable__label sk-toggleable__label-arrow\">GradientBoostingRegressor</label><div class=\"sk-toggleable__content\"><pre>GradientBoostingRegressor(random_state=3)</pre></div></div></div></div></div></div></div></div></div></div></div></div>"
            ],
            "text/plain": [
              "GridSearchCV(cv=5,\n",
              "             estimator=Pipeline(steps=[('scale',\n",
              "                                        ColumnTransformer(remainder='passthrough',\n",
              "                                                          transformers=[('scaler',\n",
              "                                                                         StandardScaler(),\n",
              "                                                                         [1, 2,\n",
              "                                                                          3, 5,\n",
              "                                                                          6])])),\n",
              "                                       ('model',\n",
              "                                        GradientBoostingRegressor(random_state=3))]),\n",
              "             param_grid={'model__learning_rate': [0.05, 0.1, 0.2],\n",
              "                         'model__max_depth': [3, 4, 5, 6],\n",
              "                         'model__max_features': ['auto', 'sqrt', 'log2'],\n",
              "                         'model__n_estimators': [50, 100, 200, 300]},\n",
              "             scoring='r2')"
            ]
          },
          "execution_count": 76,
          "metadata": {},
          "output_type": "execute_result"
        }
      ],
      "source": [
        "import warnings\n",
        "warnings.filterwarnings('ignore')\n",
        "param_grid = {\n",
        "    'model__n_estimators': [50, 100, 200, 300],\n",
        "    'model__max_depth': [3, 4, 5, 6],\n",
        "    'model__learning_rate': [0.05, 0.1, 0.2],\n",
        "    'model__max_features': ['auto', 'sqrt', 'log2']\n",
        "}\n",
        "\n",
        "scaler = ColumnTransformer(transformers=[\n",
        "    ('scaler', StandardScaler(), [1, 2, 3, 5, 6])\n",
        "],remainder='passthrough')\n",
        "\n",
        "model = GradientBoostingRegressor(random_state=3)\n",
        "\n",
        "pipe = Pipeline([\n",
        "    ('scale',scaler),\n",
        "    ('model',model)\n",
        "])\n",
        "\n",
        "\n",
        "grid_search = GridSearchCV(pipe, param_grid=param_grid, cv=5, scoring='r2')\n",
        "grid_search.fit(X_train_b, y_train_b)"
      ]
    },
    {
      "cell_type": "code",
      "execution_count": null,
      "metadata": {
        "id": "kqrg26asq4FF",
        "outputId": "8c2f6b19-e955-4ecf-8bf6-f8748663a062"
      },
      "outputs": [
        {
          "name": "stdout",
          "output_type": "stream",
          "text": [
            "Best parameters: {'model__learning_rate': 0.2, 'model__max_depth': 6, 'model__max_features': 'sqrt', 'model__n_estimators': 300}\n"
          ]
        }
      ],
      "source": [
        "best_params = grid_search.best_params_\n",
        "print(\"Best parameters:\", best_params)"
      ]
    },
    {
      "cell_type": "code",
      "execution_count": null,
      "metadata": {
        "id": "kVRmSC19q4FF",
        "outputId": "c4543321-eff3-4cac-e287-f313ae1d7503"
      },
      "outputs": [
        {
          "name": "stdout",
          "output_type": "stream",
          "text": [
            "R2 score on test set: 0.74875556471775\n",
            "R2 score on validation set: 0.7731883863895014\n",
            "Mean Squared Error test: 0.13512678045628232\n",
            "Mean Squared Error validation: 0.13481163834205578\n",
            "MAE test: 0.22477654134481412\n",
            "MAE val: 0.2337553988945015\n"
          ]
        }
      ],
      "source": [
        "scaler = ColumnTransformer(transformers=[\n",
        "    ('scaler', StandardScaler(), [1,2,3,5,6])\n",
        "],remainder='passthrough')\n",
        "model = GradientBoostingRegressor(n_estimators = 300, random_state=3, learning_rate = 0.2, max_depth = 6, max_features = 'sqrt')\n",
        "\n",
        "pipe = Pipeline([\n",
        "    ('scale',scaler),\n",
        "    ('model',model)\n",
        "])\n",
        "pipe.fit(X_train_b, y_train_b)\n",
        "y_pred_val_b = pipe.predict(X_val_b)\n",
        "y_pred_test_b = pipe.predict(X_test_b)\n",
        "\n",
        "\n",
        "print(\"R2 score on test set:\", r2_score(y_test_b,y_pred_test_b))\n",
        "\n",
        "print(\"R2 score on validation set:\", r2_score(y_val_b,y_pred_val_b))\n",
        "\n",
        "print('Mean Squared Error test:', mean_squared_error(y_test_b, y_pred_test_b))\n",
        "\n",
        "print('Mean Squared Error validation:', mean_squared_error(y_val_b, y_pred_val_b))\n",
        "\n",
        "print('MAE test:',mean_absolute_error(y_test_b,y_pred_test_b))\n",
        "\n",
        "print('MAE val:',mean_absolute_error(y_val_b,y_pred_val_b))"
      ]
    },
    {
      "attachments": {},
      "cell_type": "markdown",
      "metadata": {
        "id": "d9Y4n5sYq4FF"
      },
      "source": [
        "Thử tìm tham số tối ưu trên tập small"
      ]
    },
    {
      "cell_type": "code",
      "execution_count": null,
      "metadata": {
        "id": "FL63bddPq4FF",
        "outputId": "efc932e0-675d-44e2-b62a-cc60337d74ed"
      },
      "outputs": [
        {
          "data": {
            "text/html": [
              "<style>#sk-container-id-4 {color: black;background-color: white;}#sk-container-id-4 pre{padding: 0;}#sk-container-id-4 div.sk-toggleable {background-color: white;}#sk-container-id-4 label.sk-toggleable__label {cursor: pointer;display: block;width: 100%;margin-bottom: 0;padding: 0.3em;box-sizing: border-box;text-align: center;}#sk-container-id-4 label.sk-toggleable__label-arrow:before {content: \"▸\";float: left;margin-right: 0.25em;color: #696969;}#sk-container-id-4 label.sk-toggleable__label-arrow:hover:before {color: black;}#sk-container-id-4 div.sk-estimator:hover label.sk-toggleable__label-arrow:before {color: black;}#sk-container-id-4 div.sk-toggleable__content {max-height: 0;max-width: 0;overflow: hidden;text-align: left;background-color: #f0f8ff;}#sk-container-id-4 div.sk-toggleable__content pre {margin: 0.2em;color: black;border-radius: 0.25em;background-color: #f0f8ff;}#sk-container-id-4 input.sk-toggleable__control:checked~div.sk-toggleable__content {max-height: 200px;max-width: 100%;overflow: auto;}#sk-container-id-4 input.sk-toggleable__control:checked~label.sk-toggleable__label-arrow:before {content: \"▾\";}#sk-container-id-4 div.sk-estimator input.sk-toggleable__control:checked~label.sk-toggleable__label {background-color: #d4ebff;}#sk-container-id-4 div.sk-label input.sk-toggleable__control:checked~label.sk-toggleable__label {background-color: #d4ebff;}#sk-container-id-4 input.sk-hidden--visually {border: 0;clip: rect(1px 1px 1px 1px);clip: rect(1px, 1px, 1px, 1px);height: 1px;margin: -1px;overflow: hidden;padding: 0;position: absolute;width: 1px;}#sk-container-id-4 div.sk-estimator {font-family: monospace;background-color: #f0f8ff;border: 1px dotted black;border-radius: 0.25em;box-sizing: border-box;margin-bottom: 0.5em;}#sk-container-id-4 div.sk-estimator:hover {background-color: #d4ebff;}#sk-container-id-4 div.sk-parallel-item::after {content: \"\";width: 100%;border-bottom: 1px solid gray;flex-grow: 1;}#sk-container-id-4 div.sk-label:hover label.sk-toggleable__label {background-color: #d4ebff;}#sk-container-id-4 div.sk-serial::before {content: \"\";position: absolute;border-left: 1px solid gray;box-sizing: border-box;top: 0;bottom: 0;left: 50%;z-index: 0;}#sk-container-id-4 div.sk-serial {display: flex;flex-direction: column;align-items: center;background-color: white;padding-right: 0.2em;padding-left: 0.2em;position: relative;}#sk-container-id-4 div.sk-item {position: relative;z-index: 1;}#sk-container-id-4 div.sk-parallel {display: flex;align-items: stretch;justify-content: center;background-color: white;position: relative;}#sk-container-id-4 div.sk-item::before, #sk-container-id-4 div.sk-parallel-item::before {content: \"\";position: absolute;border-left: 1px solid gray;box-sizing: border-box;top: 0;bottom: 0;left: 50%;z-index: -1;}#sk-container-id-4 div.sk-parallel-item {display: flex;flex-direction: column;z-index: 1;position: relative;background-color: white;}#sk-container-id-4 div.sk-parallel-item:first-child::after {align-self: flex-end;width: 50%;}#sk-container-id-4 div.sk-parallel-item:last-child::after {align-self: flex-start;width: 50%;}#sk-container-id-4 div.sk-parallel-item:only-child::after {width: 0;}#sk-container-id-4 div.sk-dashed-wrapped {border: 1px dashed gray;margin: 0 0.4em 0.5em 0.4em;box-sizing: border-box;padding-bottom: 0.4em;background-color: white;}#sk-container-id-4 div.sk-label label {font-family: monospace;font-weight: bold;display: inline-block;line-height: 1.2em;}#sk-container-id-4 div.sk-label-container {text-align: center;}#sk-container-id-4 div.sk-container {/* jupyter's `normalize.less` sets `[hidden] { display: none; }` but bootstrap.min.css set `[hidden] { display: none !important; }` so we also need the `!important` here to be able to override the default hidden behavior on the sphinx rendered scikit-learn.org. See: https://github.com/scikit-learn/scikit-learn/issues/21755 */display: inline-block !important;position: relative;}#sk-container-id-4 div.sk-text-repr-fallback {display: none;}</style><div id=\"sk-container-id-4\" class=\"sk-top-container\"><div class=\"sk-text-repr-fallback\"><pre>GridSearchCV(cv=5,\n",
              "             estimator=Pipeline(steps=[(&#x27;scale&#x27;,\n",
              "                                        ColumnTransformer(remainder=&#x27;passthrough&#x27;,\n",
              "                                                          transformers=[(&#x27;scaler&#x27;,\n",
              "                                                                         StandardScaler(),\n",
              "                                                                         [1, 2,\n",
              "                                                                          3, 5,\n",
              "                                                                          6])])),\n",
              "                                       (&#x27;model&#x27;,\n",
              "                                        GradientBoostingRegressor(random_state=3))]),\n",
              "             param_grid={&#x27;model__learning_rate&#x27;: [0.05, 0.1, 0.2],\n",
              "                         &#x27;model__max_depth&#x27;: [3, 4, 5, 6],\n",
              "                         &#x27;model__max_features&#x27;: [&#x27;auto&#x27;, &#x27;sqrt&#x27;, &#x27;log2&#x27;],\n",
              "                         &#x27;model__n_estimators&#x27;: [50, 100, 200, 300]},\n",
              "             scoring=&#x27;r2&#x27;)</pre><b>In a Jupyter environment, please rerun this cell to show the HTML representation or trust the notebook. <br />On GitHub, the HTML representation is unable to render, please try loading this page with nbviewer.org.</b></div><div class=\"sk-container\" hidden><div class=\"sk-item sk-dashed-wrapped\"><div class=\"sk-label-container\"><div class=\"sk-label sk-toggleable\"><input class=\"sk-toggleable__control sk-hidden--visually\" id=\"sk-estimator-id-25\" type=\"checkbox\" ><label for=\"sk-estimator-id-25\" class=\"sk-toggleable__label sk-toggleable__label-arrow\">GridSearchCV</label><div class=\"sk-toggleable__content\"><pre>GridSearchCV(cv=5,\n",
              "             estimator=Pipeline(steps=[(&#x27;scale&#x27;,\n",
              "                                        ColumnTransformer(remainder=&#x27;passthrough&#x27;,\n",
              "                                                          transformers=[(&#x27;scaler&#x27;,\n",
              "                                                                         StandardScaler(),\n",
              "                                                                         [1, 2,\n",
              "                                                                          3, 5,\n",
              "                                                                          6])])),\n",
              "                                       (&#x27;model&#x27;,\n",
              "                                        GradientBoostingRegressor(random_state=3))]),\n",
              "             param_grid={&#x27;model__learning_rate&#x27;: [0.05, 0.1, 0.2],\n",
              "                         &#x27;model__max_depth&#x27;: [3, 4, 5, 6],\n",
              "                         &#x27;model__max_features&#x27;: [&#x27;auto&#x27;, &#x27;sqrt&#x27;, &#x27;log2&#x27;],\n",
              "                         &#x27;model__n_estimators&#x27;: [50, 100, 200, 300]},\n",
              "             scoring=&#x27;r2&#x27;)</pre></div></div></div><div class=\"sk-parallel\"><div class=\"sk-parallel-item\"><div class=\"sk-item\"><div class=\"sk-label-container\"><div class=\"sk-label sk-toggleable\"><input class=\"sk-toggleable__control sk-hidden--visually\" id=\"sk-estimator-id-26\" type=\"checkbox\" ><label for=\"sk-estimator-id-26\" class=\"sk-toggleable__label sk-toggleable__label-arrow\">estimator: Pipeline</label><div class=\"sk-toggleable__content\"><pre>Pipeline(steps=[(&#x27;scale&#x27;,\n",
              "                 ColumnTransformer(remainder=&#x27;passthrough&#x27;,\n",
              "                                   transformers=[(&#x27;scaler&#x27;, StandardScaler(),\n",
              "                                                  [1, 2, 3, 5, 6])])),\n",
              "                (&#x27;model&#x27;, GradientBoostingRegressor(random_state=3))])</pre></div></div></div><div class=\"sk-serial\"><div class=\"sk-item\"><div class=\"sk-serial\"><div class=\"sk-item sk-dashed-wrapped\"><div class=\"sk-label-container\"><div class=\"sk-label sk-toggleable\"><input class=\"sk-toggleable__control sk-hidden--visually\" id=\"sk-estimator-id-27\" type=\"checkbox\" ><label for=\"sk-estimator-id-27\" class=\"sk-toggleable__label sk-toggleable__label-arrow\">scale: ColumnTransformer</label><div class=\"sk-toggleable__content\"><pre>ColumnTransformer(remainder=&#x27;passthrough&#x27;,\n",
              "                  transformers=[(&#x27;scaler&#x27;, StandardScaler(), [1, 2, 3, 5, 6])])</pre></div></div></div><div class=\"sk-parallel\"><div class=\"sk-parallel-item\"><div class=\"sk-item\"><div class=\"sk-label-container\"><div class=\"sk-label sk-toggleable\"><input class=\"sk-toggleable__control sk-hidden--visually\" id=\"sk-estimator-id-28\" type=\"checkbox\" ><label for=\"sk-estimator-id-28\" class=\"sk-toggleable__label sk-toggleable__label-arrow\">scaler</label><div class=\"sk-toggleable__content\"><pre>[1, 2, 3, 5, 6]</pre></div></div></div><div class=\"sk-serial\"><div class=\"sk-item\"><div class=\"sk-estimator sk-toggleable\"><input class=\"sk-toggleable__control sk-hidden--visually\" id=\"sk-estimator-id-29\" type=\"checkbox\" ><label for=\"sk-estimator-id-29\" class=\"sk-toggleable__label sk-toggleable__label-arrow\">StandardScaler</label><div class=\"sk-toggleable__content\"><pre>StandardScaler()</pre></div></div></div></div></div></div><div class=\"sk-parallel-item\"><div class=\"sk-item\"><div class=\"sk-label-container\"><div class=\"sk-label sk-toggleable\"><input class=\"sk-toggleable__control sk-hidden--visually\" id=\"sk-estimator-id-30\" type=\"checkbox\" ><label for=\"sk-estimator-id-30\" class=\"sk-toggleable__label sk-toggleable__label-arrow\">remainder</label><div class=\"sk-toggleable__content\"><pre></pre></div></div></div><div class=\"sk-serial\"><div class=\"sk-item\"><div class=\"sk-estimator sk-toggleable\"><input class=\"sk-toggleable__control sk-hidden--visually\" id=\"sk-estimator-id-31\" type=\"checkbox\" ><label for=\"sk-estimator-id-31\" class=\"sk-toggleable__label sk-toggleable__label-arrow\">passthrough</label><div class=\"sk-toggleable__content\"><pre>passthrough</pre></div></div></div></div></div></div></div></div><div class=\"sk-item\"><div class=\"sk-estimator sk-toggleable\"><input class=\"sk-toggleable__control sk-hidden--visually\" id=\"sk-estimator-id-32\" type=\"checkbox\" ><label for=\"sk-estimator-id-32\" class=\"sk-toggleable__label sk-toggleable__label-arrow\">GradientBoostingRegressor</label><div class=\"sk-toggleable__content\"><pre>GradientBoostingRegressor(random_state=3)</pre></div></div></div></div></div></div></div></div></div></div></div></div>"
            ],
            "text/plain": [
              "GridSearchCV(cv=5,\n",
              "             estimator=Pipeline(steps=[('scale',\n",
              "                                        ColumnTransformer(remainder='passthrough',\n",
              "                                                          transformers=[('scaler',\n",
              "                                                                         StandardScaler(),\n",
              "                                                                         [1, 2,\n",
              "                                                                          3, 5,\n",
              "                                                                          6])])),\n",
              "                                       ('model',\n",
              "                                        GradientBoostingRegressor(random_state=3))]),\n",
              "             param_grid={'model__learning_rate': [0.05, 0.1, 0.2],\n",
              "                         'model__max_depth': [3, 4, 5, 6],\n",
              "                         'model__max_features': ['auto', 'sqrt', 'log2'],\n",
              "                         'model__n_estimators': [50, 100, 200, 300]},\n",
              "             scoring='r2')"
            ]
          },
          "execution_count": 79,
          "metadata": {},
          "output_type": "execute_result"
        }
      ],
      "source": [
        "import warnings\n",
        "warnings.filterwarnings('ignore')\n",
        "param_grid = {\n",
        "    'model__n_estimators': [50, 100, 200, 300],\n",
        "    'model__max_depth': [3, 4, 5, 6],\n",
        "    'model__learning_rate': [0.05, 0.1, 0.2],\n",
        "    'model__max_features': ['auto', 'sqrt', 'log2']\n",
        "}\n",
        "\n",
        "scaler = ColumnTransformer(transformers=[\n",
        "    ('scaler', StandardScaler(), [1, 2, 3, 5, 6])\n",
        "],remainder='passthrough')\n",
        "\n",
        "model = GradientBoostingRegressor(random_state=3)\n",
        "\n",
        "pipe = Pipeline([\n",
        "    ('scale',scaler),\n",
        "    ('model',model)\n",
        "])\n",
        "\n",
        "\n",
        "grid_search = GridSearchCV(pipe, param_grid=param_grid, cv=5, scoring='r2')\n",
        "grid_search.fit(X_train_s, y_train_s)"
      ]
    },
    {
      "cell_type": "code",
      "execution_count": null,
      "metadata": {
        "id": "mjUE7Iukq4FG",
        "outputId": "b41a47d6-e196-41bd-ddab-7f19ce7e415a"
      },
      "outputs": [
        {
          "name": "stdout",
          "output_type": "stream",
          "text": [
            "Best parameters: {'model__learning_rate': 0.05, 'model__max_depth': 3, 'model__max_features': 'sqrt', 'model__n_estimators': 100}\n"
          ]
        }
      ],
      "source": [
        "best_params = grid_search.best_params_\n",
        "print(\"Best parameters:\", best_params)"
      ]
    },
    {
      "cell_type": "code",
      "execution_count": null,
      "metadata": {
        "id": "IRFihumyq4FG",
        "outputId": "d64ce267-2939-4869-f3d8-810ae5f63821"
      },
      "outputs": [
        {
          "name": "stdout",
          "output_type": "stream",
          "text": [
            "R2 score on test set: 0.44710109333152137\n",
            "R2 score on validation set: 0.444788155973609\n",
            "Mean Squared Error test: 0.37144609443581816\n",
            "Mean Squared Error validation: 0.4446555788925807\n",
            "MAE test: 0.41872532159419473\n",
            "MAE val: 0.4528848647330122\n"
          ]
        }
      ],
      "source": [
        "scaler = ColumnTransformer(transformers=[\n",
        "    ('scaler', StandardScaler(), [1,2,3,5,6])\n",
        "],remainder='passthrough')\n",
        "model = GradientBoostingRegressor(n_estimators = 100, random_state=3, learning_rate = 0.05, max_depth = 3, max_features = 'sqrt')\n",
        "\n",
        "pipe = Pipeline([\n",
        "    ('scale',scaler),\n",
        "    ('model',model)\n",
        "])\n",
        "pipe.fit(X_train_s, y_train_s)\n",
        "y_pred_val_s = pipe.predict(X_val_s)\n",
        "y_pred_test_s = pipe.predict(X_test_s)\n",
        "\n",
        "\n",
        "print(\"R2 score on test set:\", r2_score(y_test_s,y_pred_test_s))\n",
        "\n",
        "print(\"R2 score on validation set:\", r2_score(y_val_s,y_pred_val_s))\n",
        "\n",
        "print('Mean Squared Error test:', mean_squared_error(y_test_s, y_pred_test_s))\n",
        "\n",
        "print('Mean Squared Error validation:', mean_squared_error(y_val_s, y_pred_val_s))\n",
        "\n",
        "print('MAE test:',mean_absolute_error(y_test_s,y_pred_test_s))\n",
        "\n",
        "print('MAE val:',mean_absolute_error(y_val_s,y_pred_val_s))"
      ]
    },
    {
      "attachments": {},
      "cell_type": "markdown",
      "metadata": {
        "id": "M2B5bv--q4FG"
      },
      "source": [
        "Thử mô hình trên với tập big"
      ]
    },
    {
      "cell_type": "code",
      "execution_count": null,
      "metadata": {
        "id": "B6FeUtKeq4FH",
        "outputId": "8c68aa62-619c-4aaa-e221-b5d04f07672e"
      },
      "outputs": [
        {
          "name": "stdout",
          "output_type": "stream",
          "text": [
            "R2 score on test set: 0.6470888679052588\n",
            "R2 score on validation set: 0.6350501276316405\n",
            "Mean Squared Error test: 0.1898061742683827\n",
            "Mean Squared Error validation: 0.21691786158354529\n",
            "MAE test: 0.32895234051513444\n",
            "MAE val: 0.34839884437958346\n"
          ]
        }
      ],
      "source": [
        "scaler = ColumnTransformer(transformers=[\n",
        "    ('scaler', StandardScaler(), [1,2,3,5,6])\n",
        "],remainder='passthrough')\n",
        "model = GradientBoostingRegressor(n_estimators = 100, random_state=3, learning_rate = 0.05, max_depth = 3, max_features = 'sqrt')\n",
        "\n",
        "pipe = Pipeline([\n",
        "    ('scale',scaler),\n",
        "    ('model',model)\n",
        "])\n",
        "pipe.fit(X_train_b, y_train_b)\n",
        "y_pred_val_b = pipe.predict(X_val_b)\n",
        "y_pred_test_b = pipe.predict(X_test_b)\n",
        "\n",
        "\n",
        "print(\"R2 score on test set:\", r2_score(y_test_b,y_pred_test_b))\n",
        "\n",
        "print(\"R2 score on validation set:\", r2_score(y_val_b,y_pred_val_b))\n",
        "\n",
        "print('Mean Squared Error test:', mean_squared_error(y_test_b, y_pred_test_b))\n",
        "\n",
        "print('Mean Squared Error validation:', mean_squared_error(y_val_b, y_pred_val_b))\n",
        "\n",
        "print('MAE test:',mean_absolute_error(y_test_b,y_pred_test_b))\n",
        "\n",
        "print('MAE val:',mean_absolute_error(y_val_b,y_pred_val_b))"
      ]
    },
    {
      "cell_type": "code",
      "execution_count": null,
      "metadata": {
        "id": "MrQs8RRvq4FH",
        "outputId": "28468ef1-0d52-47f2-f5f9-bc9dbfd08e94"
      },
      "outputs": [
        {
          "name": "stdout",
          "output_type": "stream",
          "text": [
            "R2 score 0.7464622283554512\n",
            "MAE 0.25883277624162176\n",
            "Mean Squared Error: 0.14353983967608863\n"
          ]
        }
      ],
      "source": [
        "from sklearn.ensemble import VotingRegressor,StackingRegressor\n",
        "from sklearn.pipeline import make_pipeline\n",
        "\n",
        "# step1 = ColumnTransformer(transformers=[\n",
        "#     ('col_tnf',OneHotEncoder(sparse=False,drop='first'),[0,4,9,10]),\n",
        "#     # ('scaler', StandardScaler(), [2,3,6]),\n",
        "#     # ('scaler2', MinMaxScaler(), [1,5]),\n",
        "# ],remainder='passthrough')\n",
        "\n",
        "rf = RandomForestRegressor(n_estimators=350,random_state=3,max_samples=0.6,max_features=0.75,max_depth=15,bootstrap=True)\n",
        "gbdt = GradientBoostingRegressor(n_estimators=100,max_features=0.5)\n",
        "xgb = XGBRegressor(n_estimators=25,learning_rate=0.3,max_depth=5)\n",
        "et = ExtraTreesRegressor(n_estimators=100,random_state=3,max_samples=0.6,max_features=0.75,max_depth=10,bootstrap=True)\n",
        "\n",
        "# pipeline_rf = make_pipeline(StandardScaler(), rf)\n",
        "# pipeline_gbdt = make_pipeline(StandardScaler(), gbdt)\n",
        "# pipeline_et = make_pipeline(StandardScaler(), et)\n",
        "\n",
        "step2 = VotingRegressor([('rf', pipeline_rf), ('gbdt', pipeline_gbdt), ('et', pipeline_et)], weights=[5, 1, 1])\n",
        "\n",
        "pipe = Pipeline([\n",
        "    # ('step1',step1),\n",
        "    ('step2',step2)\n",
        "])\n",
        "\n",
        "pipe.fit(X_train,y_train)\n",
        "\n",
        "y_pred = pipe.predict(X_test)\n",
        "\n",
        "print('R2 score',r2_score(y_test,y_pred))\n",
        "print('MAE',mean_absolute_error(y_test,y_pred))\n",
        "mse = mean_squared_error(y_test, y_pred)\n",
        "\n",
        "print('Mean Squared Error:', mse)\n"
      ]
    }
  ],
  "metadata": {
    "colab": {
      "provenance": []
    },
    "kernelspec": {
      "display_name": ".venv",
      "language": "python",
      "name": "python3"
    },
    "language_info": {
      "codemirror_mode": {
        "name": "ipython",
        "version": 3
      },
      "file_extension": ".py",
      "mimetype": "text/x-python",
      "name": "python",
      "nbconvert_exporter": "python",
      "pygments_lexer": "ipython3",
      "version": "3.10.0"
    },
    "orig_nbformat": 4
  },
  "nbformat": 4,
  "nbformat_minor": 0
}
